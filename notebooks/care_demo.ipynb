{
 "cells": [
  {
   "cell_type": "markdown",
   "metadata": {},
   "source": [
    "# CARE demo\n",
    "\n",
    "This notebook covers the essential steps to generate and manipulate the chemical reaction networks (CRNs) generated with CARE. `care.scripts.care_run` is the recommended script to get the CRN, here we will cover the steps performed by the main script.\n",
    "Install Ipykernel to run the notebook!"
   ]
  },
  {
   "cell_type": "markdown",
   "metadata": {},
   "source": [
    "## Generate Chemical Reaction Network: Blueprint\n",
    "\n",
    "To generate the CRN blueprint, i.e. the listing of the potential speciues and elementary reactions in your CRN, use the function `gen_blueprint`."
   ]
  },
  {
   "cell_type": "code",
   "execution_count": null,
   "metadata": {},
   "outputs": [],
   "source": [
    "from care.crn.utils.blueprint import gen_blueprint"
   ]
  },
  {
   "cell_type": "markdown",
   "metadata": {},
   "source": [
    "### Inputs\n",
    "\n",
    "*ncc* = Network Carbon Cutoff, i.e. the maximum number of C atoms that a species in the CRN can possess  <br>\n",
    "*noc* = Network Oxygen Cutoff, i.e. the maximum number of C atoms that a species in the CRN can possess  <br>\n",
    "*cyclic* = Whether species with rings are should be included or not (True/False)  <br>\n",
    "*additional_rxns* = Whether to include intramolecular rearrengments (True/False)  <br>\n",
    "*electro* = Whether to generate a CRN in electrochemical conditions"
   ]
  },
  {
   "cell_type": "code",
   "execution_count": null,
   "metadata": {},
   "outputs": [],
   "source": [
    "ncc, noc = 2, 2\n",
    "cyclic = False\n",
    "rearr_rxns = True\n",
    "electro = False\n",
    "\n",
    "inters, rxns = gen_blueprint(ncc=ncc, \n",
    "                             noc=noc, \n",
    "                             cyclic=cyclic, \n",
    "                             additional_rxns=rearr_rxns, \n",
    "                             electro=electro)"
   ]
  },
  {
   "cell_type": "markdown",
   "metadata": {},
   "source": [
    "The output of the function is a dict of `Intermediate` objects indexed by their InChIKey (plus a phase-identifier character, '*' for adsorbed, 'g' for gas-phase), and a list of `ElementaryReaction` instances."
   ]
  },
  {
   "cell_type": "code",
   "execution_count": null,
   "metadata": {},
   "outputs": [],
   "source": [
    "print(type(inters)) \n",
    "print(type(inters[list(inters.keys())[0]]))\n",
    "print(type(rxns))\n",
    "print(type(rxns[0]))"
   ]
  },
  {
   "cell_type": "markdown",
   "metadata": {},
   "source": [
    "### ElementaryReaction"
   ]
  },
  {
   "cell_type": "code",
   "execution_count": null,
   "metadata": {},
   "outputs": [],
   "source": [
    "r = rxns[10]\n",
    "print(r)\n",
    "print(type(r))\n",
    "print(r.repr_hr)  # human-readable text representation\n",
    "print(r.r_type)  # bond-breaking type\n",
    "print(r.components)  # components of the reaction\n",
    "print(r.stoic)  # Soichiometry coefficients in the reaction\n",
    "print(r.e_rxn)  # reaction energy\n",
    "print(r.e_act)  # reaction activation energy"
   ]
  },
  {
   "cell_type": "markdown",
   "metadata": {},
   "source": [
    "Observations:\n",
    "- species participating in the elementary reactions are displayed as '[n]InChIKeyP(formula)', with 'n' being the absolute stoichiometric coefficient, formula being the brute formula provided by ASE, and 'P' after the InChIKey being a phase-identifier character, '*' for adsorbed species and 'g' for gaseous species. <br>\n",
    "- ``e_rxn`` and ``e_act`` are ``None`` as these reaction properties still have to be evaluated\n"
   ]
  },
  {
   "cell_type": "markdown",
   "metadata": {},
   "source": [
    "### Intermediate"
   ]
  },
  {
   "cell_type": "code",
   "execution_count": null,
   "metadata": {},
   "outputs": [],
   "source": [
    "a = inters['WSFSSNUMVMOOMR-UHFFFAOYSA-N*']\n",
    "print(a)\n",
    "print(type(a))\n",
    "print(a.phase)\n",
    "print(a.smiles)\n",
    "print(a.ref_energy())\n",
    "print(a.is_closed_shell())\n",
    "print(a['C'])  # number of carbon atoms\n",
    "print(a['H'])  # number of hydrogen atoms\n",
    "print(a['O'])  # number of oxygen atoms\n",
    "print(a.ads_configs)  # adsorption configurations"
   ]
  },
  {
   "cell_type": "markdown",
   "metadata": {},
   "source": [
    "Observations:"
   ]
  },
  {
   "cell_type": "markdown",
   "metadata": {},
   "source": [
    "## Generate Chemical Reaction Network: Energy Evaluation\n",
    "\n",
    "Now we define the surface under study and evaluate the energies of intermediates and reactions"
   ]
  },
  {
   "cell_type": "markdown",
   "metadata": {},
   "source": [
    "## Load catalyst surface"
   ]
  },
  {
   "cell_type": "code",
   "execution_count": null,
   "metadata": {},
   "outputs": [],
   "source": [
    "from care.utils import load_surface\n",
    "from care import DB_PATH"
   ]
  },
  {
   "cell_type": "code",
   "execution_count": null,
   "metadata": {},
   "outputs": [],
   "source": [
    "metal = 'Ru'\n",
    "facet = '0001'  # hkl notation\n",
    "\n",
    "surface = load_surface(DB_PATH, metal, facet)"
   ]
  },
  {
   "cell_type": "code",
   "execution_count": null,
   "metadata": {},
   "outputs": [],
   "source": [
    "print(surface)\n",
    "print(type(surface))\n",
    "print(surface.slab)  # ASE Atoms object\n",
    "print(surface.active_sites)  # Obtained with ACAT"
   ]
  },
  {
   "cell_type": "markdown",
   "metadata": {},
   "source": [
    "## Load Intermediate energy evaluator\n",
    "\n",
    "In our case, this is GAME-Net-UQ, a graph neural network trained on DFT data."
   ]
  },
  {
   "cell_type": "code",
   "execution_count": null,
   "metadata": {},
   "outputs": [],
   "source": [
    "from care.gnn.interface import GameNetUQInter\n",
    "from care import MODEL_PATH"
   ]
  },
  {
   "cell_type": "code",
   "execution_count": null,
   "metadata": {},
   "outputs": [],
   "source": [
    "gnn = GameNetUQInter(MODEL_PATH, surface, None)  # None for the ase db (will be available later)"
   ]
  },
  {
   "cell_type": "markdown",
   "metadata": {},
   "source": [
    "## Evaluate intermediates (Sequential)"
   ]
  },
  {
   "cell_type": "markdown",
   "metadata": {},
   "source": [
    "We have 171 intermediates to evaluate. We will show here the sequential evaluation to give an idea. If you want to get the same output faster, skip this section and run the parallel evaluation.\n",
    "The sequential evaluation takes some time for this case, in case you do not want to wait, reduce ncc and noc. "
   ]
  },
  {
   "cell_type": "code",
   "execution_count": null,
   "metadata": {},
   "outputs": [],
   "source": [
    "inters_evaluated = {}\n",
    "for k, inter in inters.items():\n",
    "    print(inter)\n",
    "    inters_evaluated[k] = gnn.eval(inter)\n",
    "    print(inters_evaluated[k].ads_configs)\n",
    "    "
   ]
  },
  {
   "cell_type": "code",
   "execution_count": null,
   "metadata": {},
   "outputs": [],
   "source": [
    "inters_evaluated['LHGAACIDYUKUTF-UHFFFAOYSA-N*'].ads_configs"
   ]
  },
  {
   "cell_type": "markdown",
   "metadata": {},
   "source": [
    "## Evaluate intermediates (parallel execution)\n",
    "\n",
    "As the sequential execution could take some time, here we show how parallel execution across multiple CPU core can speed up the evaluation process. In our case, the parallel execution took 1min 51s, while the sequential 20 minutes (10x speed up with 24 cores)."
   ]
  },
  {
   "cell_type": "code",
   "execution_count": null,
   "metadata": {},
   "outputs": [],
   "source": [
    "import multiprocessing as mp\n",
    "import resource\n",
    "\n",
    "_, hard = resource.getrlimit(resource.RLIMIT_NOFILE)\n",
    "resource.setrlimit(resource.RLIMIT_NOFILE, (hard, hard))"
   ]
  },
  {
   "cell_type": "code",
   "execution_count": null,
   "metadata": {},
   "outputs": [],
   "source": [
    "gnn = GameNetUQInter(MODEL_PATH, surface, None)\n",
    "\n",
    "tasks = [(gnn, inter) for inter in inters.values()]\n",
    "print(f'{len(tasks)} intermediates to evaluate')"
   ]
  },
  {
   "cell_type": "code",
   "execution_count": null,
   "metadata": {},
   "outputs": [],
   "source": [
    "def mp_func(gnn, inter):\n",
    "    print(inter.code + ' \\n')\n",
    "    return gnn.eval(inter)"
   ]
  },
  {
   "cell_type": "code",
   "execution_count": null,
   "metadata": {},
   "outputs": [],
   "source": [
    "with mp.Pool(mp.cpu_count()) as pool:\n",
    "    results = pool.starmap(mp_func, tasks)\n",
    "\n",
    "inters_evaluated = {i.code: i for i in results}"
   ]
  },
  {
   "cell_type": "markdown",
   "metadata": {},
   "source": [
    "## Evaluate reaction properties"
   ]
  },
  {
   "cell_type": "code",
   "execution_count": null,
   "metadata": {},
   "outputs": [],
   "source": [
    "from care.gnn.interface import GameNetUQRxn"
   ]
  },
  {
   "cell_type": "code",
   "execution_count": null,
   "metadata": {},
   "outputs": [],
   "source": [
    "gnn_rxn = GameNetUQRxn(MODEL_PATH, inters)\n",
    "print(gnn_rxn)\n",
    "\n",
    "print(f'{len(rxns)} reactions to evaluate')"
   ]
  },
  {
   "cell_type": "code",
   "execution_count": null,
   "metadata": {},
   "outputs": [],
   "source": [
    "rxns_evaluated = []\n",
    "for rxn in rxns:\n",
    "    print(rxn)\n",
    "    rxns_evaluated.append(gnn_rxn.eval(rxn))\n",
    "\n",
    "rxns_evaluated = sorted(rxns_evaluated)"
   ]
  },
  {
   "cell_type": "code",
   "execution_count": null,
   "metadata": {},
   "outputs": [],
   "source": [
    "import random\n",
    "idx = random.randint(0, len(rxns_evaluated))\n",
    "\n",
    "step_example = rxns_evaluated[idx]\n",
    "print(step_example, step_example.r_type)\n",
    "print(step_example.e_rxn)\n",
    "print(step_example.e_act)"
   ]
  },
  {
   "cell_type": "markdown",
   "metadata": {},
   "source": [
    "## Explore the CRN\n",
    "\n",
    "Everything is now evaluated. Let's assemble the reaction network.\n"
   ]
  },
  {
   "cell_type": "code",
   "execution_count": null,
   "metadata": {},
   "outputs": [],
   "source": [
    "from care import ReactionNetwork"
   ]
  },
  {
   "cell_type": "code",
   "execution_count": null,
   "metadata": {},
   "outputs": [],
   "source": [
    "crn = ReactionNetwork(intermediates=inters_evaluated, \n",
    "                      reactions=rxns_evaluated,\n",
    "                      surface=surface,\n",
    "                      ncc=ncc,\n",
    "                        noc=noc,\n",
    "                      type='thermal')\n",
    "\n",
    "print(crn)"
   ]
  },
  {
   "cell_type": "markdown",
   "metadata": {},
   "source": [
    "Get top-10 hubs in the network"
   ]
  },
  {
   "cell_type": "code",
   "execution_count": null,
   "metadata": {},
   "outputs": [],
   "source": [
    "crn.get_hubs(10)"
   ]
  },
  {
   "cell_type": "markdown",
   "metadata": {},
   "source": [
    "Iterate through elementary steps"
   ]
  },
  {
   "cell_type": "code",
   "execution_count": null,
   "metadata": {},
   "outputs": [],
   "source": [
    "for step in crn:\n",
    "    print(step.repr_hr, step.e_rxn, step.e_act)"
   ]
  },
  {
   "cell_type": "markdown",
   "metadata": {},
   "source": [
    "Visualize elementary steps"
   ]
  },
  {
   "cell_type": "code",
   "execution_count": null,
   "metadata": {},
   "outputs": [],
   "source": [
    "crn.visualize_reaction(42, show_uncertainty=True)"
   ]
  },
  {
   "cell_type": "markdown",
   "metadata": {},
   "source": [
    "Get number of closed-shell molecules in the network"
   ]
  },
  {
   "cell_type": "code",
   "execution_count": null,
   "metadata": {},
   "outputs": [],
   "source": [
    "crn.num_closed_shell_mols"
   ]
  },
  {
   "cell_type": "markdown",
   "metadata": {},
   "source": [
    "Visualize intermediates"
   ]
  },
  {
   "cell_type": "code",
   "execution_count": null,
   "metadata": {},
   "outputs": [],
   "source": [
    "crn.visualize_intermediate('VRLIPUYDFBXWCH-UHFFFAOYSA-N*')"
   ]
  },
  {
   "cell_type": "markdown",
   "metadata": {},
   "source": [
    "Visualize graph representation"
   ]
  },
  {
   "cell_type": "code",
   "execution_count": null,
   "metadata": {},
   "outputs": [],
   "source": [
    "from care.gnn.graph_tools import graph_plotter\n",
    "\n",
    "# Soon! Need to change a function!\n",
    "\n",
    "inter = crn.intermediates['VRLIPUYDFBXWCH-UHFFFAOYSA-N*']\n",
    "inter.ads_configs['21']['pyg']"
   ]
  }
 ],
 "metadata": {
  "kernelspec": {
   "display_name": "carep",
   "language": "python",
   "name": "python3"
  },
  "language_info": {
   "codemirror_mode": {
    "name": "ipython",
    "version": 3
   },
   "file_extension": ".py",
   "mimetype": "text/x-python",
   "name": "python",
   "nbconvert_exporter": "python",
   "pygments_lexer": "ipython3",
   "version": "3.11.9"
  }
 },
 "nbformat": 4,
 "nbformat_minor": 2
}
