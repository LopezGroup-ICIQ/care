{
 "cells": [
  {
   "cell_type": "markdown",
   "metadata": {},
   "source": [
    "# CARE demo\n",
    "\n",
    "This notebook covers the essential steps to generate and manipulate the chemical reaction networks (CRNs) generated with CARE. `care.scripts.care_run` is the recommended script to get the CRN, here we will cover the steps performed by the main script.\n",
    "Install Ipykernel to run the notebook!"
   ]
  },
  {
   "cell_type": "markdown",
   "metadata": {},
   "source": [
    "## Generate Chemical Reaction Network: Blueprint\n",
    "\n",
    "To generate the CRN blueprint, i.e. the listing of the potential speciues and elementary reactions in your CRN, use the function `gen_blueprint`."
   ]
  },
  {
   "cell_type": "code",
   "execution_count": null,
   "metadata": {},
   "outputs": [],
   "source": [
    "from care.crn.utils.blueprint import gen_blueprint"
   ]
  },
  {
   "cell_type": "markdown",
   "metadata": {},
   "source": [
    "### Inputs\n",
    "\n",
    "*ncc* = Network Carbon Cutoff, i.e. the maximum number of C atoms that a species in the CRN can possess  <br>\n",
    "*noc* = Network Oxygen Cutoff, i.e. the maximum number of C atoms that a species in the CRN can possess  <br>\n",
    "*cyclic* = Whether species with rings are should be included or not (True/False)  <br>\n",
    "*additional_rxns* = Whether to include intramolecular rearrengments (True/False)  <br>\n",
    "*electro* = Whether to generate a CRN in electrochemical conditions"
   ]
  },
  {
   "cell_type": "code",
   "execution_count": null,
   "metadata": {},
   "outputs": [],
   "source": [
    "ncc, noc = 2, 2\n",
    "cyclic = False\n",
    "rearr_rxns = True\n",
    "electro = False\n",
    "\n",
    "inters, rxns = gen_blueprint(ncc=ncc, \n",
    "                             noc=noc, \n",
    "                             cyclic=cyclic, \n",
    "                             additional_rxns=rearr_rxns, \n",
    "                             electro=electro)"
   ]
  },
  {
   "cell_type": "markdown",
   "metadata": {},
   "source": [
    "The output of the function is a dict of `Intermediate` objects indexed by their InChIKey (plus a phase-identifier character, '*' for adsorbed, 'g' for gas-phase), and a list of `ElementaryReaction` instances."
   ]
  },
  {
   "cell_type": "code",
   "execution_count": null,
   "metadata": {},
   "outputs": [],
   "source": [
    "print(type(inters)) \n",
    "print(type(inters[list(inters.keys())[0]]))\n",
    "print(type(rxns))\n",
    "print(type(rxns[0]))"
   ]
  },
  {
   "cell_type": "markdown",
   "metadata": {},
   "source": [
    "### ElementaryReaction"
   ]
  },
  {
   "cell_type": "code",
   "execution_count": null,
   "metadata": {},
   "outputs": [],
   "source": [
    "r = rxns[10]\n",
    "print(r)\n",
    "print(type(r))\n",
    "print(r.repr_hr)  # human-readable text representation\n",
    "print(r.r_type)  # bond-breaking type\n",
    "print(r.components)  # components of the reaction\n",
    "print(r.stoic)  # Soichiometry coefficients in the reaction\n",
    "print(r.e_rxn)  # reaction energy\n",
    "print(r.e_act)  # reaction activation energy"
   ]
  },
  {
   "cell_type": "markdown",
   "metadata": {},
   "source": [
    "Observations:"
   ]
  },
  {
   "cell_type": "markdown",
   "metadata": {},
   "source": [
    "### Intermediate"
   ]
  },
  {
   "cell_type": "code",
   "execution_count": null,
   "metadata": {},
   "outputs": [],
   "source": [
    "a = inters['WSFSSNUMVMOOMR-UHFFFAOYSA-N*']\n",
    "print(a)\n",
    "print(type(a))\n",
    "print(a.smiles)\n",
    "print(a.ref_energy())\n",
    "print(a.is_closed_shell())\n",
    "print(a['C'])  # number of carbon atoms\n",
    "print(a['H'])  # number of hydrogen atoms\n",
    "print(a['O'])  # number of oxygen atoms"
   ]
  },
  {
   "cell_type": "markdown",
   "metadata": {},
   "source": [
    "Observations:"
   ]
  },
  {
   "cell_type": "markdown",
   "metadata": {},
   "source": [
    "## Generate Chemical Reaction Network: Energy Evaluation\n",
    "\n",
    "TODO"
   ]
  },
  {
   "cell_type": "markdown",
   "metadata": {},
   "source": [
    "## Explore the CRN\n",
    "\n",
    "TODO"
   ]
  },
  {
   "cell_type": "markdown",
   "metadata": {},
   "source": []
  }
 ],
 "metadata": {
  "kernelspec": {
   "display_name": "carep",
   "language": "python",
   "name": "python3"
  },
  "language_info": {
   "codemirror_mode": {
    "name": "ipython",
    "version": 3
   },
   "file_extension": ".py",
   "mimetype": "text/x-python",
   "name": "python",
   "nbconvert_exporter": "python",
   "pygments_lexer": "ipython3",
   "version": "3.11.9"
  }
 },
 "nbformat": 4,
 "nbformat_minor": 2
}
