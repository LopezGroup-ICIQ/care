{
 "cells": [
  {
   "cell_type": "code",
   "execution_count": 1,
   "metadata": {},
   "outputs": [
    {
     "name": "stdout",
     "output_type": "stream",
     "text": [
      "ReactionNetwork(47 intermediates, 25 closed-shell molecules, 86 reactions)\n",
      "\n"
     ]
    }
   ],
   "source": [
    "import os\n",
    "import pickle\n",
    "\n",
    "from GAMERNet.rnet.networks.networks import ReactionNetwork, is_closed_shell\n",
    "from rdkit.Chem import rdDetermineBonds\n",
    "from ase.visualize import view\n",
    "\n",
    "with open('../scripts/ethylene/rxn_net.pkl', 'rb') as pickle_file:\n",
    "    content = pickle.load(pickle_file)  # dict of elementary reactions\n",
    "\n",
    "rxn_net = ReactionNetwork().from_dict(content)\n",
    "print(rxn_net)"
   ]
  },
  {
   "cell_type": "code",
   "execution_count": 2,
   "metadata": {},
   "outputs": [
    {
     "name": "stdout",
     "output_type": "stream",
     "text": [
      "[C3H6O+Co48<->C3H5O+H, C3H6O+Co48<->C3H5O+H, C3H6O+Co48<->C3H5O+H, C3H6O+Co48<->C3H5O+H, C3H5O+Co48<->H+C3H4O, C3H5O+Co48<->H+C3H4O, C3H5O+Co48<->C3H4O+H, C3H5O+Co48<->C3H4O+H, C3H5O+Co48<->H+C3H4O, C3H5O+Co48<->H+C3H4O, C3H5O+Co48<->H+C3H4O, C3H5O+Co48<->C3H4O+H, C3H5O+Co48<->H+C3H4O, C3H5O+Co48<->H+C3H4O, C3H5O+Co48<->H+C3H4O, C3H5O+Co48<->C3H4O+H, C3H5O+Co48<->H+C3H4O, C3H5O+Co48<->H+C3H4O, Co48+C3H4O<->C3H3O+H, Co48+C3H4O<->H+C3H3O, Co48+C3H4O<->H+C3H3O, C3H4O+Co48<->C3H3O+H, C3H4O+Co48<->H+C3H3O, C3H4O+Co48<->H+C3H3O, C3H4O+Co48<->H+C3H3O, C3H4O+Co48<->H+C3H3O, C3H4O+Co48<->H+C3H3O, C3H4O+Co48<->H+C3H3O, C3H4O+Co48<->H+C3H3O, C3H4O+Co48<->H+C3H3O, C3H4O+Co48<->H+C3H3O, C3H4O+Co48<->H+C3H3O, C3H4O+Co48<->H+C3H3O, C3H4O+Co48<->H+C3H3O, C3H4O+Co48<->H+C3H3O, C3H4O+Co48<->H+C3H3O, C3H4O+Co48<->H+C3H3O, C3H4O+Co48<->H+C3H3O, C3H4O+Co48<->H+C3H3O, C3H4O+Co48<->H+C3H3O, C3H4O+Co48<->H+C3H3O, C3H4O+Co48<->H+C3H3O, C3H3O+Co48<->C3H2O+H, C3H3O+Co48<->H+C3H2O, C3H3O+Co48<->C3H2O+H, C3H3O+Co48<->C3H2O+H, C3H3O+Co48<->H+C3H2O, C3H3O+Co48<->H+C3H2O, C3H3O+Co48<->H+C3H2O, C3H3O+Co48<->C3H2O+H, C3H3O+Co48<->H+C3H2O, C3H3O+Co48<->H+C3H2O, C3H3O+Co48<->H+C3H2O, C3H3O+Co48<->H+C3H2O, C3H3O+Co48<->C3H2O+H, C3H3O+Co48<->H+C3H2O, C3H3O+Co48<->H+C3H2O, C3H3O+Co48<->H+C3H2O, C3H3O+Co48<->H+C3H2O, C3H3O+Co48<->H+C3H2O, Co48+C3H3O<->H+C3H2O, Co48+C3H3O<->H+C3H2O, C3H3O+Co48<->H+C3H2O, C3H3O+Co48<->H+C3H2O, C3H3O+Co48<->H+C3H2O, C3H3O+Co48<->H+C3H2O, C3H2O+Co48<->H+C3HO, C3H2O+Co48<->H+C3HO, C3H2O+Co48<->H+C3HO, C3H2O+Co48<->H+C3HO, C3H2O+Co48<->H+C3HO, C3H2O+Co48<->H+C3HO, C3H2O+Co48<->H+C3HO, Co48+C3H2O<->H+C3HO, Co48+C3H2O<->H+C3HO, C3H2O+Co48<->H+C3HO, C3H2O+Co48<->H+C3HO, C3H2O+Co48<->H+C3HO, C3H2O+Co48<->H+C3HO, C3H2O+Co48<->H+C3HO, C3HO+Co48<->H+C3O, C3HO+Co48<->H+C3O, C3HO+Co48<->H+C3O, C3HO+Co48<->H+C3O, C3H6O+Co48<->H+C3H5O, C3H6O+Co48<->H+C3H5O, C3H6O+Co48<->H+C3H5O, C3H6O+Co48<->C3H5O+H, C3H5O+Co48<->H+C3H4O, C3H5O+Co48<->H+C3H4O, C3H5O+Co48<->H+C3H4O, C3H5O+Co48<->H+C3H4O, C3H5O+Co48<->H+C3H4O, C3H5O+Co48<->H+C3H4O, C3H5O+Co48<->H+C3H4O, C3H5O+Co48<->H+C3H4O, C3H5O+Co48<->H+C3H4O, C3H5O+Co48<->C3H4O+H, C3H5O+Co48<->H+C3H4O, C3H5O+Co48<->H+C3H4O, C3H5O+Co48<->C3H4O+H, C3H4O+Co48<->H+C3H3O, C3H4O+Co48<->C3H3O+H, C3H4O+Co48<->C3H3O+H, C3H4O+Co48<->H+C3H3O, C3H4O+Co48<->C3H3O+H, C3H4O+Co48<->H+C3H3O, C3H4O+Co48<->H+C3H3O, C3H4O+Co48<->C3H3O+H, C3H4O+Co48<->H+C3H3O, C3H4O+Co48<->H+C3H3O, C3H4O+Co48<->H+C3H3O, C3H4O+Co48<->H+C3H3O, C3H4O+Co48<->H+C3H3O, C3H4O+Co48<->H+C3H3O, C3H4O+Co48<->H+C3H3O, C3H4O+Co48<->H+C3H3O, C3H4O+Co48<->H+C3H3O, C3H4O+Co48<->H+C3H3O, C3H4O+Co48<->H+C3H3O, C3H3O+Co48<->H+C3H2O, C3H3O+Co48<->C3H2O+H, C3H3O+Co48<->H+C3H2O, C3H3O+Co48<->H+C3H2O, C3H3O+Co48<->C3H2O+H, C3H3O+Co48<->H+C3H2O, C3H3O+Co48<->C3H2O+H, C3H3O+Co48<->C3H2O+H, C3H3O+Co48<->C3H2O+H, C3H3O+Co48<->H+C3H2O, C3H3O+Co48<->H+C3H2O, C3H3O+Co48<->C3H2O+H, C3H3O+Co48<->C3H2O+H, C3H3O+Co48<->H+C3H2O, C3H3O+Co48<->H+C3H2O, C3H3O+Co48<->H+C3H2O, C3H3O+Co48<->C3H2O+H, C3H3O+Co48<->H+C3H2O, C3H3O+Co48<->H+C3H2O, C3H2O+Co48<->H+C3HO, C3H2O+Co48<->C3HO+H, C3H2O+Co48<->H+C3HO, C3H2O+Co48<->H+C3HO, C3H2O+Co48<->C3HO+H, C3H2O+Co48<->H+C3HO, C3H2O+Co48<->H+C3HO, C3H2O+Co48<->C3HO+H, Co48+C3H2O<->C3HO+H, Co48+C3H2O<->C3HO+H, C3H2O+Co48<->H+C3HO, C3H2O+Co48<->C3HO+H, C3H2O+Co48<->C3HO+H, C3HO+Co48<->C3O+H, C3HO+Co48<->C3O+H, C3HO+Co48<->C3O+H, C3HO+Co48<->C3O+H, C3H6O+Co48<->C3H5O+H, C3H6O+Co48<->H+C3H5O, C3H6O+Co48<->H+C3H5O, C3H5O+Co48<->H+C3H4O, C3H5O+Co48<->C3H4O+H, C3H5O+Co48<->H+C3H4O, C3H5O+Co48<->C3H4O+H, C3H5O+Co48<->H+C3H4O, C3H5O+Co48<->H+C3H4O, C3H5O+Co48<->H+C3H4O, C3H4O+Co48<->H+C3H3O, C3H4O+Co48<->H+C3H3O, C3H4O+Co48<->H+C3H3O, C3H4O+Co48<->H+C3H3O, C3H4O+Co48<->H+C3H3O, C3H4O+Co48<->H+C3H3O, C3H4O+Co48<->H+C3H3O, C3H4O+Co48<->H+C3H3O, C3H3O+Co48<->H+C3H2O, C3H3O+Co48<->H+C3H2O, C3H3O+Co48<->H+C3H2O, C3H3O+Co48<->H+C3H2O, C3H3O+Co48<->H+C3H2O, C3H3O+Co48<->H+C3H2O, C3H3O+Co48<->H+C3H2O, C3H2O+Co48<->H+C3HO, C3H2O+Co48<->C3HO+H, C3H2O+Co48<->C3HO+H, C3H2O+Co48<->C3HO+H, C3HO+Co48<->H+C3O, C3HO+Co48<->H+C3O, Co48+C3H6O2<->H+C3H5O2, Co48+C3H6O2<->C3H5O2+H, Co48+C3H6O2<->H+C3H5O2, Co48+C3H6O2<->H+C3H5O2, C3H5O2+Co48<->H+C3H4O2, C3H5O2+Co48<->C3H4O2+H, C3H5O2+Co48<->H+C3H4O2, C3H5O2+Co48<->H+C3H4O2, C3H5O2+Co48<->C3H4O2+H, C3H5O2+Co48<->H+C3H4O2, C3H5O2+Co48<->H+C3H4O2, C3H5O2+Co48<->H+C3H4O2, C3H5O2+Co48<->H+C3H4O2, C3H5O2+Co48<->H+C3H4O2, C3H5O2+Co48<->H+C3H4O2, C3H5O2+Co48<->H+C3H4O2, C3H5O2+Co48<->H+C3H4O2, C3H5O2+Co48<->H+C3H4O2, C3H4O2+Co48<->H+C3H3O2, C3H4O2+Co48<->H+C3H3O2, C3H4O2+Co48<->C3H3O2+H, C3H4O2+Co48<->H+C3H3O2, C3H4O2+Co48<->H+C3H3O2, C3H4O2+Co48<->H+C3H3O2, C3H4O2+Co48<->H+C3H3O2, C3H4O2+Co48<->H+C3H3O2, C3H4O2+Co48<->H+C3H3O2, C3H4O2+Co48<->C3H3O2+H, C3H4O2+Co48<->C3H3O2+H, C3H4O2+Co48<->H+C3H3O2, C3H4O2+Co48<->C3H3O2+H, C3H4O2+Co48<->H+C3H3O2, C3H4O2+Co48<->H+C3H3O2, C3H4O2+Co48<->C3H3O2+H, C3H4O2+Co48<->H+C3H3O2, C3H4O2+Co48<->C3H3O2+H, C3H4O2+Co48<->H+C3H3O2, C3H4O2+Co48<->H+C3H3O2, C3H4O2+Co48<->H+C3H3O2, Co48+C3H4O2<->C3H3O2+H, Co48+C3H4O2<->C3H3O2+H, Co48+C3H4O2<->H+C3H3O2, C3H3O2+Co48<->H+C3H2O2, C3H3O2+Co48<->H+C3H2O2, C3H3O2+Co48<->H+C3H2O2, C3H3O2+Co48<->H+C3H2O2, C3H3O2+Co48<->H+C3H2O2, C3H3O2+Co48<->H+C3H2O2, C3H3O2+Co48<->H+C3H2O2, C3H3O2+Co48<->H+C3H2O2, C3H3O2+Co48<->H+C3H2O2, C3H3O2+Co48<->H+C3H2O2, C3H3O2+Co48<->H+C3H2O2, C3H3O2+Co48<->H+C3H2O2, C3H3O2+Co48<->H+C3H2O2, C3H3O2+Co48<->H+C3H2O2, C3H3O2+Co48<->H+C3H2O2, C3H3O2+Co48<->H+C3H2O2, C3H3O2+Co48<->H+C3H2O2, C3H3O2+Co48<->H+C3H2O2, C3H3O2+Co48<->H+C3H2O2, C3H3O2+Co48<->H+C3H2O2, C3H3O2+Co48<->H+C3H2O2, C3H3O2+Co48<->H+C3H2O2, C3H3O2+Co48<->H+C3H2O2, C3H3O2+Co48<->H+C3H2O2, C3H2O2+Co48<->C3HO2+H, C3H2O2+Co48<->H+C3HO2, C3H2O2+Co48<->H+C3HO2, Co48+C3H2O2<->C3HO2+H, Co48+C3H2O2<->C3HO2+H, Co48+C3H2O2<->H+C3HO2, Co48+C3H2O2<->C3HO2+H, Co48+C3H2O2<->C3HO2+H, Co48+C3H2O2<->H+C3HO2, C3H2O2+Co48<->H+C3HO2, C3H2O2+Co48<->H+C3HO2, C3H2O2+Co48<->C3HO2+H, C3H2O2+Co48<->H+C3HO2, C3H2O2+Co48<->H+C3HO2, C3HO2+Co48<->H+C3O2, C3HO2+Co48<->H+C3O2, C3HO2+Co48<->H+C3O2, C3HO2+Co48<->H+C3O2, C3H6O2+Co48<->H+C3H5O2, C3H6O2+Co48<->H+C3H5O2, C3H6O2+Co48<->H+C3H5O2, C3H6O2+Co48<->C3H5O2+H, C3H5O2+Co48<->H+C3H4O2, C3H5O2+Co48<->H+C3H4O2, C3H5O2+Co48<->H+C3H4O2, C3H5O2+Co48<->H+C3H4O2, C3H5O2+Co48<->H+C3H4O2, C3H5O2+Co48<->H+C3H4O2, C3H5O2+Co48<->H+C3H4O2, C3H5O2+Co48<->H+C3H4O2, C3H5O2+Co48<->H+C3H4O2, C3H5O2+Co48<->H+C3H4O2, C3H5O2+Co48<->H+C3H4O2, C3H5O2+Co48<->H+C3H4O2, C3H5O2+Co48<->H+C3H4O2, C3H4O2+Co48<->H+C3H3O2, C3H4O2+Co48<->H+C3H3O2, C3H4O2+Co48<->H+C3H3O2, C3H4O2+Co48<->H+C3H3O2, C3H4O2+Co48<->H+C3H3O2, C3H4O2+Co48<->H+C3H3O2, C3H4O2+Co48<->C3H3O2+H, C3H4O2+Co48<->H+C3H3O2, C3H4O2+Co48<->H+C3H3O2, C3H4O2+Co48<->C3H3O2+H, C3H4O2+Co48<->H+C3H3O2, C3H4O2+Co48<->C3H3O2+H, C3H4O2+Co48<->C3H3O2+H, C3H4O2+Co48<->H+C3H3O2, C3H4O2+Co48<->C3H3O2+H, C3H4O2+Co48<->C3H3O2+H, C3H4O2+Co48<->C3H3O2+H, C3H4O2+Co48<->C3H3O2+H, C3H4O2+Co48<->C3H3O2+H, C3H3O2+Co48<->H+C3H2O2, C3H3O2+Co48<->H+C3H2O2, C3H3O2+Co48<->H+C3H2O2, C3H3O2+Co48<->H+C3H2O2, C3H3O2+Co48<->H+C3H2O2, C3H3O2+Co48<->H+C3H2O2, C3H3O2+Co48<->H+C3H2O2, C3H3O2+Co48<->H+C3H2O2, C3H3O2+Co48<->C3H2O2+H, C3H3O2+Co48<->H+C3H2O2, C3H3O2+Co48<->H+C3H2O2, C3H3O2+Co48<->C3H2O2+H, C3H3O2+Co48<->H+C3H2O2, C3H3O2+Co48<->H+C3H2O2, C3H3O2+Co48<->H+C3H2O2, C3H3O2+Co48<->H+C3H2O2, C3H3O2+Co48<->C3H2O2+H, C3H3O2+Co48<->H+C3H2O2, C3H3O2+Co48<->H+C3H2O2, C3H2O2+Co48<->H+C3HO2, C3H2O2+Co48<->H+C3HO2, C3H2O2+Co48<->H+C3HO2, C3H2O2+Co48<->H+C3HO2, Co48+C3H2O2<->H+C3HO2, Co48+C3H2O2<->H+C3HO2, C3H2O2+Co48<->H+C3HO2, C3H2O2+Co48<->H+C3HO2, C3H2O2+Co48<->H+C3HO2, C3H2O2+Co48<->H+C3HO2, C3H2O2+Co48<->H+C3HO2, C3H2O2+Co48<->H+C3HO2, C3H2O2+Co48<->H+C3HO2, C3HO2+Co48<->C3O2+H, Co48+C3HO2<->C3O2+H, C3HO2+Co48<->C3O2+H, C3HO2+Co48<->C3O2+H, C2H6+Co48<->H+C2H5, C2H5+Co48<->H+C2H4, C2H5+Co48<->H+C2H4, C2H4+Co48<->H+C2H3, C2H4+Co48<->C2H3+H, C2H4+Co48<->C2H3+H, C2H3+Co48<->C2H2+H, C2H3+Co48<->C2H2+H, C2H3+Co48<->H+C2H2, C2H2+Co48<->C2H+H, C2H2+Co48<->C2H+H, C2H+Co48<->H+C2, C2H4+Co48<->H+C2H3, C2H3+Co48<->C2H2+H, C2H3+Co48<->H+C2H2, C2H2+Co48<->C2H+H, C2H2+Co48<->C2H+H, C2H+Co48<->H+C2, C3H6+Co48<->C3H5+H, C3H6+Co48<->H+C3H5, C3H6+Co48<->C3H5+H, C3H5+Co48<->H+C3H4, C3H5+Co48<->C3H4+H, C3H5+Co48<->C3H4+H, C3H5+Co48<->H+C3H4, C3H5+Co48<->H+C3H4, C3H5+Co48<->C3H4+H, C3H4+Co48<->H+C3H3, C3H4+Co48<->H+C3H3, C3H4+Co48<->H+C3H3, C3H4+Co48<->H+C3H3, C3H4+Co48<->H+C3H3, C3H4+Co48<->H+C3H3, C3H3+Co48<->H+C3H2, C3H3+Co48<->H+C3H2, C3H3+Co48<->H+C3H2, C3H3+Co48<->C3H2+H, C3H3+Co48<->H+C3H2, C3H3+Co48<->C3H2+H, C3H2+Co48<->C3H+H, C3H2+Co48<->C3H+H, C3H2+Co48<->C3H+H, C3H2+Co48<->C3H+H, C3H+Co48<->C3+H, C3H+Co48<->C3+H, CH4+Co48<->CH3+H, CH3+Co48<->H+CH2, Co48+CH2<->H+CH, CH+Co48<->H+C, C2H6O2+Co48<->H+C2H5O2, C2H6O2+Co48<->H+C2H5O2, C2H5O2+Co48<->H+C2H4O2, C2H5O2+Co48<->H+C2H4O2, C2H5O2+Co48<->H+C2H4O2, C2H5O2+Co48<->H+C2H4O2, C2H5O2+Co48<->H+C2H4O2, C2H5O2+Co48<->H+C2H4O2, C2H4O2+Co48<->H+C2H3O2, C2H4O2+Co48<->H+C2H3O2, C2H4O2+Co48<->H+C2H3O2, C2H4O2+Co48<->H+C2H3O2, C2H4O2+Co48<->H+C2H3O2, C2H4O2+Co48<->H+C2H3O2, C2H4O2+Co48<->H+C2H3O2, C2H4O2+Co48<->H+C2H3O2, C2H4O2+Co48<->H+C2H3O2, C2H4O2+Co48<->H+C2H3O2, C2H3O2+Co48<->C2H2O2+H, C2H3O2+Co48<->C2H2O2+H, C2H3O2+Co48<->C2H2O2+H, C2H3O2+Co48<->H+C2H2O2, C2H3O2+Co48<->H+C2H2O2, C2H3O2+Co48<->C2H2O2+H, C2H3O2+Co48<->H+C2H2O2, C2H3O2+Co48<->H+C2H2O2, C2H3O2+Co48<->C2H2O2+H, C2H3O2+Co48<->C2H2O2+H, C2H2O2+Co48<->C2HO2+H, C2H2O2+Co48<->H+C2HO2, C2H2O2+Co48<->H+C2HO2, C2H2O2+Co48<->C2HO2+H, C2H2O2+Co48<->H+C2HO2, C2H2O2+Co48<->C2HO2+H, C2HO2+Co48<->C2O2+H, C2HO2+Co48<->C2O2+H, C2H6O+Co48<->H+C2H5O, C2H6O+Co48<->H+C2H5O, C2H6O+Co48<->H+C2H5O, C2H5O+Co48<->H+C2H4O, C2H5O+Co48<->C2H4O+H, C2H5O+Co48<->H+C2H4O, C2H5O+Co48<->C2H4O+H, C2H5O+Co48<->H+C2H4O, C2H5O+Co48<->H+C2H4O, C2H5O+Co48<->H+C2H4O, C2H5O+Co48<->H+C2H4O, C2H4O+Co48<->C2H3O+H, C2H4O+Co48<->H+C2H3O, C2H4O+Co48<->H+C2H3O, C2H4O+Co48<->H+C2H3O, C2H4O+Co48<->C2H3O+H, C2H4O+Co48<->H+C2H3O, Co48+C2H4O<->H+C2H3O, Co48+C2H4O<->H+C2H3O, C2H4O+Co48<->C2H3O+H, C2H4O+Co48<->H+C2H3O, C2H4O+Co48<->H+C2H3O, C2H4O+Co48<->H+C2H3O, C2H3O+Co48<->H+C2H2O, C2H3O+Co48<->H+C2H2O, C2H3O+Co48<->H+C2H2O, C2H3O+Co48<->C2H2O+H, C2H3O+Co48<->C2H2O+H, C2H3O+Co48<->H+C2H2O, C2H3O+Co48<->C2H2O+H, C2H3O+Co48<->C2H2O+H, C2H3O+Co48<->H+C2H2O, C2H3O+Co48<->C2H2O+H, C2H3O+Co48<->H+C2H2O, C2H3O+Co48<->H+C2H2O, C2H2O+Co48<->H+C2HO, C2H2O+Co48<->H+C2HO, C2H2O+Co48<->H+C2HO, C2H2O+Co48<->H+C2HO, C2H2O+Co48<->C2HO+H, C2H2O+Co48<->H+C2HO, C2H2O+Co48<->C2HO+H, C2H2O+Co48<->C2HO+H, C2HO+Co48<->C2O+H, C2HO+Co48<->C2O+H, C2HO+Co48<->C2O+H, C2H4O+Co48<->C2H3O+H, C2H4O+Co48<->H+C2H3O, C2H4O+Co48<->H+C2H3O, C2H3O+Co48<->H+C2H2O, C2H3O+Co48<->H+C2H2O, C2H3O+Co48<->C2H2O+H, C2H3O+Co48<->H+C2H2O, C2H3O+Co48<->C2H2O+H, C2H3O+Co48<->C2H2O+H, C2H3O+Co48<->C2H2O+H, C2H2O+Co48<->H+C2HO, C2H2O+Co48<->H+C2HO, C2H2O+Co48<->H+C2HO, C2H2O+Co48<->C2HO+H, C2H2O+Co48<->H+C2HO, C2H2O+Co48<->C2HO+H, C2H2O+Co48<->C2HO+H, C2HO+Co48<->C2O+H, C2HO+Co48<->C2O+H, C2HO+Co48<->C2O+H, C2H4O2+Co48<->H+C2H3O2, C2H4O2+Co48<->H+C2H3O2, C2H3O2+Co48<->C2H2O2+H, C2H3O2+Co48<->C2H2O2+H, C2H3O2+Co48<->H+C2H2O2, C2H3O2+Co48<->C2H2O2+H, C2H3O2+Co48<->H+C2H2O2, C2H2O2+Co48<->C2HO2+H, C2H2O2+Co48<->H+C2HO2, C2H2O2+Co48<->C2HO2+H, C2H2O2+Co48<->H+C2HO2, C2H2O2+Co48<->C2HO2+H, C2HO2+Co48<->C2O2+H, C2HO2+Co48<->C2O2+H, C3H6O3+Co48<->H+C3H5O3, C3H6O3+Co48<->H+C3H5O3, C3H6O3+Co48<->H+C3H5O3, C3H6O3+Co48<->H+C3H5O3, C3H6O3+Co48<->C3H5O3+H, C3H5O3+Co48<->H+C3H4O3, C3H5O3+Co48<->H+C3H4O3, C3H5O3+Co48<->C3H4O3+H, C3H5O3+Co48<->H+C3H4O3, C3H5O3+Co48<->H+C3H4O3, C3H5O3+Co48<->C3H4O3+H, C3H5O3+Co48<->H+C3H4O3, C3H5O3+Co48<->H+C3H4O3, C3H5O3+Co48<->H+C3H4O3, C3H5O3+Co48<->C3H4O3+H, C3H5O3+Co48<->H+C3H4O3, C3H5O3+Co48<->H+C3H4O3, C3H5O3+Co48<->C3H4O3+H, C3H5O3+Co48<->H+C3H4O3, C3H5O3+Co48<->H+C3H4O3, C3H5O3+Co48<->H+C3H4O3, C3H5O3+Co48<->H+C3H4O3, C3H5O3+Co48<->H+C3H4O3, C3H4O3+Co48<->H+C3H3O3, C3H4O3+Co48<->H+C3H3O3, C3H4O3+Co48<->H+C3H3O3, C3H4O3+Co48<->H+C3H3O3, C3H4O3+Co48<->H+C3H3O3, C3H4O3+Co48<->H+C3H3O3, C3H4O3+Co48<->H+C3H3O3, C3H4O3+Co48<->H+C3H3O3, C3H4O3+Co48<->H+C3H3O3, C3H4O3+Co48<->C3H3O3+H, C3H4O3+Co48<->H+C3H3O3, C3H4O3+Co48<->H+C3H3O3, C3H4O3+Co48<->C3H3O3+H, C3H4O3+Co48<->H+C3H3O3, C3H4O3+Co48<->H+C3H3O3, C3H4O3+Co48<->H+C3H3O3, C3H4O3+Co48<->H+C3H3O3, C3H4O3+Co48<->H+C3H3O3, C3H4O3+Co48<->H+C3H3O3, C3H4O3+Co48<->H+C3H3O3, C3H4O3+Co48<->H+C3H3O3, C3H4O3+Co48<->H+C3H3O3, C3H4O3+Co48<->H+C3H3O3, C3H4O3+Co48<->H+C3H3O3, C3H4O3+Co48<->H+C3H3O3, C3H3O3+Co48<->H+C3H2O3, C3H3O3+Co48<->H+C3H2O3, C3H3O3+Co48<->H+C3H2O3, C3H3O3+Co48<->H+C3H2O3, C3H3O3+Co48<->H+C3H2O3, C3H3O3+Co48<->H+C3H2O3, C3H3O3+Co48<->H+C3H2O3, C3H3O3+Co48<->H+C3H2O3, C3H3O3+Co48<->H+C3H2O3, C3H3O3+Co48<->H+C3H2O3, C3H3O3+Co48<->H+C3H2O3, C3H3O3+Co48<->H+C3H2O3, C3H3O3+Co48<->H+C3H2O3, C3H3O3+Co48<->H+C3H2O3, C3H3O3+Co48<->H+C3H2O3, C3H3O3+Co48<->H+C3H2O3, C3H3O3+Co48<->H+C3H2O3, C3H3O3+Co48<->H+C3H2O3, C3H3O3+Co48<->H+C3H2O3, C3H3O3+Co48<->H+C3H2O3, C3H3O3+Co48<->H+C3H2O3, C3H2O3+Co48<->H+C3HO3, C3H2O3+Co48<->H+C3HO3, C3H2O3+Co48<->H+C3HO3, C3H2O3+Co48<->H+C3HO3, C3H2O3+Co48<->H+C3HO3, C3H2O3+Co48<->H+C3HO3, C3H2O3+Co48<->H+C3HO3, C3H2O3+Co48<->H+C3HO3, C3H2O3+Co48<->H+C3HO3, C3H2O3+Co48<->H+C3HO3, C3HO3+Co48<->H+C3O3, C3HO3+Co48<->H+C3O3, C3HO3+Co48<->H+C3O3, Co48+C3H6O2<->H+C3H5O2, Co48+C3H6O2<->C3H5O2+H, Co48+C3H6O2<->H+C3H5O2, Co48+C3H6O2<->H+C3H5O2, Co48+C3H6O2<->H+C3H5O2, C3H5O2+Co48<->H+C3H4O2, C3H5O2+Co48<->C3H4O2+H, C3H5O2+Co48<->H+C3H4O2, C3H5O2+Co48<->H+C3H4O2, C3H5O2+Co48<->H+C3H4O2, C3H5O2+Co48<->H+C3H4O2, C3H5O2+Co48<->H+C3H4O2, C3H5O2+Co48<->H+C3H4O2, C3H5O2+Co48<->C3H4O2+H, C3H5O2+Co48<->H+C3H4O2, C3H5O2+Co48<->H+C3H4O2, C3H5O2+Co48<->H+C3H4O2, C3H5O2+Co48<->H+C3H4O2, C3H5O2+Co48<->H+C3H4O2, C3H5O2+Co48<->H+C3H4O2, C3H5O2+Co48<->H+C3H4O2, C3H5O2+Co48<->H+C3H4O2, C3H5O2+Co48<->H+C3H4O2, C3H4O2+Co48<->H+C3H3O2, C3H4O2+Co48<->H+C3H3O2, C3H4O2+Co48<->C3H3O2+H, C3H4O2+Co48<->H+C3H3O2, C3H4O2+Co48<->H+C3H3O2, C3H4O2+Co48<->H+C3H3O2, C3H4O2+Co48<->H+C3H3O2, C3H4O2+Co48<->H+C3H3O2, C3H4O2+Co48<->H+C3H3O2, C3H4O2+Co48<->C3H3O2+H, C3H4O2+Co48<->C3H3O2+H, C3H4O2+Co48<->H+C3H3O2, C3H4O2+Co48<->C3H3O2+H, C3H4O2+Co48<->H+C3H3O2, C3H4O2+Co48<->H+C3H3O2, C3H4O2+Co48<->C3H3O2+H, C3H4O2+Co48<->H+C3H3O2, C3H4O2+Co48<->H+C3H3O2, C3H4O2+Co48<->H+C3H3O2, C3H4O2+Co48<->C3H3O2+H, C3H4O2+Co48<->C3H3O2+H, Co48+C3H4O2<->H+C3H3O2, Co48+C3H4O2<->H+C3H3O2, C3H4O2+Co48<->H+C3H3O2, C3H4O2+Co48<->C3H3O2+H, C3H3O2+Co48<->H+C3H2O2, C3H3O2+Co48<->H+C3H2O2, C3H3O2+Co48<->H+C3H2O2, C3H3O2+Co48<->H+C3H2O2, C3H3O2+Co48<->H+C3H2O2, C3H3O2+Co48<->H+C3H2O2, C3H3O2+Co48<->H+C3H2O2, C3H3O2+Co48<->H+C3H2O2, C3H3O2+Co48<->H+C3H2O2, C3H3O2+Co48<->H+C3H2O2, C3H3O2+Co48<->H+C3H2O2, C3H3O2+Co48<->H+C3H2O2, C3H3O2+Co48<->H+C3H2O2, C3H3O2+Co48<->H+C3H2O2, C3H3O2+Co48<->H+C3H2O2, C3H3O2+Co48<->H+C3H2O2, C3H3O2+Co48<->H+C3H2O2, C3H3O2+Co48<->H+C3H2O2, C3H3O2+Co48<->H+C3H2O2, C3H3O2+Co48<->H+C3H2O2, C3H3O2+Co48<->H+C3H2O2, C3H2O2+Co48<->C3HO2+H, C3H2O2+Co48<->H+C3HO2, C3H2O2+Co48<->H+C3HO2, Co48+C3H2O2<->C3HO2+H, Co48+C3H2O2<->C3HO2+H, Co48+C3H2O2<->H+C3HO2, Co48+C3H2O2<->C3HO2+H, Co48+C3H2O2<->C3HO2+H, C3H2O2+Co48<->H+C3HO2, C3H2O2+Co48<->C3HO2+H, C3HO2+Co48<->H+C3O2, C3HO2+Co48<->H+C3O2, C3HO2+Co48<->H+C3O2, CH4O+Co48<->H+CH3O, CH4O+Co48<->H+CH3O, CH3O+Co48<->CH2O+H, CH3O+Co48<->H+CH2O, CH3O+Co48<->H+CH2O, CH2O+Co48<->H+CHO, CH2O+Co48<->H+CHO, CH2O+Co48<->H+CHO, CHO+Co48<->CO+H, CHO+Co48<->CO+H, CH2O2+Co48<->H+CHO2, CH2O2+Co48<->H+CHO2, CHO2+Co48<->CO2+H, Co48+CHO2<->CO2+H, C3H5O+Co48<->CH3O+C2H2, C3H5O+Co48<->C2H2+CH3O, C3H5O+Co48<->C2H3O+CH2, Co48+C3H4O<->C2H+CH3O, C3H4O+Co48<->C2H+CH3O, C3H4O+Co48<->C2H3O+CH, C3H4O+Co48<->CH2O+C2H2, C3H4O+Co48<->CH2O+C2H2, C3H4O+Co48<->C2H2O+CH2, C3H4O+Co48<->C2H2+CH2O, C3H4O+Co48<->C2H2+CH2O, C3H4O+Co48<->C2H2O+CH2, C3H4O+Co48<->C2H2O+CH2, C3H3O+Co48<->CH3O+C2, C3H3O+Co48<->C2H3O+C, C3H3O+Co48<->C2H+CH2O, C3H3O+Co48<->C2H+CH2O, C3H3O+Co48<->C2H2O+CH, C3H3O+Co48<->C2H+CH2O, C3H3O+Co48<->C2H+CH2O, C3H3O+Co48<->C2H2O+CH, C3H3O+Co48<->CHO+C2H2, C3H3O+Co48<->C2H2O+CH, C3H3O+Co48<->CHO+C2H2, Co48+C3H3O<->C2HO+CH2, Co48+C3H3O<->C2H2+CHO, C3H3O+Co48<->C2HO+CH2, C3H3O+Co48<->C2H2+CHO, C3H3O+Co48<->C2HO+CH2, C3H2O+Co48<->C2H2O+C, C3H2O+Co48<->CH2O+C2, C3H2O+Co48<->C2+CH2O, C3H2O+Co48<->C2H2O+C, C3H2O+Co48<->C2H+CHO, C3H2O+Co48<->C2H2O+C, C3H2O+Co48<->C2H+CHO, Co48+C3H2O<->CH+C2HO, Co48+C3H2O<->C2H+CHO, C3H2O+Co48<->C2HO+CH, C3H2O+Co48<->C2H+CHO, C3H2O+Co48<->C2HO+CH, C3H2O+Co48<->CO+C2H2, C3H2O+Co48<->C2O+CH2, C3H2O+Co48<->C2H2+CO, C3HO+Co48<->C+C2HO, C3HO+Co48<->CHO+C2, C3HO+Co48<->C2HO+C, C3HO+Co48<->CHO+C2, C3HO+Co48<->C2HO+C, C3HO+Co48<->CO+C2H, C3HO+Co48<->C2O+CH, C3HO+Co48<->CO+C2H, C3O+Co48<->C2O+C, C3O+Co48<->CO+C2, C3H6O+Co48<->CH3+C2H3O, C3H5O+Co48<->C2H3O+CH2, C3H5O+Co48<->CH3+C2H2O, C3H5O+Co48<->CH3+C2H2O, C3H5O+Co48<->CH3+C2H2O, C3H4O+Co48<->C2H3O+CH, C3H4O+Co48<->CH2O+C2H2, C3H4O+Co48<->C2H2O+CH2, C3H4O+Co48<->C2H2+CH2O, C3H4O+Co48<->C2H2O+CH2, C3H4O+Co48<->C2H2O+CH2, C3H4O+Co48<->CH3+C2HO, C3H4O+Co48<->CH3+C2HO, C3H4O+Co48<->CH3+C2HO, C3H3O+Co48<->C2H3O+C, C3H3O+Co48<->C2H+CH2O, C3H3O+Co48<->C2H2O+CH, C3H3O+Co48<->C2H+CH2O, C3H3O+Co48<->C2H2O+CH, C3H3O+Co48<->CHO+C2H2, C3H3O+Co48<->C2H2O+CH, C3H3O+Co48<->CHO+C2H2, C3H3O+Co48<->C2HO+CH2, C3H3O+Co48<->C2H2+CHO, C3H3O+Co48<->C2HO+CH2, C3H3O+Co48<->C2H2+CHO, C3H3O+Co48<->C2HO+CH2, C3H3O+Co48<->CH3+C2O, C3H2O+Co48<->C2H2O+C, C3H2O+Co48<->CH2O+C2, C3H2O+Co48<->C2H2O+C, C3H2O+Co48<->C2H+CHO, C3H2O+Co48<->C2H2O+C, C3H2O+Co48<->C2H+CHO, C3H2O+Co48<->CH+C2HO, C3H2O+Co48<->C2H+CHO, C3H2O+Co48<->C2HO+CH, C3H2O+Co48<->C2H+CHO, C3H2O+Co48<->C2HO+CH, C3H2O+Co48<->CO+C2H2, C3H2O+Co48<->C2O+CH2, C3H2O+Co48<->C2H2+CO, C3HO+Co48<->C+C2HO, C3HO+Co48<->CHO+C2, C3HO+Co48<->C2HO+C, C3HO+Co48<->CHO+C2, C3HO+Co48<->C2HO+C, C3HO+Co48<->CO+C2H, C3HO+Co48<->C2O+CH, C3HO+Co48<->CO+C2H, C3O+Co48<->C2O+C, C3O+Co48<->CO+C2, C3H6O+Co48<->C2H4O+CH2, C3H5O+Co48<->CH+C2H4O, C3H5O+Co48<->CH3+C2H2O, C3H5O+Co48<->C2H3O+CH2, C3H5O+Co48<->C2H3O+CH2, C3H4O+Co48<->C2H4O+C, C3H4O+Co48<->CH3+C2HO, C3H4O+Co48<->C2H3O+CH, C3H4O+Co48<->C2H2O+CH2, C3H4O+Co48<->C2H3O+CH, C3H4O+Co48<->CH3+C2HO, C3H4O+Co48<->C2H2O+CH2, C3H3O+Co48<->C2H3O+C, C3H3O+Co48<->C2HO+CH2, C3H3O+Co48<->C2H3O+C, C3H3O+Co48<->CH3+C2O, C3H3O+Co48<->C2H2O+CH, C3H3O+Co48<->C2H2O+CH, C3H3O+Co48<->C2HO+CH2, C3H2O+Co48<->C2H2O+C, C3H2O+Co48<->CH+C2HO, C3H2O+Co48<->C2H2O+C, C3H2O+Co48<->C2O+CH2, C3H2O+Co48<->C2HO+CH, C3HO+Co48<->C+C2HO, C3HO+Co48<->C2HO+C, C3HO+Co48<->C2O+CH, C3O+Co48<->C2O+C, Co48+C3H6O2<->C2H3O+CH3O, C3H5O2+Co48<->C2H2O+CH3O, C3H5O2+Co48<->C2H2O+CH3O, C3H5O2+Co48<->CH3O+C2H2O, C3H5O2+Co48<->C2H3O+CH2O, C3H4O2+Co48<->C2HO+CH3O, C3H4O2+Co48<->CH3O+C2HO, C3H4O2+Co48<->C2H3O+CHO, C3H4O2+Co48<->C2H2O+CH2O, C3H4O2+Co48<->C2H2O+CH2O, C3H4O2+Co48<->CH3O+C2HO, C3H4O2+Co48<->C2H3O+CHO, C3H4O2+Co48<->CH2O+C2H2O, C3H4O2+Co48<->C2H2O+CH2O, Co48+C3H4O2<->CH2O+C2H2O, C3H3O2+Co48<->C2O+CH3O, C3H3O2+Co48<->CO+C2H3O, C3H3O2+Co48<->C2HO+CH2O, C3H3O2+Co48<->C2HO+CH2O, C3H3O2+Co48<->CHO+C2H2O, C3H3O2+Co48<->CH2O+C2HO, C3H3O2+Co48<->C2HO+CH2O, C3H3O2+Co48<->C2H2O+CHO, C3H3O2+Co48<->C2H2O+CHO, C3H3O2+Co48<->C2H2O+CHO, C3H3O2+Co48<->CHO+C2H2O, C3H3O2+Co48<->CH2O+C2HO, C3H3O2+Co48<->CH2O+C2HO, C3H3O2+Co48<->C2H2O+CHO, C3H2O2+Co48<->CO+C2H2O, C3H2O2+Co48<->C2O+CH2O, C3H2O2+Co48<->C2O+CH2O, C3H2O2+Co48<->CO+C2H2O, C3H2O2+Co48<->C2HO+CHO, Co48+C3H2O2<->C2H2O+CO, Co48+C3H2O2<->C2HO+CHO, Co48+C3H2O2<->CHO+C2HO, Co48+C3H2O2<->CHO+C2HO, C3H2O2+Co48<->CHO+C2HO, C3H2O2+Co48<->CHO+C2HO, C3H2O2+Co48<->C2O2+CH2, C3HO2+Co48<->CO+C2HO, C3HO2+Co48<->C2O+CHO, C3HO2+Co48<->CO+C2HO, C3HO2+Co48<->C2O+CHO, C3HO2+Co48<->CO+C2HO, C3HO2+Co48<->C2O2+CH, C3HO2+Co48<->CO+C2HO, C3O2+Co48<->CO+C2O, C3H6O2+Co48<->CH3+C2H3O2, C3H6O2+Co48<->CH2O+C2H4O, C3H5O2+Co48<->C2H3O2+CH2, C3H5O2+Co48<->CH3+C2H2O2, C3H5O2+Co48<->CH2O+C2H3O, C3H5O2+Co48<->CH3+C2H2O2, C3H5O2+Co48<->CHO+C2H4O, C3H5O2+Co48<->CH3+C2H2O2, C3H5O2+Co48<->CHO+C2H4O, C3H4O2+Co48<->C2H3O2+CH, C3H4O2+Co48<->CH2O+C2H2O, C3H4O2+Co48<->C2H2O2+CH2, C3H4O2+Co48<->C2H2O2+CH2, C3H4O2+Co48<->C2H2O2+CH2, C3H4O2+Co48<->CH3+C2HO2, C3H4O2+Co48<->CHO+C2H3O, C3H4O2+Co48<->CH3+C2HO2, C3H4O2+Co48<->CHO+C2H3O, C3H4O2+Co48<->CH3+C2HO2, C3H4O2+Co48<->CO+C2H4O, C3H3O2+Co48<->C2H3O2+C, C3H3O2+Co48<->CH2O+C2HO, C3H3O2+Co48<->C2H2O2+CH, C3H3O2+Co48<->C2HO+CH2O, C3H3O2+Co48<->C2H2O2+CH, C3H3O2+Co48<->C2H2O+CHO, C3H3O2+Co48<->C2H2O2+CH, C3H3O2+Co48<->CHO+C2H2O, C3H3O2+Co48<->C2HO2+CH2, C3H3O2+Co48<->C2HO2+CH2, C3H3O2+Co48<->C2HO2+CH2, C3H3O2+Co48<->CH3+C2O2, C3H3O2+Co48<->CO+C2H3O, C3H2O2+Co48<->C2H2O2+C, C3H2O2+Co48<->C2O+CH2O, C3H2O2+Co48<->C2H2O2+C, C3H2O2+Co48<->CHO+C2HO, Co48+C3H2O2<->C2H2O2+C, Co48+C3H2O2<->CHO+C2HO, C3H2O2+Co48<->C2HO2+CH, C3H2O2+Co48<->C2HO+CHO, C3H2O2+Co48<->C2HO2+CH, C3H2O2+Co48<->C2HO+CHO, C3H2O2+Co48<->C2HO2+CH, C3H2O2+Co48<->CO+C2H2O, C3H2O2+Co48<->C2O2+CH2, C3HO2+Co48<->C2HO2+C, C3HO2+Co48<->C2O+CHO, Co48+C3HO2<->C2HO2+C, Co48+C3HO2<->C2O+CHO, C3HO2+Co48<->C2HO2+C, C3HO2+Co48<->CO+C2HO, C3HO2+Co48<->C2O2+CH, C3HO2+Co48<->CO+C2HO, C3O2+Co48<->C2O2+C, C3O2+Co48<->CO+C2O, C2H6+Co48<->CH3, C2H5+Co48<->CH3+CH2, C2H4+Co48<->CH2, C2H4+Co48<->CH2, C2H3+Co48<->CH+CH2, C2H3+Co48<->CH+CH2, C2H2+Co48<->C+CH2, C2H2+Co48<->CH, C2H+Co48<->CH+C, C2+Co48<->C, C3H6+Co48<->CH3+C2H3, C3H5+Co48<->C2H3+CH2, C3H5+Co48<->CH3+C2H2, C3H5+Co48<->CH3+C2H2, C3H4+Co48<->CH+C2H3, C3H4+Co48<->C2H2+CH2, C3H4+Co48<->C2H2+CH2, C3H4+Co48<->CH3+C2H, C3H4+Co48<->CH3+C2H, C3H3+Co48<->C+C2H3, C3H3+Co48<->C2H+CH2, C3H3+Co48<->C2H2+CH, C3H3+Co48<->C2H+CH2, C3H3+Co48<->CH+C2H2, C3H3+Co48<->CH3+C2, C3H2+Co48<->C2H2+C, C3H2+Co48<->C2+CH2, C3H2+Co48<->C+C2H2, C3H2+Co48<->C2H+CH, C3H2+Co48<->C2H+CH, C3H+Co48<->C2H+C, C3H+Co48<->C2+CH, C3H+Co48<->C2H+C, C3+Co48<->C2+C, C2H6O2+Co48<->CH3O, C2H5O2+Co48<->CH3O+CH2O, C2H5O2+Co48<->CH2O+CH3O, C2H4O2+Co48<->CH2O, C2H4O2+Co48<->CH2O+CH2O, C2H4O2+Co48<->CH2O, C2H4O2+Co48<->CHO+CH3O, C2H4O2+Co48<->CH2O, C2H3O2+Co48<->CH2O+CHO, C2H3O2+Co48<->CH2O+CHO, C2H3O2+Co48<->CHO+CH2O, C2H3O2+Co48<->CHO+CH2O, C2H3O2+Co48<->CH2O+CHO, C2H2O2+Co48<->CO+CH2O, C2H2O2+Co48<->CHO+CHO, C2H2O2+Co48<->CHO, C2H2O2+Co48<->CHO, C2H2O2+Co48<->CHO, C2HO2+Co48<->CO+CHO, C2HO2+Co48<->CO+CHO, C2O2+Co48<->CO, C2H6O+Co48<->CH3+CH3O, C2H5O+Co48<->CH3O+CH2, C2H5O+Co48<->CH3+CH2O, C2H5O+Co48<->CH3+CH2O, C2H4O+Co48<->CH2O+CH2, C2H4O+Co48<->CH2O+CH2, Co48+C2H4O<->CH2O+CH2, C2H4O+Co48<->CH3+CHO, C2H4O+Co48<->CH3+CHO, C2H3O+Co48<->CH2O+CH, C2H3O+Co48<->CHO+CH2, C2H3O+Co48<->CHO+CH2, C2H3O+Co48<->CHO+CH2, C2H3O+Co48<->CHO+CH2, C2H3O+Co48<->CH3+CO, C2H2O+Co48<->CH2O+C, C2H2O+Co48<->CHO+CH, C2H2O+Co48<->CHO+CH, C2H2O+Co48<->CO+CH2, C2H2O+Co48<->CO+CH2, C2HO+Co48<->CHO+C, C2HO+Co48<->CHO+C, C2HO+Co48<->CO+CH, C2O+Co48<->CO+C, C3H6O3+Co48<->CH2O+C2H4O2, C3H5O3+Co48<->CHO+C2H4O2, C3H5O3+Co48<->C2H2O2+CH3O, C3H5O3+Co48<->CHO+C2H4O2, C3H5O3+Co48<->C2H2O2+CH3O, C3H5O3+Co48<->CH2O+C2H3O2, C3H5O3+Co48<->CH2O+C2H3O2, C3H4O3+Co48<->CO+C2H4O2, C3H4O3+Co48<->C2HO2+CH3O, C3H4O3+Co48<->CH3O+C2HO2, C3H4O3+Co48<->CHO+C2H3O2, C3H4O3+Co48<->C2H2O2+CH2O, C3H4O3+Co48<->CHO+C2H3O2, C3H4O3+Co48<->C2H2O2+CH2O, C3H4O3+Co48<->C2HO2+CH3O, C3H4O3+Co48<->CHO+C2H3O2, C3H4O3+Co48<->CHO+C2H3O2, C3H4O3+Co48<->CH2O+C2H2O2, C3H4O3+Co48<->C2H2O2+CH2O, C3H3O3+Co48<->C2O2+CH3O, C3H3O3+Co48<->CO+C2H3O2, C3H3O3+Co48<->C2HO2+CH2O, C3H3O3+Co48<->CO+C2H3O2, C3H3O3+Co48<->C2HO2+CH2O, C3H3O3+Co48<->C2H2O2+CHO, C3H3O3+Co48<->CH2O+C2HO2, C3H3O3+Co48<->C2HO2+CH2O, C3H3O3+Co48<->CHO+C2H2O2, C3H3O3+Co48<->C2H2O2+CHO, C3H3O3+Co48<->C2H2O2+CHO, C3H3O3+Co48<->C2H2O2+CHO, C3H3O3+Co48<->C2HO2+CH2O, C3H3O3+Co48<->C2HO2+CH2O, C3H3O3+Co48<->CHO+C2H2O2, C3H2O3+Co48<->CO+C2H2O2, C3H2O3+Co48<->C2O2+CH2O, C3H2O3+Co48<->C2O2+CH2O, C3H2O3+Co48<->CO+C2H2O2, C3H2O3+Co48<->C2HO2+CHO, C3H2O3+Co48<->CO+C2H2O2, C3H2O3+Co48<->C2HO2+CHO, C3H2O3+Co48<->C2HO2+CHO, C3H2O3+Co48<->CHO+C2HO2, C3H2O3+Co48<->CHO+C2HO2, C3H2O3+Co48<->C2HO2+CHO, C3HO3+Co48<->C2HO2+CO, C3HO3+Co48<->C2O2+CHO, C3HO3+Co48<->CO+C2HO2, C3HO3+Co48<->C2O2+CHO, C3HO3+Co48<->C2HO2+CO, C3O3+Co48<->C2O2+CO, C3H5O2+Co48<->C2H3O+CH2O, C3H4O2+Co48<->C2H2O+CH2O]\n"
     ]
    }
   ],
   "source": [
    "print(rxn_net.t_states)"
   ]
  },
  {
   "cell_type": "code",
   "execution_count": 3,
   "metadata": {},
   "outputs": [],
   "source": [
    "import random\n",
    "\n",
    "for ts in rxn_net.t_states:\n",
    "    # Provide a random energy for each transition state between 0 and 1.6 eV\n",
    "    ts.energy = random.random() * 1.6"
   ]
  },
  {
   "cell_type": "code",
   "execution_count": 4,
   "metadata": {},
   "outputs": [
    {
     "data": {
      "text/plain": [
       "0.16450629769115788"
      ]
     },
     "execution_count": 4,
     "metadata": {},
     "output_type": "execute_result"
    }
   ],
   "source": [
    "rxn_net.t_states[10].energy"
   ]
  },
  {
   "cell_type": "markdown",
   "metadata": {},
   "source": [
    "Look for elementary steps involving a specific intermediate"
   ]
  },
  {
   "cell_type": "code",
   "execution_count": 3,
   "metadata": {},
   "outputs": [
    {
     "data": {
      "text/plain": [
       "(102101(CO2),)"
      ]
     },
     "execution_count": 3,
     "metadata": {},
     "output_type": "execute_result"
    }
   ],
   "source": [
    "rxn_net.search_inter_by_elements({'C':1, 'H':0, 'O':2})"
   ]
  },
  {
   "cell_type": "code",
   "execution_count": 7,
   "metadata": {},
   "outputs": [
    {
     "data": {
      "text/plain": [
       "Co48+C3H4O2<->C2H2O+CH2O"
      ]
     },
     "execution_count": 7,
     "metadata": {},
     "output_type": "execute_result"
    }
   ],
   "source": [
    "rxn_net.search_ts_1([\"102101\"])"
   ]
  },
  {
   "cell_type": "code",
   "execution_count": 4,
   "metadata": {},
   "outputs": [],
   "source": [
    "rxn_net.write_dotgraph2(\".\", 'rxn_net_propylene.png')"
   ]
  },
  {
   "cell_type": "code",
   "execution_count": null,
   "metadata": {},
   "outputs": [],
   "source": [
    "t_state_test = rxn_net.t_states[10]\n",
    "print(t_state_test)"
   ]
  },
  {
   "cell_type": "code",
   "execution_count": null,
   "metadata": {},
   "outputs": [],
   "source": [
    "for i in t_state_test.components:\n",
    "    for j in i:\n",
    "        print(j.code)"
   ]
  },
  {
   "cell_type": "code",
   "execution_count": null,
   "metadata": {},
   "outputs": [],
   "source": [
    "t_state_test.full_label()"
   ]
  },
  {
   "cell_type": "code",
   "execution_count": null,
   "metadata": {},
   "outputs": [],
   "source": [
    "print(rxn_net)"
   ]
  },
  {
   "cell_type": "code",
   "execution_count": null,
   "metadata": {},
   "outputs": [],
   "source": [
    "print(rxn_net.closed_shells)\n",
    "\n",
    "cs_mols = []\n",
    "for mol in rxn_net.closed_shells:\n",
    "    cs_mols.append(mol.molecule)\n",
    "\n",
    "view(cs_mols)"
   ]
  },
  {
   "cell_type": "code",
   "execution_count": null,
   "metadata": {},
   "outputs": [],
   "source": [
    "# visualize all the intermediates with ase view\n",
    "\n",
    "from ase.visualize import view\n",
    "\n",
    "intermediates = []\n",
    "\n",
    "for key in rxn_net.intermediates.keys():\n",
    "    intermediates.append(rxn_net.intermediates[key].closed_shell)\n",
    "\n",
    "# count how many intermediates are closed shell\n",
    "none = 0\n",
    "for i in intermediates:\n",
    "    if i == None:\n",
    "        none += 1\n",
    "\n",
    "print(none)"
   ]
  },
  {
   "cell_type": "markdown",
   "metadata": {},
   "source": [
    "Visualize reaction network"
   ]
  },
  {
   "cell_type": "code",
   "execution_count": null,
   "metadata": {},
   "outputs": [],
   "source": [
    "rxn_net.draw_graph()"
   ]
  },
  {
   "cell_type": "code",
   "execution_count": null,
   "metadata": {},
   "outputs": [],
   "source": [
    "rxn_net.write_dotgraph('rxn_net.png')"
   ]
  },
  {
   "cell_type": "code",
   "execution_count": null,
   "metadata": {},
   "outputs": [],
   "source": [
    "rxn_net.search_inter_by_elements({'C':2, 'H':2, 'O':0})"
   ]
  },
  {
   "cell_type": "code",
   "execution_count": null,
   "metadata": {},
   "outputs": [],
   "source": [
    "from rdkit import Chem\n",
    "from rdkit.Chem import Descriptors\n",
    "\n",
    "def check_shell(mol):\n",
    "    # Calculate the total valence electrons\n",
    "    total_valence_electrons = sum([atom.GetAtomicNum() - atom.GetFormalCharge() for atom in mol.GetAtoms()])\n",
    "\n",
    "    # Calculate the total electrons needed for closed-shell (using octet rule for simplicity)\n",
    "    total_closed_shell_electrons = sum([(8 - atom.GetTotalValence()) for atom in mol.GetAtoms()])\n",
    "\n",
    "    # Check if there are any unpaired electrons\n",
    "    unpaired_electrons = total_valence_electrons - total_closed_shell_electrons\n",
    "\n",
    "    if unpaired_electrons == 0:\n",
    "        return \"closed-shell\"\n",
    "    else:\n",
    "        return \"open-shell\"\n",
    "\n",
    "# Create an RDKit molecule object for ethylene\n",
    "ethylene = Chem.MolFromSmiles('C=C')\n",
    "print(check_shell(ethylene))  # Should return \"closed-shell\"\n",
    "\n",
    "# Create an RDKit molecule object for a methyl radical\n",
    "methyl_radical = Chem.MolFromSmiles('[CH3]')\n",
    "print(check_shell(methyl_radical))  # Should return \"open-shell\"\n"
   ]
  },
  {
   "cell_type": "code",
   "execution_count": null,
   "metadata": {},
   "outputs": [],
   "source": [
    "from rdkit import Chem\n",
    "\n",
    "def check_shell(mol):\n",
    "    total_valence_electrons = 0\n",
    "    required_electrons_for_closed_shell = 0\n",
    "    \n",
    "    for atom in mol.GetAtoms():\n",
    "        atomic_num = atom.GetAtomicNum()\n",
    "        total_valence_electrons += atomic_num  # Sum of atomic numbers gives an estimate of the valence electrons\n",
    "        required_electrons_for_closed_shell += 8  # Assuming octet rule for simplicity\n",
    "\n",
    "    # Calculate unpaired electrons\n",
    "    unpaired_electrons = required_electrons_for_closed_shell - total_valence_electrons\n",
    "    \n",
    "    # Estimate multiplicity (M = 2S + 1, where S is the total electron spin)\n",
    "    multiplicity = unpaired_electrons + 1\n",
    "    \n",
    "    if multiplicity == 1:\n",
    "        return \"closed-shell\"\n",
    "    else:\n",
    "        return \"open-shell\"\n",
    "\n",
    "# Example usage\n",
    "ethylene = Chem.MolFromSmiles('C=C')\n",
    "print(check_shell(ethylene))  # Should be \"closed-shell\"\n",
    "\n",
    "methyl_radical = Chem.MolFromSmiles('[CH3]')\n",
    "print(check_shell(methyl_radical))  # Should be \"open-shell\"\n"
   ]
  },
  {
   "cell_type": "markdown",
   "metadata": {},
   "source": [
    "# Check ASE atoms closed-shell nature"
   ]
  },
  {
   "cell_type": "code",
   "execution_count": null,
   "metadata": {},
   "outputs": [],
   "source": [
    "def is_closed_shell(molecule: Chem.Mol):\n",
    "    \"\"\"\n",
    "    Check if a molecule is closed-shell or not.\n",
    "    \"\"\"\n",
    "    # symbols = molecule.get_chemical_symbols()\n",
    "    # coords = molecule.get_positions()\n",
    "    # xyz = '\\n'.join(f'{symbol} {x} {y} {z}' for symbol, (x, y, z) in zip(symbols, coords))\n",
    "    # xyz = \"{}\\n\\n{}\".format(len(molecule), xyz)\n",
    "    # rdkit_mol = Chem.MolFromXYZBlock(xyz)\n",
    "    # conn_mol = Chem.Mol(rdkit_mol)\n",
    "    # rdDetermineBonds.DetermineConnectivity(conn_mol)\n",
    "    Chem.SanitizeMol(molecule, Chem.SANITIZE_FINDRADICALS  ^ Chem.SANITIZE_SETHYBRIDIZATION)\n",
    "    unpaired_electrons = 0\n",
    "    for atom in molecule.GetAtoms():\n",
    "        unpaired_electrons += atom.GetNumRadicalElectrons()\n",
    "        \n",
    "    if unpaired_electrons == 0:\n",
    "        return True\n",
    "    else:\n",
    "        return False\n",
    "    \n",
    "tests = [\"ethylene\", \"ethane\", \"ethyne\", \"ethanol\", \"Oxygen\"]\n",
    "smiles = [\"C=C\", \"CC\", \"C#C\", \"CCO\", \"O\", \"[CH3]\"]\n",
    "for smile in smiles:\n",
    "    mol = Chem.MolFromSmiles(smile)\n",
    "    print(f\"{smile}: {is_closed_shell(mol)}\")"
   ]
  },
  {
   "cell_type": "markdown",
   "metadata": {},
   "source": [
    "Plot graphviz with edge as function of energy"
   ]
  },
  {
   "cell_type": "code",
   "execution_count": 13,
   "metadata": {},
   "outputs": [
    {
     "name": "stderr",
     "output_type": "stream",
     "text": [
      "/scratch/ipykernel_4016581/638345095.py:8: DeprecationWarning: nx.nx_pydot.to_pydot depends on the pydot package, which hasknown issues and is not actively maintained.\n",
      "\n",
      "See https://github.com/networkx/networkx/issues/5723\n",
      "  plot = nx.drawing.nx_pydot.to_pydot(graph)\n"
     ]
    }
   ],
   "source": [
    "import networkx as nx\n",
    "import re\n",
    "import random\n",
    "graph = rxn_net.gen_graph2(\".\")\n",
    "# try layout kamada_kawai_layout\n",
    "pos = nx.kamada_kawai_layout(graph)\n",
    "nx.set_node_attributes(graph, pos, 'pos')\n",
    "plot = nx.drawing.nx_pydot.to_pydot(graph)\n",
    "# text in the node is the node attribute formula\n",
    "for node in plot.get_nodes():\n",
    "    # all numbers in the node label are subscripted\n",
    "    formula = node.get_attributes()['formula']\n",
    "    closed_shell = node.get_attributes()['closed_shell']\n",
    "    # print(formula, closed_shell)\n",
    "    for num in re.findall(r'\\d+', formula):\n",
    "        SUB = str.maketrans(\"0123456789\", \"₀₁₂₃₄₅₆₇₈₉\")\n",
    "        formula = formula.replace(num, num.translate(SUB))\n",
    "    figure = node.get_attributes()['fig']\n",
    "    node.set_fontname(\"Arial\")\n",
    "    # Add figure as html-like label without table borders\n",
    "    node.set_label(f\"\"\"<\n",
    "    <TABLE BORDER=\"0\" CELLBORDER=\"0\" CELLSPACING=\"0\">\n",
    "    <TR>\n",
    "    <TD><IMG SRC=\"{figure}\"/></TD>\n",
    "    </TR>\n",
    "    <TR>\n",
    "    <TD>{formula}</TD>\n",
    "    </TR>\n",
    "    </TABLE>>\"\"\")\n",
    "    node.set_style(\"filled\")\n",
    "    node.set_fillcolor(\"wheat\")\n",
    "    # set node shape as function of closed_shell attribute\n",
    "    node.set_shape(\"ellipse\")          \n",
    "    node.set_width(\"1.5\")\n",
    "    node.set_height(\"1.5\")\n",
    "    node.set_fixedsize(\"true\")\n",
    "# make graph undirected\n",
    "for edge in plot.get_edges():\n",
    "    edge.set_dir(\"none\")\n",
    "    edge.set_arrowhead(\"none\")\n",
    "    edge.set_arrowtail(\"none\")\n",
    "    edge.set_arrowsize(\"1.0\")\n",
    "    edge.set_penwidth(\"0.5\")\n",
    "    edge.set_color(\"azure4\")\n",
    "    edge.set_fontname(\"Arial\")\n",
    "    # # add reaction energy as edge label (random number between 0 and 1.6, only first two decimals)\n",
    "    # edge.set_label(f\"\"\"<\n",
    "    # <TABLE BORDER=\"0\" CELLBORDER=\"0\" CELLSPACING=\"0\">\n",
    "    # <TR>\n",
    "    # <TD>{random.random()*1.6:.2f}</TD>\n",
    "    # </TR>\n",
    "    # </TABLE>>\"\"\")\n",
    "    # edge.set_fontsize(\"10\")\n",
    "    # edge.set_fontcolor(\"azure4\")\n",
    "    energy = random.random()*1.6\n",
    "    # define edge color as function of energy (continuous color scale)\n",
    "    # if energy < 0.4:\n",
    "    #     edge.set_color(\"darkgreen\")\n",
    "    # elif energy < 0.8:\n",
    "    #     edge.set_color(\"green\")\n",
    "    # elif energy < 1.2:\n",
    "    #     edge.set_color(\"yellow\")\n",
    "    # elif energy < 1.6:\n",
    "    #     edge.set_color(\"red\")\n",
    "    # else:\n",
    "    #     edge.set_color(\"darkred\")\n",
    "\n",
    "# Define plot in order to have it more square in shape\n",
    "\n",
    "  \n",
    "plot.set_nodesep(0.3)\n",
    "plot.set_rankdir('LR')\n",
    "plot.set_margin(0.2)\n",
    "plot.set_pad(0.2)\n",
    "plot.write_png(\"RXN.png\")"
   ]
  },
  {
   "cell_type": "code",
   "execution_count": null,
   "metadata": {},
   "outputs": [],
   "source": []
  },
  {
   "cell_type": "code",
   "execution_count": null,
   "metadata": {},
   "outputs": [],
   "source": []
  },
  {
   "cell_type": "markdown",
   "metadata": {},
   "source": []
  },
  {
   "cell_type": "markdown",
   "metadata": {},
   "source": []
  }
 ],
 "metadata": {
  "kernelspec": {
   "display_name": "gnn",
   "language": "python",
   "name": "python3"
  },
  "language_info": {
   "codemirror_mode": {
    "name": "ipython",
    "version": 3
   },
   "file_extension": ".py",
   "mimetype": "text/x-python",
   "name": "python",
   "nbconvert_exporter": "python",
   "pygments_lexer": "ipython3",
   "version": "3.10.12"
  },
  "orig_nbformat": 4
 },
 "nbformat": 4,
 "nbformat_minor": 2
}
