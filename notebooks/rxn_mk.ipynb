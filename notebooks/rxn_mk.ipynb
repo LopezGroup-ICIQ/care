{
 "cells": [
  {
   "cell_type": "code",
   "execution_count": 1,
   "metadata": {},
   "outputs": [
    {
     "name": "stdout",
     "output_type": "stream",
     "text": [
      "58 105\n",
      "['1-0-1-1-1-g', '1-0-1-1-1-*', '1-1-1-1-1-*', '1-2-1-1-1-*', '1-3-1-1-1-*', '1-4-1-1-1-*', '1-4-1-1-1-g']\n"
     ]
    }
   ],
   "source": [
    "import os\n",
    "import pickle\n",
    "from ase.db import connect\n",
    "from ase.visualize import view\n",
    "import networkx as nx\n",
    "\n",
    "from GAMERNet.rnet.networks.reaction_network import ReactionNetwork\n",
    "from GAMERNet.rnet.networks.surface import Surface\n",
    "\n",
    "with open('../scripts/c1au111/rxn_net.pkl', 'rb') as pickle_file:\n",
    "    content = pickle.load(pickle_file)  # dict of elementary reactions\n",
    "\n",
    "rxn_net = ReactionNetwork().from_dict(content)\n",
    "print(len(rxn_net.intermediates), len(rxn_net.reactions))\n",
    "# graph = rxn_net.graph\n",
    "# # Fix shortest path detection\n",
    "x = rxn_net.get_shortest_path2(['1-0-1-1-1-g', '0-2-0-1-1-g'], '1-4-1-1-1-g')\n",
    "print(x)"
   ]
  },
  {
   "cell_type": "markdown",
   "metadata": {},
   "source": [
    "# delete C1HxO4"
   ]
  },
  {
   "cell_type": "code",
   "execution_count": 2,
   "metadata": {},
   "outputs": [
    {
     "name": "stdout",
     "output_type": "stream",
     "text": [
      "Deleted 1 intermediates and 2 elementary reactions\n",
      "Number of intermediates before: 58, after: 57\n",
      "Number of reactions before: 105, after: 103\n",
      "ReactionNetwork(42 intermediates, 14 closed-shell molecules, 103 reactions)\n",
      "Surface: Au48(111)\n",
      "Network Carbon cutoff: C1\n",
      "\n"
     ]
    }
   ],
   "source": [
    "rxn_net.del_intermediates([\"1-2-4-1-1-*\"])\n",
    "print(rxn_net)"
   ]
  },
  {
   "cell_type": "markdown",
   "metadata": {},
   "source": [
    "# delete rxn"
   ]
  },
  {
   "cell_type": "code",
   "execution_count": 2,
   "metadata": {},
   "outputs": [
    {
     "name": "stdout",
     "output_type": "stream",
     "text": [
      "Deleted 0 intermediates and 1 elementary reactions\n",
      "Number of reactions before: 105, after: 104\n"
     ]
    }
   ],
   "source": [
    "rxn_net.del_reactions([rxn_net.reactions[0]])"
   ]
  },
  {
   "cell_type": "code",
   "execution_count": 3,
   "metadata": {},
   "outputs": [
    {
     "name": "stdout",
     "output_type": "stream",
     "text": [
      "<class 'GAMERNet.rnet.networks.elementary_reaction.ElementaryReaction'>\n",
      "0-0-0-0-0-*(Au48*)+1-4-0-1-1-*(CH4*)<->1-3-0-1-1-*(CH3*)+0-1-0-1-1-*(H*)\n",
      "<class 'frozenset'>\n"
     ]
    }
   ],
   "source": [
    "step = rxn_net.reactions[0]\n",
    "print(type(step))\n",
    "print(step)\n",
    "print(type(step.components[0]))"
   ]
  },
  {
   "cell_type": "code",
   "execution_count": 4,
   "metadata": {},
   "outputs": [
    {
     "name": "stdout",
     "output_type": "stream",
     "text": [
      "57\n"
     ]
    }
   ],
   "source": [
    "print(len(rxn_net.intermediates))"
   ]
  },
  {
   "cell_type": "code",
   "execution_count": 4,
   "metadata": {},
   "outputs": [
    {
     "data": {
      "text/plain": [
       "[1-4-0-1-1-*(CH4*)+0-0-0-0-0-*(Au48*)<->1-3-0-1-1-*(CH3*)+0-1-0-1-1-*(H*),\n",
       " 1-3-0-1-1-*(CH3*)+0-0-0-0-0-*(Au48*)<->1-2-0-1-1-*(CH2*)+0-1-0-1-1-*(H*),\n",
       " 1-2-0-1-1-*(CH2*)+0-0-0-0-0-*(Au48*)<->1-1-0-1-1-*(CH*)+0-1-0-1-1-*(H*),\n",
       " 1-1-0-1-1-*(CH*)+0-0-0-0-0-*(Au48*)<->1-0-0-1-1-*(C*)+0-1-0-1-1-*(H*),\n",
       " 1-4-4-1-1-*(CH4O4*)+0-0-0-0-0-*(Au48*)<->1-3-4-1-1-*(CH3O4*)+0-1-0-1-1-*(H*),\n",
       " 1-2-4-1-1-*(CH2O4*)+0-0-0-0-0-*(Au48*)<->1-1-4-1-1-*(CHO4*)+0-1-0-1-1-*(H*),\n",
       " 1-1-4-1-1-*(CHO4*)+0-0-0-0-0-*(Au48*)<->1-0-4-1-1-*(CO4*)+0-1-0-1-1-*(H*),\n",
       " 1-4-3-1-1-*(CH4O3*)+0-0-0-0-0-*(Au48*)<->1-3-3-1-1-*(CH3O3*)+0-1-0-1-1-*(H*),\n",
       " 1-4-3-1-1-*(CH4O3*)+0-0-0-0-0-*(Au48*)<->1-3-3-1-2-*(CH3O3*)+0-1-0-1-1-*(H*),\n",
       " 1-3-3-1-1-*(CH3O3*)+0-0-0-0-0-*(Au48*)<->1-2-3-1-1-*(CH2O3*)+0-1-0-1-1-*(H*),\n",
       " 1-3-3-1-1-*(CH3O3*)+0-0-0-0-0-*(Au48*)<->1-2-3-1-2-*(CH2O3*)+0-1-0-1-1-*(H*),\n",
       " 1-3-3-1-2-*(CH3O3*)+0-0-0-0-0-*(Au48*)<->1-2-3-1-1-*(CH2O3*)+0-1-0-1-1-*(H*),\n",
       " 1-2-3-1-1-*(CH2O3*)+0-0-0-0-0-*(Au48*)<->1-1-3-1-1-*(CHO3*)+0-1-0-1-1-*(H*),\n",
       " 1-2-3-1-2-*(CH2O3*)+0-0-0-0-0-*(Au48*)<->1-1-3-1-1-*(CHO3*)+0-1-0-1-1-*(H*),\n",
       " 1-2-3-1-2-*(CH2O3*)+0-0-0-0-0-*(Au48*)<->1-1-3-1-2-*(CHO3*)+0-1-0-1-1-*(H*),\n",
       " 1-1-3-1-1-*(CHO3*)+0-0-0-0-0-*(Au48*)<->0-1-0-1-1-*(H*)+1-0-3-1-1-*(CO3*),\n",
       " 1-1-3-1-2-*(CHO3*)+0-0-0-0-0-*(Au48*)<->0-1-0-1-1-*(H*)+1-0-3-1-1-*(CO3*),\n",
       " 1-4-2-1-1-*(CH4O2*)+0-0-0-0-0-*(Au48*)<->1-3-2-1-1-*(CH3O2*)+0-1-0-1-1-*(H*),\n",
       " 1-4-2-1-1-*(CH4O2*)+0-0-0-0-0-*(Au48*)<->1-3-2-1-2-*(CH3O2*)+0-1-0-1-1-*(H*),\n",
       " 1-3-2-1-1-*(CH3O2*)+0-0-0-0-0-*(Au48*)<->1-2-2-1-1-*(CH2O2*)+0-1-0-1-1-*(H*),\n",
       " 1-3-2-1-1-*(CH3O2*)+0-0-0-0-0-*(Au48*)<->0-1-0-1-1-*(H*)+1-2-2-1-2-*(CH2O2*),\n",
       " 1-3-2-1-2-*(CH3O2*)+0-0-0-0-0-*(Au48*)<->1-2-2-1-1-*(CH2O2*)+0-1-0-1-1-*(H*),\n",
       " 1-3-2-1-2-*(CH3O2*)+0-0-0-0-0-*(Au48*)<->1-2-2-1-3-*(CH2O2*)+0-1-0-1-1-*(H*),\n",
       " 1-2-2-1-1-*(CH2O2*)+0-0-0-0-0-*(Au48*)<->1-1-2-1-1-*(CHO2*)+0-1-0-1-1-*(H*),\n",
       " 1-2-2-1-1-*(CH2O2*)+0-0-0-0-0-*(Au48*)<->1-1-2-1-2-*(CHO2*)+0-1-0-1-1-*(H*),\n",
       " 1-2-2-1-2-*(CH2O2*)+0-0-0-0-0-*(Au48*)<->1-1-2-1-2-*(CHO2*)+0-1-0-1-1-*(H*),\n",
       " 1-2-2-1-3-*(CH2O2*)+0-0-0-0-0-*(Au48*)<->1-1-2-1-1-*(CHO2*)+0-1-0-1-1-*(H*),\n",
       " 1-1-2-1-1-*(CHO2*)+0-0-0-0-0-*(Au48*)<->1-0-2-1-1-*(CO2*)+0-1-0-1-1-*(H*),\n",
       " 1-1-2-1-2-*(CHO2*)+0-0-0-0-0-*(Au48*)<->1-0-2-1-1-*(CO2*)+0-1-0-1-1-*(H*),\n",
       " 1-4-1-1-1-*(CH4O*)+0-0-0-0-0-*(Au48*)<->1-3-1-1-1-*(CH3O*)+0-1-0-1-1-*(H*),\n",
       " 1-4-1-1-1-*(CH4O*)+0-0-0-0-0-*(Au48*)<->1-3-1-1-2-*(CH3O*)+0-1-0-1-1-*(H*),\n",
       " 1-3-1-1-1-*(CH3O*)+0-0-0-0-0-*(Au48*)<->1-2-1-1-1-*(CH2O*)+0-1-0-1-1-*(H*),\n",
       " 1-3-1-1-1-*(CH3O*)+0-0-0-0-0-*(Au48*)<->1-2-1-1-2-*(CH2O*)+0-1-0-1-1-*(H*),\n",
       " 1-3-1-1-2-*(CH3O*)+0-0-0-0-0-*(Au48*)<->1-2-1-1-2-*(CH2O*)+0-1-0-1-1-*(H*),\n",
       " 1-2-1-1-1-*(CH2O*)+0-0-0-0-0-*(Au48*)<->0-1-0-1-1-*(H*)+1-1-1-1-1-*(CHO*),\n",
       " 1-2-1-1-1-*(CH2O*)+0-0-0-0-0-*(Au48*)<->0-1-0-1-1-*(H*)+1-1-1-1-2-*(CHO*),\n",
       " 1-2-1-1-2-*(CH2O*)+0-0-0-0-0-*(Au48*)<->0-1-0-1-1-*(H*)+1-1-1-1-2-*(CHO*),\n",
       " 1-1-1-1-1-*(CHO*)+0-0-0-0-0-*(Au48*)<->1-0-1-1-1-*(CO*)+0-1-0-1-1-*(H*),\n",
       " 0-0-0-0-0-*(Au48*)+1-1-1-1-2-*(CHO*)<->1-0-1-1-1-*(CO*)+0-1-0-1-1-*(H*),\n",
       " 0-2-1-1-1-*(H2O*)+0-0-0-0-0-*(Au48*)<->0-1-1-1-1-*(HO*)+0-1-0-1-1-*(H*),\n",
       " 0-1-1-1-1-*(HO*)+0-0-0-0-0-*(Au48*)<->0-0-1-1-1-*(O*)+0-1-0-1-1-*(H*),\n",
       " 0-2-2-1-1-*(H2O2*)+0-0-0-0-0-*(Au48*)<->0-1-2-1-1-*(HO2*)+0-1-0-1-1-*(H*),\n",
       " 0-1-2-1-1-*(HO2*)+0-0-0-0-0-*(Au48*)<->0-0-2-1-1-*(O2*)+0-1-0-1-1-*(H*),\n",
       " 0-2-0-1-1-*(H2*)+0-0-0-0-0-*(Au48*)<->0-1-0-1-1-*(H*),\n",
       " 1-4-4-1-1-*(CH4O4*)+0-0-0-0-0-*(Au48*)<->1-3-3-1-2-*(CH3O3*)+0-1-1-1-1-*(HO*),\n",
       " 1-3-4-1-1-*(CH3O4*)+0-0-0-0-0-*(Au48*)<->0-0-1-1-1-*(O*)+1-3-3-1-2-*(CH3O3*),\n",
       " 1-3-4-1-1-*(CH3O4*)+0-0-0-0-0-*(Au48*)<->1-2-3-1-1-*(CH2O3*)+0-1-1-1-1-*(HO*),\n",
       " 1-2-4-1-1-*(CH2O4*)+0-0-0-0-0-*(Au48*)<->1-1-3-1-1-*(CHO3*)+0-1-1-1-1-*(HO*),\n",
       " 1-1-4-1-1-*(CHO4*)+0-0-0-0-0-*(Au48*)<->0-0-1-1-1-*(O*)+1-1-3-1-1-*(CHO3*),\n",
       " 1-1-4-1-1-*(CHO4*)+0-0-0-0-0-*(Au48*)<->0-1-1-1-1-*(HO*)+1-0-3-1-1-*(CO3*),\n",
       " 1-0-4-1-1-*(CO4*)+0-0-0-0-0-*(Au48*)<->0-0-1-1-1-*(O*)+1-0-3-1-1-*(CO3*),\n",
       " 1-4-3-1-1-*(CH4O3*)+0-0-0-0-0-*(Au48*)<->1-3-2-1-2-*(CH3O2*)+0-1-1-1-1-*(HO*),\n",
       " 1-3-3-1-1-*(CH3O3*)+0-0-0-0-0-*(Au48*)<->0-0-1-1-1-*(O*)+1-3-2-1-2-*(CH3O2*),\n",
       " 1-3-3-1-1-*(CH3O3*)+0-0-0-0-0-*(Au48*)<->1-2-2-1-1-*(CH2O2*)+0-1-1-1-1-*(HO*),\n",
       " 1-3-3-1-2-*(CH3O3*)+0-0-0-0-0-*(Au48*)<->1-2-2-1-3-*(CH2O2*)+0-1-1-1-1-*(HO*),\n",
       " 1-2-3-1-1-*(CH2O3*)+0-0-0-0-0-*(Au48*)<->0-0-1-1-1-*(O*)+1-2-2-1-3-*(CH2O2*),\n",
       " 1-2-3-1-1-*(CH2O3*)+0-0-0-0-0-*(Au48*)<->1-1-2-1-1-*(CHO2*)+0-1-1-1-1-*(HO*),\n",
       " 1-2-3-1-2-*(CH2O3*)+0-0-0-0-0-*(Au48*)<->0-0-1-1-1-*(O*)+1-2-2-1-1-*(CH2O2*),\n",
       " 1-2-3-1-2-*(CH2O3*)+0-0-0-0-0-*(Au48*)<->1-1-2-1-2-*(CHO2*)+0-1-1-1-1-*(HO*),\n",
       " 1-1-3-1-1-*(CHO3*)+0-0-0-0-0-*(Au48*)<->0-0-1-1-1-*(O*)+1-1-2-1-1-*(CHO2*),\n",
       " 1-1-3-1-1-*(CHO3*)+0-0-0-0-0-*(Au48*)<->1-0-2-1-1-*(CO2*)+0-1-1-1-1-*(HO*),\n",
       " 1-1-3-1-2-*(CHO3*)+0-0-0-0-0-*(Au48*)<->1-1-2-1-2-*(CHO2*)+0-0-1-1-1-*(O*),\n",
       " 1-0-3-1-1-*(CO3*)+0-0-0-0-0-*(Au48*)<->0-0-1-1-1-*(O*)+1-0-2-1-1-*(CO2*),\n",
       " 1-4-2-1-1-*(CH4O2*)+0-0-0-0-0-*(Au48*)<->1-3-1-1-1-*(CH3O*)+0-1-1-1-1-*(HO*),\n",
       " 1-3-2-1-1-*(CH3O2*)+0-0-0-0-0-*(Au48*)<->0-0-1-1-1-*(O*)+1-3-1-1-1-*(CH3O*),\n",
       " 1-3-2-1-1-*(CH3O2*)+0-0-0-0-0-*(Au48*)<->1-2-1-1-2-*(CH2O*)+0-1-1-1-1-*(HO*),\n",
       " 1-3-2-1-2-*(CH3O2*)+0-0-0-0-0-*(Au48*)<->1-2-1-1-1-*(CH2O*)+0-1-1-1-1-*(HO*),\n",
       " 1-2-2-1-1-*(CH2O2*)+0-0-0-0-0-*(Au48*)<->1-2-1-1-1-*(CH2O*)+0-0-1-1-1-*(O*),\n",
       " 1-2-2-1-1-*(CH2O2*)+0-0-0-0-0-*(Au48*)<->0-1-1-1-1-*(HO*)+1-1-1-1-2-*(CHO*),\n",
       " 1-2-2-1-2-*(CH2O2*)+0-0-0-0-0-*(Au48*)<->0-0-1-1-1-*(O*)+1-2-1-1-2-*(CH2O*),\n",
       " 1-2-2-1-3-*(CH2O2*)+0-0-0-0-0-*(Au48*)<->0-1-1-1-1-*(HO*)+1-1-1-1-1-*(CHO*),\n",
       " 1-1-2-1-1-*(CHO2*)+0-0-0-0-0-*(Au48*)<->0-0-1-1-1-*(O*)+1-1-1-1-1-*(CHO*),\n",
       " 1-1-2-1-1-*(CHO2*)+0-0-0-0-0-*(Au48*)<->1-0-1-1-1-*(CO*)+0-1-1-1-1-*(HO*),\n",
       " 1-1-2-1-2-*(CHO2*)+0-0-0-0-0-*(Au48*)<->0-0-1-1-1-*(O*)+1-1-1-1-2-*(CHO*),\n",
       " 1-0-2-1-1-*(CO2*)+0-0-0-0-0-*(Au48*)<->0-0-1-1-1-*(O*)+1-0-1-1-1-*(CO*),\n",
       " 1-4-1-1-1-*(CH4O*)+0-0-0-0-0-*(Au48*)<->1-3-0-1-1-*(CH3*)+0-1-1-1-1-*(HO*),\n",
       " 1-3-1-1-1-*(CH3O*)+0-0-0-0-0-*(Au48*)<->0-1-1-1-1-*(HO*)+1-2-0-1-1-*(CH2*),\n",
       " 1-3-1-1-2-*(CH3O*)+0-0-0-0-0-*(Au48*)<->0-0-1-1-1-*(O*)+1-3-0-1-1-*(CH3*),\n",
       " 1-2-1-1-1-*(CH2O*)+0-0-0-0-0-*(Au48*)<->1-1-0-1-1-*(CH*)+0-1-1-1-1-*(HO*),\n",
       " 1-2-1-1-2-*(CH2O*)+0-0-0-0-0-*(Au48*)<->0-0-1-1-1-*(O*)+1-2-0-1-1-*(CH2*),\n",
       " 1-1-1-1-1-*(CHO*)+0-0-0-0-0-*(Au48*)<->1-0-0-1-1-*(C*)+0-1-1-1-1-*(HO*),\n",
       " 1-1-1-1-2-*(CHO*)+0-0-0-0-0-*(Au48*)<->0-0-1-1-1-*(O*)+1-1-0-1-1-*(CH*),\n",
       " 1-0-1-1-1-*(CO*)+0-0-0-0-0-*(Au48*)<->1-0-0-1-1-*(C*)+0-0-1-1-1-*(O*),\n",
       " 0-2-2-1-1-*(H2O2*)+0-0-0-0-0-*(Au48*)<->0-1-1-1-1-*(HO*),\n",
       " 0-1-2-1-1-*(HO2*)+0-0-0-0-0-*(Au48*)<->0-0-1-1-1-*(O*)+0-1-1-1-1-*(HO*),\n",
       " 0-0-2-1-1-*(O2*)+0-0-0-0-0-*(Au48*)<->0-0-1-1-1-*(O*),\n",
       " 0-2-0-1-1-*(H2*)+0-0-0-0-0-*(Au48*)<->0-1-0-1-1-*(H*),\n",
       " 1-4-0-1-1-g(CH4(g))+0-0-0-0-0-*(Au48*)<->1-4-0-1-1-*(CH4*),\n",
       " 1-4-4-1-1-g(CH4O4(g))+0-0-0-0-0-*(Au48*)<->1-4-4-1-1-*(CH4O4*),\n",
       " 1-4-3-1-1-g(CH4O3(g))+0-0-0-0-0-*(Au48*)<->1-4-3-1-1-*(CH4O3*),\n",
       " 1-2-3-1-1-g(CH2O3(g))+0-0-0-0-0-*(Au48*)<->1-2-3-1-1-*(CH2O3*),\n",
       " 1-4-2-1-1-g(CH4O2(g))+0-0-0-0-0-*(Au48*)<->1-4-2-1-1-*(CH4O2*),\n",
       " 1-2-2-1-1-g(CH2O2(g))+0-0-0-0-0-*(Au48*)<->1-2-2-1-1-*(CH2O2*),\n",
       " 1-0-2-1-1-g(CO2(g))+0-0-0-0-0-*(Au48*)<->1-0-2-1-1-*(CO2*),\n",
       " 1-4-1-1-1-g(CH4O(g))+0-0-0-0-0-*(Au48*)<->1-4-1-1-1-*(CH4O*),\n",
       " 1-2-1-1-2-g(CH2O(g))+0-0-0-0-0-*(Au48*)<->1-2-1-1-2-*(CH2O*),\n",
       " 1-0-1-1-1-g(CO(g))+0-0-0-0-0-*(Au48*)<->1-0-1-1-1-*(CO*),\n",
       " 0-2-1-1-1-g(H2O(g))+0-0-0-0-0-*(Au48*)<->0-2-1-1-1-*(H2O*),\n",
       " 0-2-2-1-1-g(H2O2(g))+0-0-0-0-0-*(Au48*)<->0-2-2-1-1-*(H2O2*),\n",
       " 0-0-2-1-1-g(O2(g))+0-0-0-0-0-*(Au48*)<->0-0-2-1-1-*(O2*),\n",
       " 0-2-0-1-1-g(H2(g))+0-0-0-0-0-*(Au48*)<->0-2-0-1-1-*(H2*),\n",
       " 0-2-0-1-1-g(H2(g))+0-0-0-0-0-*(Au48*)<->0-1-0-1-1-*(H*),\n",
       " 0-0-2-1-1-g(O2(g))+0-0-0-0-0-*(Au48*)<->0-0-1-1-1-*(O*)]"
      ]
     },
     "execution_count": 4,
     "metadata": {},
     "output_type": "execute_result"
    }
   ],
   "source": [
    "rxn_net.reactions"
   ]
  },
  {
   "cell_type": "code",
   "execution_count": 5,
   "metadata": {},
   "outputs": [
    {
     "data": {
      "text/plain": [
       "<networkx.classes.digraph.DiGraph at 0x7fdf581b7e50>"
      ]
     },
     "execution_count": 5,
     "metadata": {},
     "output_type": "execute_result"
    }
   ],
   "source": [
    "rxn_net.graph"
   ]
  },
  {
   "cell_type": "code",
   "execution_count": 5,
   "metadata": {},
   "outputs": [
    {
     "name": "stdout",
     "output_type": "stream",
     "text": [
      "0-0-0-0-0-* {'category': 'surf', 'gas_atoms': Atoms(symbols='Au48', pbc=True, cell=[[10.1802357174757, 0.0, 0.0], [5.09011785873783, 8.81634274784763, 0.0], [0.0, 0.0, 20.0]], conn_pairs=..., constraint=FixAtoms(indices=[0, 1, 2, 3, 4, 5, 6, 7, 8, 9, 10, 11, 12, 13, 14, 15, 16, 17, 18, 19, 20, 21, 22, 23])), 'code': '0-0-0-0-0-*', 'formula': 'Au48*', 'fig_path': '/home/smorandi/care/notebooks/tmp/0-0-0-0-0-*.png', 'switch': None}\n",
      "1-4-0-1-1-* {'category': 'ads', 'gas_atoms': Atoms(symbols='CH4', pbc=False, conn_pairs=...), 'code': '1-4-0-1-1-*', 'formula': 'CH4*', 'fig_path': '/home/smorandi/care/notebooks/tmp/1-4-0-1-1-*.png', 'switch': None}\n",
      "1-3-0-1-1-* {'category': 'ads', 'gas_atoms': Atoms(symbols='CH3', pbc=False, conn_pairs=...), 'code': '1-3-0-1-1-*', 'formula': 'CH3*', 'fig_path': '/home/smorandi/care/notebooks/tmp/1-3-0-1-1-*.png', 'switch': None}\n",
      "1-2-0-1-1-* {'category': 'ads', 'gas_atoms': Atoms(symbols='CH2', pbc=False, conn_pairs=...), 'code': '1-2-0-1-1-*', 'formula': 'CH2*', 'fig_path': '/home/smorandi/care/notebooks/tmp/1-2-0-1-1-*.png', 'switch': None}\n",
      "1-1-0-1-1-* {'category': 'ads', 'gas_atoms': Atoms(symbols='CH', pbc=False, conn_pairs=...), 'code': '1-1-0-1-1-*', 'formula': 'CH*', 'fig_path': '/home/smorandi/care/notebooks/tmp/1-1-0-1-1-*.png', 'switch': None}\n",
      "1-0-0-1-1-* {'category': 'ads', 'gas_atoms': Atoms(symbols='C', pbc=False, conn_pairs=...), 'code': '1-0-0-1-1-*', 'formula': 'C*', 'fig_path': '/home/smorandi/care/notebooks/tmp/1-0-0-1-1-*.png', 'switch': None}\n",
      "1-4-4-1-1-* {'category': 'ads', 'gas_atoms': Atoms(symbols='OCO3H4', pbc=False, conn_pairs=...), 'code': '1-4-4-1-1-*', 'formula': 'CH4O4*', 'fig_path': '/home/smorandi/care/notebooks/tmp/1-4-4-1-1-*.png', 'switch': None}\n",
      "1-3-4-1-1-* {'category': 'ads', 'gas_atoms': Atoms(symbols='OCO3H3', pbc=False, conn_pairs=...), 'code': '1-3-4-1-1-*', 'formula': 'CH3O4*', 'fig_path': '/home/smorandi/care/notebooks/tmp/1-3-4-1-1-*.png', 'switch': None}\n",
      "1-1-4-1-1-* {'category': 'ads', 'gas_atoms': Atoms(symbols='OCO3H', pbc=False, conn_pairs=...), 'code': '1-1-4-1-1-*', 'formula': 'CHO4*', 'fig_path': '/home/smorandi/care/notebooks/tmp/1-1-4-1-1-*.png', 'switch': None}\n",
      "1-0-4-1-1-* {'category': 'ads', 'gas_atoms': Atoms(symbols='OCO3', pbc=False, conn_pairs=...), 'code': '1-0-4-1-1-*', 'formula': 'CO4*', 'fig_path': '/home/smorandi/care/notebooks/tmp/1-0-4-1-1-*.png', 'switch': None}\n",
      "1-4-3-1-1-* {'category': 'ads', 'gas_atoms': Atoms(symbols='OCO2H4', pbc=False, conn_pairs=...), 'code': '1-4-3-1-1-*', 'formula': 'CH4O3*', 'fig_path': '/home/smorandi/care/notebooks/tmp/1-4-3-1-1-*.png', 'switch': None}\n",
      "1-3-3-1-1-* {'category': 'ads', 'gas_atoms': Atoms(symbols='OCO2H3', pbc=False, conn_pairs=...), 'code': '1-3-3-1-1-*', 'formula': 'CH3O3*', 'fig_path': '/home/smorandi/care/notebooks/tmp/1-3-3-1-1-*.png', 'switch': None}\n",
      "1-3-3-1-2-* {'category': 'ads', 'gas_atoms': Atoms(symbols='OCO2H3', pbc=False, conn_pairs=...), 'code': '1-3-3-1-2-*', 'formula': 'CH3O3*', 'fig_path': '/home/smorandi/care/notebooks/tmp/1-3-3-1-2-*.png', 'switch': None}\n",
      "1-2-3-1-1-* {'category': 'ads', 'gas_atoms': Atoms(symbols='OCO2H2', pbc=False, conn_pairs=...), 'code': '1-2-3-1-1-*', 'formula': 'CH2O3*', 'fig_path': '/home/smorandi/care/notebooks/tmp/1-2-3-1-1-*.png', 'switch': None}\n",
      "1-2-3-1-2-* {'category': 'ads', 'gas_atoms': Atoms(symbols='OCO2H2', pbc=False, conn_pairs=...), 'code': '1-2-3-1-2-*', 'formula': 'CH2O3*', 'fig_path': '/home/smorandi/care/notebooks/tmp/1-2-3-1-2-*.png', 'switch': None}\n",
      "1-1-3-1-1-* {'category': 'ads', 'gas_atoms': Atoms(symbols='OCO2H', pbc=False, conn_pairs=...), 'code': '1-1-3-1-1-*', 'formula': 'CHO3*', 'fig_path': '/home/smorandi/care/notebooks/tmp/1-1-3-1-1-*.png', 'switch': None}\n",
      "1-1-3-1-2-* {'category': 'ads', 'gas_atoms': Atoms(symbols='OCO2H', pbc=False, conn_pairs=...), 'code': '1-1-3-1-2-*', 'formula': 'CHO3*', 'fig_path': '/home/smorandi/care/notebooks/tmp/1-1-3-1-2-*.png', 'switch': None}\n",
      "1-0-3-1-1-* {'category': 'ads', 'gas_atoms': Atoms(symbols='OCO2', pbc=False, conn_pairs=...), 'code': '1-0-3-1-1-*', 'formula': 'CO3*', 'fig_path': '/home/smorandi/care/notebooks/tmp/1-0-3-1-1-*.png', 'switch': None}\n",
      "1-4-2-1-1-* {'category': 'ads', 'gas_atoms': Atoms(symbols='OCOH4', pbc=False, conn_pairs=...), 'code': '1-4-2-1-1-*', 'formula': 'CH4O2*', 'fig_path': '/home/smorandi/care/notebooks/tmp/1-4-2-1-1-*.png', 'switch': None}\n",
      "1-3-2-1-1-* {'category': 'ads', 'gas_atoms': Atoms(symbols='OCOH3', pbc=False, conn_pairs=...), 'code': '1-3-2-1-1-*', 'formula': 'CH3O2*', 'fig_path': '/home/smorandi/care/notebooks/tmp/1-3-2-1-1-*.png', 'switch': None}\n",
      "1-3-2-1-2-* {'category': 'ads', 'gas_atoms': Atoms(symbols='OCOH3', pbc=False, conn_pairs=...), 'code': '1-3-2-1-2-*', 'formula': 'CH3O2*', 'fig_path': '/home/smorandi/care/notebooks/tmp/1-3-2-1-2-*.png', 'switch': None}\n",
      "1-2-2-1-1-* {'category': 'ads', 'gas_atoms': Atoms(symbols='OCOH2', pbc=False, conn_pairs=...), 'code': '1-2-2-1-1-*', 'formula': 'CH2O2*', 'fig_path': '/home/smorandi/care/notebooks/tmp/1-2-2-1-1-*.png', 'switch': None}\n",
      "1-2-2-1-2-* {'category': 'ads', 'gas_atoms': Atoms(symbols='OCOH2', pbc=False, conn_pairs=...), 'code': '1-2-2-1-2-*', 'formula': 'CH2O2*', 'fig_path': '/home/smorandi/care/notebooks/tmp/1-2-2-1-2-*.png', 'switch': None}\n",
      "1-2-2-1-3-* {'category': 'ads', 'gas_atoms': Atoms(symbols='OCOH2', pbc=False, conn_pairs=...), 'code': '1-2-2-1-3-*', 'formula': 'CH2O2*', 'fig_path': '/home/smorandi/care/notebooks/tmp/1-2-2-1-3-*.png', 'switch': None}\n",
      "1-1-2-1-1-* {'category': 'ads', 'gas_atoms': Atoms(symbols='OCOH', pbc=False, conn_pairs=...), 'code': '1-1-2-1-1-*', 'formula': 'CHO2*', 'fig_path': '/home/smorandi/care/notebooks/tmp/1-1-2-1-1-*.png', 'switch': None}\n",
      "1-1-2-1-2-* {'category': 'ads', 'gas_atoms': Atoms(symbols='OCOH', pbc=False, conn_pairs=...), 'code': '1-1-2-1-2-*', 'formula': 'CHO2*', 'fig_path': '/home/smorandi/care/notebooks/tmp/1-1-2-1-2-*.png', 'switch': None}\n",
      "1-0-2-1-1-* {'category': 'ads', 'gas_atoms': Atoms(symbols='OCO', pbc=False, conn_pairs=...), 'code': '1-0-2-1-1-*', 'formula': 'CO2*', 'fig_path': '/home/smorandi/care/notebooks/tmp/1-0-2-1-1-*.png', 'switch': None}\n",
      "1-4-1-1-1-* {'category': 'ads', 'gas_atoms': Atoms(symbols='COH4', pbc=False, conn_pairs=...), 'code': '1-4-1-1-1-*', 'formula': 'CH4O*', 'fig_path': '/home/smorandi/care/notebooks/tmp/1-4-1-1-1-*.png', 'switch': None}\n",
      "1-3-1-1-1-* {'category': 'ads', 'gas_atoms': Atoms(symbols='COH3', pbc=False, conn_pairs=...), 'code': '1-3-1-1-1-*', 'formula': 'CH3O*', 'fig_path': '/home/smorandi/care/notebooks/tmp/1-3-1-1-1-*.png', 'switch': None}\n",
      "1-3-1-1-2-* {'category': 'ads', 'gas_atoms': Atoms(symbols='COH3', pbc=False, conn_pairs=...), 'code': '1-3-1-1-2-*', 'formula': 'CH3O*', 'fig_path': '/home/smorandi/care/notebooks/tmp/1-3-1-1-2-*.png', 'switch': None}\n",
      "1-2-1-1-1-* {'category': 'ads', 'gas_atoms': Atoms(symbols='COH2', pbc=False, conn_pairs=...), 'code': '1-2-1-1-1-*', 'formula': 'CH2O*', 'fig_path': '/home/smorandi/care/notebooks/tmp/1-2-1-1-1-*.png', 'switch': None}\n",
      "1-2-1-1-2-* {'category': 'ads', 'gas_atoms': Atoms(symbols='COH2', pbc=False, conn_pairs=...), 'code': '1-2-1-1-2-*', 'formula': 'CH2O*', 'fig_path': '/home/smorandi/care/notebooks/tmp/1-2-1-1-2-*.png', 'switch': None}\n",
      "1-1-1-1-1-* {'category': 'ads', 'gas_atoms': Atoms(symbols='COH', pbc=False, conn_pairs=...), 'code': '1-1-1-1-1-*', 'formula': 'CHO*', 'fig_path': '/home/smorandi/care/notebooks/tmp/1-1-1-1-1-*.png', 'switch': None}\n",
      "1-1-1-1-2-* {'category': 'ads', 'gas_atoms': Atoms(symbols='COH', pbc=False, conn_pairs=...), 'code': '1-1-1-1-2-*', 'formula': 'CHO*', 'fig_path': '/home/smorandi/care/notebooks/tmp/1-1-1-1-2-*.png', 'switch': None}\n",
      "1-0-1-1-1-* {'category': 'ads', 'gas_atoms': Atoms(symbols='CO', pbc=False, conn_pairs=...), 'code': '1-0-1-1-1-*', 'formula': 'CO*', 'fig_path': '/home/smorandi/care/notebooks/tmp/1-0-1-1-1-*.png', 'switch': None}\n",
      "0-2-1-1-1-* {'category': 'ads', 'gas_atoms': Atoms(symbols='OH2', pbc=False, conn_pairs=...), 'code': '0-2-1-1-1-*', 'formula': 'H2O*', 'fig_path': '/home/smorandi/care/notebooks/tmp/0-2-1-1-1-*.png', 'switch': None}\n",
      "0-1-1-1-1-* {'category': 'ads', 'gas_atoms': Atoms(symbols='OH', pbc=False, conn_pairs=...), 'code': '0-1-1-1-1-*', 'formula': 'HO*', 'fig_path': '/home/smorandi/care/notebooks/tmp/0-1-1-1-1-*.png', 'switch': None}\n",
      "0-0-1-1-1-* {'category': 'ads', 'gas_atoms': Atoms(symbols='O', pbc=False, conn_pairs=...), 'code': '0-0-1-1-1-*', 'formula': 'O*', 'fig_path': '/home/smorandi/care/notebooks/tmp/0-0-1-1-1-*.png', 'switch': None}\n",
      "0-2-2-1-1-* {'category': 'ads', 'gas_atoms': Atoms(symbols='O2H2', pbc=False, conn_pairs=...), 'code': '0-2-2-1-1-*', 'formula': 'H2O2*', 'fig_path': '/home/smorandi/care/notebooks/tmp/0-2-2-1-1-*.png', 'switch': None}\n",
      "0-1-2-1-1-* {'category': 'ads', 'gas_atoms': Atoms(symbols='O2H', pbc=False, conn_pairs=...), 'code': '0-1-2-1-1-*', 'formula': 'HO2*', 'fig_path': '/home/smorandi/care/notebooks/tmp/0-1-2-1-1-*.png', 'switch': None}\n",
      "0-0-2-1-1-* {'category': 'ads', 'gas_atoms': Atoms(symbols='O2', pbc=False, conn_pairs=...), 'code': '0-0-2-1-1-*', 'formula': 'O2*', 'fig_path': '/home/smorandi/care/notebooks/tmp/0-0-2-1-1-*.png', 'switch': None}\n",
      "0-2-0-1-1-* {'category': 'ads', 'gas_atoms': Atoms(symbols='H2', pbc=False, conn_pairs=...), 'code': '0-2-0-1-1-*', 'formula': 'H2*', 'fig_path': '/home/smorandi/care/notebooks/tmp/0-2-0-1-1-*.png', 'switch': None}\n",
      "0-1-0-1-1-* {'category': 'ads', 'gas_atoms': Atoms(symbols='H', pbc=False, conn_pairs=...), 'code': '0-1-0-1-1-*', 'formula': 'H*', 'fig_path': '/home/smorandi/care/notebooks/tmp/0-1-0-1-1-*.png', 'switch': None}\n",
      "1-4-0-1-1-g {'category': 'gas', 'gas_atoms': Atoms(symbols='CH4', pbc=False, conn_pairs=...), 'code': '1-4-0-1-1-g', 'formula': 'CH4(g)', 'fig_path': '/home/smorandi/care/notebooks/tmp/1-4-0-1-1-g.png', 'switch': None}\n",
      "1-4-4-1-1-g {'category': 'gas', 'gas_atoms': Atoms(symbols='OCO3H4', pbc=False, conn_pairs=...), 'code': '1-4-4-1-1-g', 'formula': 'CH4O4(g)', 'fig_path': '/home/smorandi/care/notebooks/tmp/1-4-4-1-1-g.png', 'switch': None}\n",
      "1-4-3-1-1-g {'category': 'gas', 'gas_atoms': Atoms(symbols='OCO2H4', pbc=False, conn_pairs=...), 'code': '1-4-3-1-1-g', 'formula': 'CH4O3(g)', 'fig_path': '/home/smorandi/care/notebooks/tmp/1-4-3-1-1-g.png', 'switch': None}\n",
      "1-2-3-1-1-g {'category': 'gas', 'gas_atoms': Atoms(symbols='OCO2H2', pbc=False, conn_pairs=...), 'code': '1-2-3-1-1-g', 'formula': 'CH2O3(g)', 'fig_path': '/home/smorandi/care/notebooks/tmp/1-2-3-1-1-g.png', 'switch': None}\n",
      "1-4-2-1-1-g {'category': 'gas', 'gas_atoms': Atoms(symbols='OCOH4', pbc=False, conn_pairs=...), 'code': '1-4-2-1-1-g', 'formula': 'CH4O2(g)', 'fig_path': '/home/smorandi/care/notebooks/tmp/1-4-2-1-1-g.png', 'switch': None}\n",
      "1-2-2-1-1-g {'category': 'gas', 'gas_atoms': Atoms(symbols='OCOH2', pbc=False, conn_pairs=...), 'code': '1-2-2-1-1-g', 'formula': 'CH2O2(g)', 'fig_path': '/home/smorandi/care/notebooks/tmp/1-2-2-1-1-g.png', 'switch': None}\n",
      "1-0-2-1-1-g {'category': 'gas', 'gas_atoms': Atoms(symbols='OCO', pbc=False, conn_pairs=...), 'code': '1-0-2-1-1-g', 'formula': 'CO2(g)', 'fig_path': '/home/smorandi/care/notebooks/tmp/1-0-2-1-1-g.png', 'switch': None}\n",
      "1-4-1-1-1-g {'category': 'gas', 'gas_atoms': Atoms(symbols='COH4', pbc=False, conn_pairs=...), 'code': '1-4-1-1-1-g', 'formula': 'CH4O(g)', 'fig_path': '/home/smorandi/care/notebooks/tmp/1-4-1-1-1-g.png', 'switch': None}\n",
      "1-2-1-1-2-g {'category': 'gas', 'gas_atoms': Atoms(symbols='COH2', pbc=False, conn_pairs=...), 'code': '1-2-1-1-2-g', 'formula': 'CH2O(g)', 'fig_path': '/home/smorandi/care/notebooks/tmp/1-2-1-1-2-g.png', 'switch': None}\n",
      "1-0-1-1-1-g {'category': 'gas', 'gas_atoms': Atoms(symbols='CO', pbc=False, conn_pairs=...), 'code': '1-0-1-1-1-g', 'formula': 'CO(g)', 'fig_path': '/home/smorandi/care/notebooks/tmp/1-0-1-1-1-g.png', 'switch': None}\n",
      "0-2-1-1-1-g {'category': 'gas', 'gas_atoms': Atoms(symbols='OH2', pbc=False, conn_pairs=...), 'code': '0-2-1-1-1-g', 'formula': 'H2O(g)', 'fig_path': '/home/smorandi/care/notebooks/tmp/0-2-1-1-1-g.png', 'switch': None}\n",
      "0-2-2-1-1-g {'category': 'gas', 'gas_atoms': Atoms(symbols='O2H2', pbc=False, conn_pairs=...), 'code': '0-2-2-1-1-g', 'formula': 'H2O2(g)', 'fig_path': '/home/smorandi/care/notebooks/tmp/0-2-2-1-1-g.png', 'switch': None}\n",
      "0-0-2-1-1-g {'category': 'gas', 'gas_atoms': Atoms(symbols='O2', pbc=False, conn_pairs=...), 'code': '0-0-2-1-1-g', 'formula': 'O2(g)', 'fig_path': '/home/smorandi/care/notebooks/tmp/0-0-2-1-1-g.png', 'switch': None}\n",
      "0-2-0-1-1-g {'category': 'gas', 'gas_atoms': Atoms(symbols='H2', pbc=False, conn_pairs=...), 'code': '0-2-0-1-1-g', 'formula': 'H2(g)', 'fig_path': '/home/smorandi/care/notebooks/tmp/0-2-0-1-1-g.png', 'switch': None}\n",
      "0-0-0-0-0-*(Au48*)+1-4-0-1-1-*(CH4*)<->1-3-0-1-1-*(CH3*)+0-1-0-1-1-*(H*) {'category': 'surface_reaction', 'switch': None}\n",
      "0-0-0-0-0-*(Au48*)+1-3-0-1-1-*(CH3*)<->1-2-0-1-1-*(CH2*)+0-1-0-1-1-*(H*) {'category': 'surface_reaction', 'switch': None}\n",
      "1-2-0-1-1-*(CH2*)+0-0-0-0-0-*(Au48*)<->1-1-0-1-1-*(CH*)+0-1-0-1-1-*(H*) {'category': 'surface_reaction', 'switch': None}\n",
      "0-0-0-0-0-*(Au48*)+1-1-0-1-1-*(CH*)<->1-0-0-1-1-*(C*)+0-1-0-1-1-*(H*) {'category': 'surface_reaction', 'switch': None}\n",
      "0-0-0-0-0-*(Au48*)+1-4-4-1-1-*(CH4O4*)<->1-3-4-1-1-*(CH3O4*)+0-1-0-1-1-*(H*) {'category': 'surface_reaction', 'switch': None}\n",
      "0-0-0-0-0-*(Au48*)+1-2-4-1-1-*(CH2O4*)<->1-1-4-1-1-*(CHO4*)+0-1-0-1-1-*(H*) {'category': 'surface_reaction', 'switch': None}\n",
      "1-2-4-1-1-* {}\n",
      "0-0-0-0-0-*(Au48*)+1-1-4-1-1-*(CHO4*)<->1-0-4-1-1-*(CO4*)+0-1-0-1-1-*(H*) {'category': 'surface_reaction', 'switch': None}\n",
      "0-0-0-0-0-*(Au48*)+1-4-3-1-1-*(CH4O3*)<->1-3-3-1-1-*(CH3O3*)+0-1-0-1-1-*(H*) {'category': 'surface_reaction', 'switch': None}\n",
      "0-0-0-0-0-*(Au48*)+1-4-3-1-1-*(CH4O3*)<->1-3-3-1-2-*(CH3O3*)+0-1-0-1-1-*(H*) {'category': 'surface_reaction', 'switch': None}\n",
      "0-0-0-0-0-*(Au48*)+1-3-3-1-1-*(CH3O3*)<->1-2-3-1-1-*(CH2O3*)+0-1-0-1-1-*(H*) {'category': 'surface_reaction', 'switch': None}\n",
      "0-0-0-0-0-*(Au48*)+1-3-3-1-1-*(CH3O3*)<->1-2-3-1-2-*(CH2O3*)+0-1-0-1-1-*(H*) {'category': 'surface_reaction', 'switch': None}\n",
      "0-0-0-0-0-*(Au48*)+1-3-3-1-2-*(CH3O3*)<->1-2-3-1-1-*(CH2O3*)+0-1-0-1-1-*(H*) {'category': 'surface_reaction', 'switch': None}\n",
      "0-0-0-0-0-*(Au48*)+1-2-3-1-1-*(CH2O3*)<->1-1-3-1-1-*(CHO3*)+0-1-0-1-1-*(H*) {'category': 'surface_reaction', 'switch': None}\n",
      "0-0-0-0-0-*(Au48*)+1-2-3-1-2-*(CH2O3*)<->1-1-3-1-1-*(CHO3*)+0-1-0-1-1-*(H*) {'category': 'surface_reaction', 'switch': None}\n",
      "0-0-0-0-0-*(Au48*)+1-2-3-1-2-*(CH2O3*)<->1-1-3-1-2-*(CHO3*)+0-1-0-1-1-*(H*) {'category': 'surface_reaction', 'switch': None}\n",
      "0-0-0-0-0-*(Au48*)+1-1-3-1-1-*(CHO3*)<->1-0-3-1-1-*(CO3*)+0-1-0-1-1-*(H*) {'category': 'surface_reaction', 'switch': None}\n",
      "0-0-0-0-0-*(Au48*)+1-1-3-1-2-*(CHO3*)<->1-0-3-1-1-*(CO3*)+0-1-0-1-1-*(H*) {'category': 'surface_reaction', 'switch': None}\n",
      "1-4-2-1-1-*(CH4O2*)+0-0-0-0-0-*(Au48*)<->1-3-2-1-1-*(CH3O2*)+0-1-0-1-1-*(H*) {'category': 'surface_reaction', 'switch': None}\n",
      "1-4-2-1-1-*(CH4O2*)+0-0-0-0-0-*(Au48*)<->1-3-2-1-2-*(CH3O2*)+0-1-0-1-1-*(H*) {'category': 'surface_reaction', 'switch': None}\n",
      "0-0-0-0-0-*(Au48*)+1-3-2-1-1-*(CH3O2*)<->1-2-2-1-1-*(CH2O2*)+0-1-0-1-1-*(H*) {'category': 'surface_reaction', 'switch': None}\n",
      "0-0-0-0-0-*(Au48*)+1-3-2-1-1-*(CH3O2*)<->1-2-2-1-2-*(CH2O2*)+0-1-0-1-1-*(H*) {'category': 'surface_reaction', 'switch': None}\n",
      "0-0-0-0-0-*(Au48*)+1-3-2-1-2-*(CH3O2*)<->1-2-2-1-1-*(CH2O2*)+0-1-0-1-1-*(H*) {'category': 'surface_reaction', 'switch': None}\n",
      "0-0-0-0-0-*(Au48*)+1-3-2-1-2-*(CH3O2*)<->0-1-0-1-1-*(H*)+1-2-2-1-3-*(CH2O2*) {'category': 'surface_reaction', 'switch': None}\n",
      "0-0-0-0-0-*(Au48*)+1-2-2-1-1-*(CH2O2*)<->1-1-2-1-1-*(CHO2*)+0-1-0-1-1-*(H*) {'category': 'surface_reaction', 'switch': None}\n",
      "0-0-0-0-0-*(Au48*)+1-2-2-1-1-*(CH2O2*)<->1-1-2-1-2-*(CHO2*)+0-1-0-1-1-*(H*) {'category': 'surface_reaction', 'switch': None}\n",
      "0-0-0-0-0-*(Au48*)+1-2-2-1-2-*(CH2O2*)<->1-1-2-1-2-*(CHO2*)+0-1-0-1-1-*(H*) {'category': 'surface_reaction', 'switch': None}\n",
      "0-0-0-0-0-*(Au48*)+1-2-2-1-3-*(CH2O2*)<->1-1-2-1-1-*(CHO2*)+0-1-0-1-1-*(H*) {'category': 'surface_reaction', 'switch': None}\n",
      "1-1-2-1-1-*(CHO2*)+0-0-0-0-0-*(Au48*)<->0-1-0-1-1-*(H*)+1-0-2-1-1-*(CO2*) {'category': 'surface_reaction', 'switch': None}\n",
      "0-0-0-0-0-*(Au48*)+1-1-2-1-2-*(CHO2*)<->0-1-0-1-1-*(H*)+1-0-2-1-1-*(CO2*) {'category': 'surface_reaction', 'switch': None}\n",
      "0-0-0-0-0-*(Au48*)+1-4-1-1-1-*(CH4O*)<->1-3-1-1-1-*(CH3O*)+0-1-0-1-1-*(H*) {'category': 'surface_reaction', 'switch': None}\n",
      "0-0-0-0-0-*(Au48*)+1-4-1-1-1-*(CH4O*)<->1-3-1-1-2-*(CH3O*)+0-1-0-1-1-*(H*) {'category': 'surface_reaction', 'switch': None}\n",
      "1-3-1-1-1-*(CH3O*)+0-0-0-0-0-*(Au48*)<->0-1-0-1-1-*(H*)+1-2-1-1-1-*(CH2O*) {'category': 'surface_reaction', 'switch': None}\n",
      "1-3-1-1-1-*(CH3O*)+0-0-0-0-0-*(Au48*)<->0-1-0-1-1-*(H*)+1-2-1-1-2-*(CH2O*) {'category': 'surface_reaction', 'switch': None}\n",
      "0-0-0-0-0-*(Au48*)+1-3-1-1-2-*(CH3O*)<->0-1-0-1-1-*(H*)+1-2-1-1-2-*(CH2O*) {'category': 'surface_reaction', 'switch': None}\n",
      "0-0-0-0-0-*(Au48*)+1-2-1-1-1-*(CH2O*)<->1-1-1-1-1-*(CHO*)+0-1-0-1-1-*(H*) {'category': 'surface_reaction', 'switch': None}\n",
      "0-0-0-0-0-*(Au48*)+1-2-1-1-1-*(CH2O*)<->1-1-1-1-2-*(CHO*)+0-1-0-1-1-*(H*) {'category': 'surface_reaction', 'switch': None}\n",
      "0-0-0-0-0-*(Au48*)+1-2-1-1-2-*(CH2O*)<->1-1-1-1-2-*(CHO*)+0-1-0-1-1-*(H*) {'category': 'surface_reaction', 'switch': None}\n",
      "0-0-0-0-0-*(Au48*)+1-1-1-1-1-*(CHO*)<->1-0-1-1-1-*(CO*)+0-1-0-1-1-*(H*) {'category': 'surface_reaction', 'switch': None}\n",
      "1-1-1-1-2-*(CHO*)+0-0-0-0-0-*(Au48*)<->1-0-1-1-1-*(CO*)+0-1-0-1-1-*(H*) {'category': 'surface_reaction', 'switch': None}\n",
      "0-0-0-0-0-*(Au48*)+0-2-1-1-1-*(H2O*)<->0-1-1-1-1-*(HO*)+0-1-0-1-1-*(H*) {'category': 'surface_reaction', 'switch': None}\n",
      "0-1-1-1-1-*(HO*)+0-0-0-0-0-*(Au48*)<->0-1-0-1-1-*(H*)+0-0-1-1-1-*(O*) {'category': 'surface_reaction', 'switch': None}\n",
      "0-0-0-0-0-*(Au48*)+0-2-2-1-1-*(H2O2*)<->0-1-2-1-1-*(HO2*)+0-1-0-1-1-*(H*) {'category': 'surface_reaction', 'switch': None}\n",
      "0-0-0-0-0-*(Au48*)+0-1-2-1-1-*(HO2*)<->0-0-2-1-1-*(O2*)+0-1-0-1-1-*(H*) {'category': 'surface_reaction', 'switch': None}\n",
      "0-0-0-0-0-*(Au48*)+0-2-0-1-1-*(H2*)<->0-1-0-1-1-*(H*) {'category': 'surface_reaction', 'switch': None}\n",
      "0-0-0-0-0-*(Au48*)+1-4-4-1-1-*(CH4O4*)<->0-1-1-1-1-*(HO*)+1-3-3-1-2-*(CH3O3*) {'category': 'surface_reaction', 'switch': None}\n",
      "0-0-0-0-0-*(Au48*)+1-3-4-1-1-*(CH3O4*)<->1-3-3-1-2-*(CH3O3*)+0-0-1-1-1-*(O*) {'category': 'surface_reaction', 'switch': None}\n",
      "0-0-0-0-0-*(Au48*)+1-3-4-1-1-*(CH3O4*)<->0-1-1-1-1-*(HO*)+1-2-3-1-1-*(CH2O3*) {'category': 'surface_reaction', 'switch': None}\n",
      "0-0-0-0-0-*(Au48*)+1-2-4-1-1-*(CH2O4*)<->0-1-1-1-1-*(HO*)+1-1-3-1-1-*(CHO3*) {'category': 'surface_reaction', 'switch': None}\n",
      "0-0-0-0-0-*(Au48*)+1-1-4-1-1-*(CHO4*)<->1-1-3-1-1-*(CHO3*)+0-0-1-1-1-*(O*) {'category': 'surface_reaction', 'switch': None}\n",
      "0-0-0-0-0-*(Au48*)+1-1-4-1-1-*(CHO4*)<->0-1-1-1-1-*(HO*)+1-0-3-1-1-*(CO3*) {'category': 'surface_reaction', 'switch': None}\n",
      "0-0-0-0-0-*(Au48*)+1-0-4-1-1-*(CO4*)<->1-0-3-1-1-*(CO3*)+0-0-1-1-1-*(O*) {'category': 'surface_reaction', 'switch': None}\n",
      "0-0-0-0-0-*(Au48*)+1-4-3-1-1-*(CH4O3*)<->0-1-1-1-1-*(HO*)+1-3-2-1-2-*(CH3O2*) {'category': 'surface_reaction', 'switch': None}\n",
      "0-0-0-0-0-*(Au48*)+1-3-3-1-1-*(CH3O3*)<->1-3-2-1-2-*(CH3O2*)+0-0-1-1-1-*(O*) {'category': 'surface_reaction', 'switch': None}\n",
      "0-0-0-0-0-*(Au48*)+1-3-3-1-1-*(CH3O3*)<->0-1-1-1-1-*(HO*)+1-2-2-1-1-*(CH2O2*) {'category': 'surface_reaction', 'switch': None}\n",
      "0-0-0-0-0-*(Au48*)+1-3-3-1-2-*(CH3O3*)<->0-1-1-1-1-*(HO*)+1-2-2-1-3-*(CH2O2*) {'category': 'surface_reaction', 'switch': None}\n",
      "0-0-0-0-0-*(Au48*)+1-2-3-1-1-*(CH2O3*)<->0-0-1-1-1-*(O*)+1-2-2-1-3-*(CH2O2*) {'category': 'surface_reaction', 'switch': None}\n",
      "0-0-0-0-0-*(Au48*)+1-2-3-1-1-*(CH2O3*)<->1-1-2-1-1-*(CHO2*)+0-1-1-1-1-*(HO*) {'category': 'surface_reaction', 'switch': None}\n",
      "0-0-0-0-0-*(Au48*)+1-2-3-1-2-*(CH2O3*)<->1-2-2-1-1-*(CH2O2*)+0-0-1-1-1-*(O*) {'category': 'surface_reaction', 'switch': None}\n",
      "0-0-0-0-0-*(Au48*)+1-2-3-1-2-*(CH2O3*)<->0-1-1-1-1-*(HO*)+1-1-2-1-2-*(CHO2*) {'category': 'surface_reaction', 'switch': None}\n",
      "0-0-0-0-0-*(Au48*)+1-1-3-1-1-*(CHO3*)<->1-1-2-1-1-*(CHO2*)+0-0-1-1-1-*(O*) {'category': 'surface_reaction', 'switch': None}\n",
      "0-0-0-0-0-*(Au48*)+1-1-3-1-1-*(CHO3*)<->0-1-1-1-1-*(HO*)+1-0-2-1-1-*(CO2*) {'category': 'surface_reaction', 'switch': None}\n",
      "0-0-0-0-0-*(Au48*)+1-1-3-1-2-*(CHO3*)<->1-1-2-1-2-*(CHO2*)+0-0-1-1-1-*(O*) {'category': 'surface_reaction', 'switch': None}\n",
      "0-0-0-0-0-*(Au48*)+1-0-3-1-1-*(CO3*)<->1-0-2-1-1-*(CO2*)+0-0-1-1-1-*(O*) {'category': 'surface_reaction', 'switch': None}\n",
      "0-0-0-0-0-*(Au48*)+1-4-2-1-1-*(CH4O2*)<->0-1-1-1-1-*(HO*)+1-3-1-1-1-*(CH3O*) {'category': 'surface_reaction', 'switch': None}\n",
      "0-0-0-0-0-*(Au48*)+1-3-2-1-1-*(CH3O2*)<->1-3-1-1-1-*(CH3O*)+0-0-1-1-1-*(O*) {'category': 'surface_reaction', 'switch': None}\n",
      "0-0-0-0-0-*(Au48*)+1-3-2-1-1-*(CH3O2*)<->0-1-1-1-1-*(HO*)+1-2-1-1-2-*(CH2O*) {'category': 'surface_reaction', 'switch': None}\n",
      "0-0-0-0-0-*(Au48*)+1-3-2-1-2-*(CH3O2*)<->0-1-1-1-1-*(HO*)+1-2-1-1-1-*(CH2O*) {'category': 'surface_reaction', 'switch': None}\n",
      "0-0-0-0-0-*(Au48*)+1-2-2-1-1-*(CH2O2*)<->1-2-1-1-1-*(CH2O*)+0-0-1-1-1-*(O*) {'category': 'surface_reaction', 'switch': None}\n",
      "0-0-0-0-0-*(Au48*)+1-2-2-1-1-*(CH2O2*)<->1-1-1-1-2-*(CHO*)+0-1-1-1-1-*(HO*) {'category': 'surface_reaction', 'switch': None}\n",
      "0-0-0-0-0-*(Au48*)+1-2-2-1-2-*(CH2O2*)<->0-0-1-1-1-*(O*)+1-2-1-1-2-*(CH2O*) {'category': 'surface_reaction', 'switch': None}\n",
      "0-0-0-0-0-*(Au48*)+1-2-2-1-3-*(CH2O2*)<->0-1-1-1-1-*(HO*)+1-1-1-1-1-*(CHO*) {'category': 'surface_reaction', 'switch': None}\n",
      "0-0-0-0-0-*(Au48*)+1-1-2-1-1-*(CHO2*)<->1-1-1-1-1-*(CHO*)+0-0-1-1-1-*(O*) {'category': 'surface_reaction', 'switch': None}\n",
      "0-0-0-0-0-*(Au48*)+1-1-2-1-1-*(CHO2*)<->0-1-1-1-1-*(HO*)+1-0-1-1-1-*(CO*) {'category': 'surface_reaction', 'switch': None}\n",
      "0-0-0-0-0-*(Au48*)+1-1-2-1-2-*(CHO2*)<->1-1-1-1-2-*(CHO*)+0-0-1-1-1-*(O*) {'category': 'surface_reaction', 'switch': None}\n",
      "0-0-0-0-0-*(Au48*)+1-0-2-1-1-*(CO2*)<->1-0-1-1-1-*(CO*)+0-0-1-1-1-*(O*) {'category': 'surface_reaction', 'switch': None}\n",
      "0-0-0-0-0-*(Au48*)+1-4-1-1-1-*(CH4O*)<->0-1-1-1-1-*(HO*)+1-3-0-1-1-*(CH3*) {'category': 'surface_reaction', 'switch': None}\n",
      "0-0-0-0-0-*(Au48*)+1-3-1-1-1-*(CH3O*)<->1-2-0-1-1-*(CH2*)+0-1-1-1-1-*(HO*) {'category': 'surface_reaction', 'switch': None}\n",
      "0-0-0-0-0-*(Au48*)+1-3-1-1-2-*(CH3O*)<->1-3-0-1-1-*(CH3*)+0-0-1-1-1-*(O*) {'category': 'surface_reaction', 'switch': None}\n",
      "0-0-0-0-0-*(Au48*)+1-2-1-1-1-*(CH2O*)<->0-1-1-1-1-*(HO*)+1-1-0-1-1-*(CH*) {'category': 'surface_reaction', 'switch': None}\n",
      "0-0-0-0-0-*(Au48*)+1-2-1-1-2-*(CH2O*)<->1-2-0-1-1-*(CH2*)+0-0-1-1-1-*(O*) {'category': 'surface_reaction', 'switch': None}\n",
      "0-0-0-0-0-*(Au48*)+1-1-1-1-1-*(CHO*)<->0-1-1-1-1-*(HO*)+1-0-0-1-1-*(C*) {'category': 'surface_reaction', 'switch': None}\n",
      "0-0-0-0-0-*(Au48*)+1-1-1-1-2-*(CHO*)<->1-1-0-1-1-*(CH*)+0-0-1-1-1-*(O*) {'category': 'surface_reaction', 'switch': None}\n",
      "0-0-0-0-0-*(Au48*)+1-0-1-1-1-*(CO*)<->1-0-0-1-1-*(C*)+0-0-1-1-1-*(O*) {'category': 'surface_reaction', 'switch': None}\n",
      "0-0-0-0-0-*(Au48*)+0-2-2-1-1-*(H2O2*)<->0-1-1-1-1-*(HO*) {'category': 'surface_reaction', 'switch': None}\n",
      "0-0-0-0-0-*(Au48*)+0-1-2-1-1-*(HO2*)<->0-1-1-1-1-*(HO*)+0-0-1-1-1-*(O*) {'category': 'surface_reaction', 'switch': None}\n",
      "0-0-0-0-0-*(Au48*)+0-0-2-1-1-*(O2*)<->0-0-1-1-1-*(O*) {'category': 'surface_reaction', 'switch': None}\n",
      "0-0-0-0-0-*(Au48*)+1-4-0-1-1-g(CH4(g))<->1-4-0-1-1-*(CH4*) {'category': 'adsorption', 'switch': None}\n",
      "0-0-0-0-0-*(Au48*)+1-4-4-1-1-g(CH4O4(g))<->1-4-4-1-1-*(CH4O4*) {'category': 'adsorption', 'switch': None}\n",
      "0-0-0-0-0-*(Au48*)+1-4-3-1-1-g(CH4O3(g))<->1-4-3-1-1-*(CH4O3*) {'category': 'adsorption', 'switch': None}\n",
      "0-0-0-0-0-*(Au48*)+1-2-3-1-1-g(CH2O3(g))<->1-2-3-1-1-*(CH2O3*) {'category': 'adsorption', 'switch': None}\n",
      "0-0-0-0-0-*(Au48*)+1-4-2-1-1-g(CH4O2(g))<->1-4-2-1-1-*(CH4O2*) {'category': 'adsorption', 'switch': None}\n",
      "0-0-0-0-0-*(Au48*)+1-2-2-1-1-g(CH2O2(g))<->1-2-2-1-1-*(CH2O2*) {'category': 'adsorption', 'switch': None}\n",
      "0-0-0-0-0-*(Au48*)+1-0-2-1-1-g(CO2(g))<->1-0-2-1-1-*(CO2*) {'category': 'adsorption', 'switch': None}\n",
      "0-0-0-0-0-*(Au48*)+1-4-1-1-1-g(CH4O(g))<->1-4-1-1-1-*(CH4O*) {'category': 'adsorption', 'switch': None}\n",
      "0-0-0-0-0-*(Au48*)+1-2-1-1-2-g(CH2O(g))<->1-2-1-1-2-*(CH2O*) {'category': 'adsorption', 'switch': None}\n",
      "0-0-0-0-0-*(Au48*)+1-0-1-1-1-g(CO(g))<->1-0-1-1-1-*(CO*) {'category': 'adsorption', 'switch': None}\n",
      "0-0-0-0-0-*(Au48*)+0-2-1-1-1-g(H2O(g))<->0-2-1-1-1-*(H2O*) {'category': 'adsorption', 'switch': None}\n",
      "0-0-0-0-0-*(Au48*)+0-2-2-1-1-g(H2O2(g))<->0-2-2-1-1-*(H2O2*) {'category': 'adsorption', 'switch': None}\n",
      "0-0-0-0-0-*(Au48*)+0-0-2-1-1-g(O2(g))<->0-0-2-1-1-*(O2*) {'category': 'adsorption', 'switch': None}\n",
      "0-0-0-0-0-*(Au48*)+0-2-0-1-1-g(H2(g))<->0-2-0-1-1-*(H2*) {'category': 'adsorption', 'switch': None}\n",
      "0-0-0-0-0-*(Au48*)+0-2-0-1-1-g(H2(g))<->0-1-0-1-1-*(H*) {'category': 'adsorption', 'switch': None}\n",
      "0-0-0-0-0-*(Au48*)+0-0-2-1-1-g(O2(g))<->0-0-1-1-1-*(O*) {'category': 'adsorption', 'switch': None}\n"
     ]
    }
   ],
   "source": [
    "graph = rxn_net.gen_graph(del_surf=True)\n",
    "for node in graph.nodes:\n",
    "    print(node, graph.nodes[node])"
   ]
  },
  {
   "cell_type": "code",
   "execution_count": 3,
   "metadata": {},
   "outputs": [
    {
     "ename": "KeyError",
     "evalue": "'category'",
     "output_type": "error",
     "traceback": [
      "\u001b[0;31m---------------------------------------------------------------------------\u001b[0m",
      "\u001b[0;31mKeyError\u001b[0m                                  Traceback (most recent call last)",
      "\u001b[1;32m/home/smorandi/care/notebooks/rxn_mk.ipynb Cell 4\u001b[0m line \u001b[0;36m1\n\u001b[0;32m----> <a href='vscode-notebook-cell:/home/smorandi/care/notebooks/rxn_mk.ipynb#X53sZmlsZQ%3D%3D?line=0'>1</a>\u001b[0m rxn_net\u001b[39m.\u001b[39;49mwrite_dotgraph(\u001b[39m\"\u001b[39;49m\u001b[39m.\u001b[39;49m\u001b[39m\"\u001b[39;49m, \u001b[39m\"\u001b[39;49m\u001b[39mtest_del.png\u001b[39;49m\u001b[39m\"\u001b[39;49m, show_steps\u001b[39m=\u001b[39;49m\u001b[39mFalse\u001b[39;49;00m)\n",
      "File \u001b[0;32m~/care/src/GAMERNet/rnet/networks/reaction_network.py:372\u001b[0m, in \u001b[0;36mReactionNetwork.write_dotgraph\u001b[0;34m(self, fig_path, filename, del_surf, highlight, show_steps)\u001b[0m\n\u001b[1;32m    370\u001b[0m plot \u001b[39m=\u001b[39m nx\u001b[39m.\u001b[39mdrawing\u001b[39m.\u001b[39mnx_pydot\u001b[39m.\u001b[39mto_pydot(graph)\n\u001b[1;32m    371\u001b[0m \u001b[39mfor\u001b[39;00m node \u001b[39min\u001b[39;00m plot\u001b[39m.\u001b[39mget_nodes():\n\u001b[0;32m--> 372\u001b[0m     category \u001b[39m=\u001b[39m node\u001b[39m.\u001b[39;49mget_attributes()[\u001b[39m'\u001b[39;49m\u001b[39mcategory\u001b[39;49m\u001b[39m'\u001b[39;49m]\n\u001b[1;32m    373\u001b[0m     \u001b[39mif\u001b[39;00m category \u001b[39min\u001b[39;00m (\u001b[39m'\u001b[39m\u001b[39mads\u001b[39m\u001b[39m'\u001b[39m, \u001b[39m'\u001b[39m\u001b[39mgas\u001b[39m\u001b[39m'\u001b[39m, \u001b[39m'\u001b[39m\u001b[39msurf\u001b[39m\u001b[39m'\u001b[39m):\n\u001b[1;32m    374\u001b[0m         formula \u001b[39m=\u001b[39m node\u001b[39m.\u001b[39mget_attributes()[\u001b[39m'\u001b[39m\u001b[39mformula\u001b[39m\u001b[39m'\u001b[39m]\n",
      "\u001b[0;31mKeyError\u001b[0m: 'category'"
     ]
    }
   ],
   "source": [
    "rxn_net.write_dotgraph(\".\", \"test_del.png\", show_steps=False)"
   ]
  },
  {
   "cell_type": "code",
   "execution_count": null,
   "metadata": {},
   "outputs": [],
   "source": []
  },
  {
   "cell_type": "code",
   "execution_count": null,
   "metadata": {},
   "outputs": [],
   "source": []
  },
  {
   "cell_type": "code",
   "execution_count": 2,
   "metadata": {},
   "outputs": [],
   "source": [
    "rxn_net.write_dotgraph(\".\", 'HIGHLIGHT_test.png', del_surf=True,  show_steps=False, highlight=x)"
   ]
  },
  {
   "cell_type": "markdown",
   "metadata": {},
   "source": [
    "# interactive plotly graph"
   ]
  },
  {
   "cell_type": "code",
   "execution_count": 4,
   "metadata": {},
   "outputs": [],
   "source": [
    "graph = rxn_net.gen_graph(del_surf=True, show_steps=False, highlight=x)"
   ]
  },
  {
   "cell_type": "code",
   "execution_count": 5,
   "metadata": {},
   "outputs": [],
   "source": [
    "import plotly.graph_objects as go\n",
    "\n",
    "def gen_interactive_graph(graph: nx.DiGraph):\n",
    "    pos = nx.kamada_kawai_layout(graph)\n",
    "    nx.set_node_attributes(graph, pos, 'pos')\n",
    "    edge_x = []\n",
    "    edge_y = []\n",
    "    G = graph\n",
    "    for edge in G.edges():\n",
    "        x0, y0 = G.nodes[edge[0]]['pos']\n",
    "        x1, y1 = G.nodes[edge[1]]['pos']\n",
    "        edge_x.append(x0)\n",
    "        edge_x.append(x1)\n",
    "        edge_x.append(None)\n",
    "        edge_y.append(y0)\n",
    "        edge_y.append(y1)\n",
    "        edge_y.append(None)\n",
    "    \n",
    "    edge_trace = go.Scatter(\n",
    "        x=edge_x, y=edge_y,\n",
    "        line=dict(width=0.5, color='#888'),\n",
    "        hoverinfo='none',\n",
    "        mode='lines')\n",
    "    \n",
    "    node_x = [pos[0] for pos in list(nx.get_node_attributes(G,'pos').values())]\n",
    "    node_y = [pos[1] for pos in list(nx.get_node_attributes(G,'pos').values())]\n",
    "    \n",
    "    hover_texts = []\n",
    "    for node in G.nodes(data=True):\n",
    "        img_path = node[1]['fig_path']\n",
    "        formula = node[1]['formula']\n",
    "        hover_text = f\"\"\"<\n",
    "                <TABLE BORDER=\"0\" CELLBORDER=\"0\" CELLSPACING=\"0\">\n",
    "                <TR>\n",
    "                <TD><IMG SRC=\"{img_path}\"/></TD>\n",
    "                </TR>\n",
    "                <TR>\n",
    "                <TD>{formula}</TD>\n",
    "                </TR>\n",
    "                </TABLE>>\"\"\"\n",
    "        hover_texts.append(hover_text)\n",
    "    node_trace = go.Scatter(\n",
    "        x=node_x, y=node_y,\n",
    "        mode='markers',\n",
    "        hoverinfo='text',\n",
    "        hovertext=hover_texts,\n",
    "        marker=dict(\n",
    "            showscale=True,\n",
    "            size=30,\n",
    "            colorbar=dict(\n",
    "                thickness=15,\n",
    "                title='Node Connections',\n",
    "                xanchor='left',\n",
    "                titleside='right'\n",
    "            )\n",
    "        )\n",
    "    )\n",
    "    \n",
    "    node_adjacencies = []\n",
    "    node_text = []\n",
    "    for node, adjacencies in enumerate(G.adjacency()):\n",
    "        node_adjacencies.append(len(adjacencies[1]))\n",
    "        node_text.append(f\"# of connections: {len(adjacencies[1])}\")\n",
    "    \n",
    "    node_trace.marker.color = node_adjacencies\n",
    "    node_trace.text = node_text\n",
    "    \n",
    "    fig = go.Figure(data=[edge_trace, node_trace],\n",
    "                 layout=go.Layout(\n",
    "                    showlegend=False,\n",
    "                    hovermode='closest',\n",
    "                    margin=dict(b=0,l=0,r=0,t=0),\n",
    "                    xaxis=dict(showgrid=False, zeroline=False),\n",
    "                    yaxis=dict(showgrid=False, zeroline=False))\n",
    "                    )\n",
    "    fig.show()\n",
    "    "
   ]
  },
  {
   "cell_type": "code",
   "execution_count": 6,
   "metadata": {},
   "outputs": [
    {
     "data": {
      "application/vnd.plotly.v1+json": {
       "config": {
        "plotlyServerURL": "https://plot.ly"
       },
       "data": [
        {
         "hoverinfo": "none",
         "line": {
          "color": "#888",
          "width": 0.5
         },
         "mode": "lines",
         "type": "scatter",
         "x": [
          0.2505046730336262,
          0.05651567584186426,
          null,
          0.05651567584186426,
          -0.25936513720706444,
          null,
          -0.25936513720706444,
          -0.62798414595716,
          null,
          -0.62798414595716,
          -0.9999999999999999,
          null,
          0.5418856288303331,
          0.3061509044110526,
          null,
          0.5418856288303331,
          0.15711077493268383,
          null,
          0.5418856288303331,
          0.1530897817386925,
          null,
          0.3061509044110526,
          -0.09352264550907796,
          null,
          0.3061509044110526,
          0.04959185008427817,
          null,
          0.3061509044110526,
          0.1530897817386925,
          null,
          0.3061509044110526,
          -0.08988068387271857,
          null,
          0.15711077493268383,
          -0.09352264550907796,
          null,
          0.15711077493268383,
          -0.23065289135462666,
          null,
          0.15711077493268383,
          -0.2357966112228638,
          null,
          -0.09352264550907796,
          -0.49119840241814805,
          null,
          -0.09352264550907796,
          -0.3602810901316654,
          null,
          -0.09352264550907796,
          -0.2357966112228638,
          null,
          -0.09352264550907796,
          -0.49550804235364126,
          null,
          0.04959185008427817,
          -0.3602810901316654,
          null,
          0.04959185008427817,
          -0.08988068387271857,
          null,
          -0.23065289135462666,
          -0.49119840241814805,
          null,
          -0.23065289135462666,
          -0.6190808422368709,
          null,
          -0.49119840241814805,
          -0.7641330116065017,
          null,
          -0.49119840241814805,
          -0.6190808422368709,
          null,
          -0.49119840241814805,
          -0.8864424754262306,
          null,
          -0.3602810901316654,
          -0.7641330116065017,
          null,
          -0.3602810901316654,
          -0.49550804235364126,
          null,
          -0.7641330116065017,
          -0.8864424754262306,
          null,
          0.5492661475266913,
          0.30858507001638774,
          null,
          0.5492661475266913,
          0.164488332111063,
          null,
          0.5492661475266913,
          0.15711077493268383,
          null,
          0.30858507001638774,
          -0.08820002236730903,
          null,
          0.30858507001638774,
          0.04884419251942967,
          null,
          0.30858507001638774,
          0.15711077493268383,
          null,
          0.30858507001638774,
          -0.09352264550907796,
          null,
          0.164488332111063,
          -0.08820002236730903,
          null,
          0.164488332111063,
          -0.23065289135462666,
          null,
          -0.08820002236730903,
          -0.35810936521199843,
          null,
          -0.08820002236730903,
          -0.23065289135462666,
          null,
          -0.08820002236730903,
          -0.49119840241814805,
          null,
          0.04884419251942967,
          -0.35810936521199843,
          null,
          0.04884419251942967,
          -0.2104968620375423,
          null,
          0.04884419251942967,
          -0.09352264550907796,
          null,
          0.04884419251942967,
          -0.3602810901316654,
          null,
          -0.35810936521199843,
          -0.6176378706099178,
          null,
          -0.35810936521199843,
          -0.49119840241814805,
          null,
          -0.35810936521199843,
          -0.7641330116065017,
          null,
          -0.2104968620375423,
          -0.6176378706099178,
          null,
          -0.2104968620375423,
          -0.3602810901316654,
          null,
          -0.6176378706099178,
          -0.7641330116065017,
          null,
          0.48814595206974365,
          0.1530897817386925,
          null,
          0.48814595206974365,
          0.26666847593912757,
          null,
          0.48814595206974365,
          0.05651567584186426,
          null,
          0.1530897817386925,
          -0.2357966112228638,
          null,
          0.1530897817386925,
          -0.08988068387271857,
          null,
          0.1530897817386925,
          -0.25936513720706444,
          null,
          0.26666847593912757,
          -0.08988068387271857,
          null,
          0.26666847593912757,
          0.05651567584186426,
          null,
          -0.2357966112228638,
          -0.6190808422368709,
          null,
          -0.2357966112228638,
          -0.49550804235364126,
          null,
          -0.2357966112228638,
          -0.62798414595716,
          null,
          -0.08988068387271857,
          -0.49550804235364126,
          null,
          -0.08988068387271857,
          -0.25936513720706444,
          null,
          -0.6190808422368709,
          -0.8864424754262306,
          null,
          -0.6190808422368709,
          -0.9999999999999999,
          null,
          -0.49550804235364126,
          -0.8864424754262306,
          null,
          -0.49550804235364126,
          -0.62798414595716,
          null,
          -0.8864424754262306,
          -0.9999999999999999,
          null,
          0.5558569274079108,
          0.3110531924021146,
          null,
          0.5558569274079108,
          0.164488332111063,
          null,
          0.3110531924021146,
          0.052640335447696036,
          null,
          0.3110531924021146,
          0.164488332111063,
          null,
          0.3110531924021146,
          -0.08820002236730903,
          null,
          0.052640335447696036,
          -0.2096761278818284,
          null,
          0.052640335447696036,
          -0.08820002236730903,
          null,
          0.052640335447696036,
          -0.35810936521199843,
          null,
          -0.2096761278818284,
          -0.4652308894053137,
          null,
          -0.2096761278818284,
          -0.35810936521199843,
          null,
          -0.2096761278818284,
          -0.6176378706099178,
          null,
          -0.4652308894053137,
          -0.6176378706099178,
          null,
          0.5173332796252709,
          0.2505046730336262,
          null,
          0.9043109775133192,
          0.5418856288303331,
          null,
          0.29379355890456205,
          -0.09352264550907796,
          null,
          -0.47577194530351574,
          -0.7641330116065017,
          null,
          0.9121048830455114,
          0.5492661475266913,
          null,
          0.31149097706731527,
          -0.08820002236730903,
          null,
          0.8749836660951945,
          0.48814595206974365,
          null,
          0.18503595965981956,
          -0.08988068387271857,
          null,
          -0.5988476833129539,
          -0.8864424754262306,
          null,
          0.9183655292032599,
          0.5558569274079108,
          null
         ],
         "y": [
          -0.24804609649140483,
          0.07256189510661065,
          null,
          0.07256189510661065,
          0.34358666468235555,
          null,
          0.34358666468235555,
          0.4619758634299398,
          null,
          0.4619758634299398,
          0.5672397054990017,
          null,
          0.29700552866475827,
          -0.03611400971236747,
          null,
          0.29700552866475827,
          0.30758394778413334,
          null,
          0.29700552866475827,
          0.31040744043513024,
          null,
          -0.03611400971236747,
          -0.0006783094777045124,
          null,
          -0.03611400971236747,
          -0.3311339901316899,
          null,
          -0.03611400971236747,
          0.31040744043513024,
          null,
          -0.03611400971236747,
          0.027159724161328697,
          null,
          0.30758394778413334,
          -0.0006783094777045124,
          null,
          0.30758394778413334,
          0.36126914149498507,
          null,
          0.30758394778413334,
          0.3742383571194889,
          null,
          -0.0006783094777045124,
          0.0683009999742346,
          null,
          -0.0006783094777045124,
          -0.28662786409950275,
          null,
          -0.0006783094777045124,
          0.3742383571194889,
          null,
          -0.0006783094777045124,
          0.08282485966829001,
          null,
          -0.3311339901316899,
          -0.28662786409950275,
          null,
          -0.3311339901316899,
          0.027159724161328697,
          null,
          0.36126914149498507,
          0.0683009999742346,
          null,
          0.36126914149498507,
          0.4526264997766762,
          null,
          0.0683009999742346,
          -0.20985252825337572,
          null,
          0.0683009999742346,
          0.4526264997766762,
          null,
          0.0683009999742346,
          0.17320608169876217,
          null,
          -0.28662786409950275,
          -0.20985252825337572,
          null,
          -0.28662786409950275,
          0.08282485966829001,
          null,
          -0.20985252825337572,
          0.17320608169876217,
          null,
          0.2828935194314485,
          -0.045387711010055204,
          null,
          0.2828935194314485,
          0.28776947594322777,
          null,
          0.2828935194314485,
          0.30758394778413334,
          null,
          -0.045387711010055204,
          -0.011335101897198045,
          null,
          -0.045387711010055204,
          -0.3486994573104484,
          null,
          -0.045387711010055204,
          0.30758394778413334,
          null,
          -0.045387711010055204,
          -0.0006783094777045124,
          null,
          0.28776947594322777,
          -0.011335101897198045,
          null,
          0.28776947594322777,
          0.36126914149498507,
          null,
          -0.011335101897198045,
          -0.2960498014629221,
          null,
          -0.011335101897198045,
          0.36126914149498507,
          null,
          -0.011335101897198045,
          0.0683009999742346,
          null,
          -0.3486994573104484,
          -0.2960498014629221,
          null,
          -0.3486994573104484,
          -0.6297788395897858,
          null,
          -0.3486994573104484,
          -0.0006783094777045124,
          null,
          -0.3486994573104484,
          -0.28662786409950275,
          null,
          -0.2960498014629221,
          -0.5718411122374862,
          null,
          -0.2960498014629221,
          0.0683009999742346,
          null,
          -0.2960498014629221,
          -0.20985252825337572,
          null,
          -0.6297788395897858,
          -0.5718411122374862,
          null,
          -0.6297788395897858,
          -0.28662786409950275,
          null,
          -0.5718411122374862,
          -0.20985252825337572,
          null,
          0.0745102012067718,
          0.31040744043513024,
          null,
          0.0745102012067718,
          0.3331395319561867,
          null,
          0.0745102012067718,
          0.07256189510661065,
          null,
          0.31040744043513024,
          0.3742383571194889,
          null,
          0.31040744043513024,
          0.027159724161328697,
          null,
          0.31040744043513024,
          0.34358666468235555,
          null,
          0.3331395319561867,
          0.027159724161328697,
          null,
          0.3331395319561867,
          0.07256189510661065,
          null,
          0.3742383571194889,
          0.4526264997766762,
          null,
          0.3742383571194889,
          0.08282485966829001,
          null,
          0.3742383571194889,
          0.4619758634299398,
          null,
          0.027159724161328697,
          0.08282485966829001,
          null,
          0.027159724161328697,
          0.34358666468235555,
          null,
          0.4526264997766762,
          0.17320608169876217,
          null,
          0.4526264997766762,
          0.5672397054990017,
          null,
          0.08282485966829001,
          0.17320608169876217,
          null,
          0.08282485966829001,
          0.4619758634299398,
          null,
          0.17320608169876217,
          0.5672397054990017,
          null,
          0.2516892009063019,
          -0.06132261145731894,
          null,
          0.2516892009063019,
          0.28776947594322777,
          null,
          -0.06132261145731894,
          -0.3568265895482518,
          null,
          -0.06132261145731894,
          0.28776947594322777,
          null,
          -0.06132261145731894,
          -0.011335101897198045,
          null,
          -0.3568265895482518,
          -0.637422512599117,
          null,
          -0.3568265895482518,
          -0.011335101897198045,
          null,
          -0.3568265895482518,
          -0.2960498014629221,
          null,
          -0.637422512599117,
          -0.9098019520379265,
          null,
          -0.637422512599117,
          -0.2960498014629221,
          null,
          -0.637422512599117,
          -0.5718411122374862,
          null,
          -0.9098019520379265,
          -0.5718411122374862,
          null,
          -0.517349989539888,
          -0.24804609649140483,
          null,
          0.44808224668299473,
          0.29700552866475827,
          null,
          -0.09270079570032774,
          -0.0006783094777045124,
          null,
          -0.454865668488401,
          -0.20985252825337572,
          null,
          0.4331651917841355,
          0.2828935194314485,
          null,
          -0.06245884090602834,
          -0.011335101897198045,
          null,
          0.021028320454649665,
          0.0745102012067718,
          null,
          -0.25019756432854307,
          0.027159724161328697,
          null,
          -0.07293619812140978,
          0.17320608169876217,
          null,
          0.39916314653974105,
          0.2516892009063019,
          null
         ]
        },
        {
         "hoverinfo": "text",
         "hovertext": [
          "<\n                <TABLE BORDER=\"0\" CELLBORDER=\"0\" CELLSPACING=\"0\">\n                <TR>\n                <TD><IMG SRC=\"/home/smorandi/care/notebooks/tmp/1-4-0-1-1-*.png\"/></TD>\n                </TR>\n                <TR>\n                <TD>CH4*</TD>\n                </TR>\n                </TABLE>>",
          "<\n                <TABLE BORDER=\"0\" CELLBORDER=\"0\" CELLSPACING=\"0\">\n                <TR>\n                <TD><IMG SRC=\"/home/smorandi/care/notebooks/tmp/1-3-0-1-1-*.png\"/></TD>\n                </TR>\n                <TR>\n                <TD>CH3*</TD>\n                </TR>\n                </TABLE>>",
          "<\n                <TABLE BORDER=\"0\" CELLBORDER=\"0\" CELLSPACING=\"0\">\n                <TR>\n                <TD><IMG SRC=\"/home/smorandi/care/notebooks/tmp/1-2-0-1-1-*.png\"/></TD>\n                </TR>\n                <TR>\n                <TD>CH2*</TD>\n                </TR>\n                </TABLE>>",
          "<\n                <TABLE BORDER=\"0\" CELLBORDER=\"0\" CELLSPACING=\"0\">\n                <TR>\n                <TD><IMG SRC=\"/home/smorandi/care/notebooks/tmp/1-1-0-1-1-*.png\"/></TD>\n                </TR>\n                <TR>\n                <TD>CH*</TD>\n                </TR>\n                </TABLE>>",
          "<\n                <TABLE BORDER=\"0\" CELLBORDER=\"0\" CELLSPACING=\"0\">\n                <TR>\n                <TD><IMG SRC=\"/home/smorandi/care/notebooks/tmp/1-0-0-1-1-*.png\"/></TD>\n                </TR>\n                <TR>\n                <TD>C*</TD>\n                </TR>\n                </TABLE>>",
          "<\n                <TABLE BORDER=\"0\" CELLBORDER=\"0\" CELLSPACING=\"0\">\n                <TR>\n                <TD><IMG SRC=\"/home/smorandi/care/notebooks/tmp/1-4-2-1-1-*.png\"/></TD>\n                </TR>\n                <TR>\n                <TD>CH4O2*</TD>\n                </TR>\n                </TABLE>>",
          "<\n                <TABLE BORDER=\"0\" CELLBORDER=\"0\" CELLSPACING=\"0\">\n                <TR>\n                <TD><IMG SRC=\"/home/smorandi/care/notebooks/tmp/1-3-2-1-1-*.png\"/></TD>\n                </TR>\n                <TR>\n                <TD>CH3O2*</TD>\n                </TR>\n                </TABLE>>",
          "<\n                <TABLE BORDER=\"0\" CELLBORDER=\"0\" CELLSPACING=\"0\">\n                <TR>\n                <TD><IMG SRC=\"/home/smorandi/care/notebooks/tmp/1-3-2-1-2-*.png\"/></TD>\n                </TR>\n                <TR>\n                <TD>CH3O2*</TD>\n                </TR>\n                </TABLE>>",
          "<\n                <TABLE BORDER=\"0\" CELLBORDER=\"0\" CELLSPACING=\"0\">\n                <TR>\n                <TD><IMG SRC=\"/home/smorandi/care/notebooks/tmp/1-2-2-1-1-*.png\"/></TD>\n                </TR>\n                <TR>\n                <TD>CH2O2*</TD>\n                </TR>\n                </TABLE>>",
          "<\n                <TABLE BORDER=\"0\" CELLBORDER=\"0\" CELLSPACING=\"0\">\n                <TR>\n                <TD><IMG SRC=\"/home/smorandi/care/notebooks/tmp/1-2-2-1-2-*.png\"/></TD>\n                </TR>\n                <TR>\n                <TD>CH2O2*</TD>\n                </TR>\n                </TABLE>>",
          "<\n                <TABLE BORDER=\"0\" CELLBORDER=\"0\" CELLSPACING=\"0\">\n                <TR>\n                <TD><IMG SRC=\"/home/smorandi/care/notebooks/tmp/1-2-2-1-3-*.png\"/></TD>\n                </TR>\n                <TR>\n                <TD>CH2O2*</TD>\n                </TR>\n                </TABLE>>",
          "<\n                <TABLE BORDER=\"0\" CELLBORDER=\"0\" CELLSPACING=\"0\">\n                <TR>\n                <TD><IMG SRC=\"/home/smorandi/care/notebooks/tmp/1-1-2-1-1-*.png\"/></TD>\n                </TR>\n                <TR>\n                <TD>CHO2*</TD>\n                </TR>\n                </TABLE>>",
          "<\n                <TABLE BORDER=\"0\" CELLBORDER=\"0\" CELLSPACING=\"0\">\n                <TR>\n                <TD><IMG SRC=\"/home/smorandi/care/notebooks/tmp/1-1-2-1-2-*.png\"/></TD>\n                </TR>\n                <TR>\n                <TD>CHO2*</TD>\n                </TR>\n                </TABLE>>",
          "<\n                <TABLE BORDER=\"0\" CELLBORDER=\"0\" CELLSPACING=\"0\">\n                <TR>\n                <TD><IMG SRC=\"/home/smorandi/care/notebooks/tmp/1-0-2-1-1-*.png\"/></TD>\n                </TR>\n                <TR>\n                <TD>CO2*</TD>\n                </TR>\n                </TABLE>>",
          "<\n                <TABLE BORDER=\"0\" CELLBORDER=\"0\" CELLSPACING=\"0\">\n                <TR>\n                <TD><IMG SRC=\"/home/smorandi/care/notebooks/tmp/1-4-3-1-1-*.png\"/></TD>\n                </TR>\n                <TR>\n                <TD>CH4O3*</TD>\n                </TR>\n                </TABLE>>",
          "<\n                <TABLE BORDER=\"0\" CELLBORDER=\"0\" CELLSPACING=\"0\">\n                <TR>\n                <TD><IMG SRC=\"/home/smorandi/care/notebooks/tmp/1-3-3-1-1-*.png\"/></TD>\n                </TR>\n                <TR>\n                <TD>CH3O3*</TD>\n                </TR>\n                </TABLE>>",
          "<\n                <TABLE BORDER=\"0\" CELLBORDER=\"0\" CELLSPACING=\"0\">\n                <TR>\n                <TD><IMG SRC=\"/home/smorandi/care/notebooks/tmp/1-3-3-1-2-*.png\"/></TD>\n                </TR>\n                <TR>\n                <TD>CH3O3*</TD>\n                </TR>\n                </TABLE>>",
          "<\n                <TABLE BORDER=\"0\" CELLBORDER=\"0\" CELLSPACING=\"0\">\n                <TR>\n                <TD><IMG SRC=\"/home/smorandi/care/notebooks/tmp/1-2-3-1-1-*.png\"/></TD>\n                </TR>\n                <TR>\n                <TD>CH2O3*</TD>\n                </TR>\n                </TABLE>>",
          "<\n                <TABLE BORDER=\"0\" CELLBORDER=\"0\" CELLSPACING=\"0\">\n                <TR>\n                <TD><IMG SRC=\"/home/smorandi/care/notebooks/tmp/1-2-3-1-2-*.png\"/></TD>\n                </TR>\n                <TR>\n                <TD>CH2O3*</TD>\n                </TR>\n                </TABLE>>",
          "<\n                <TABLE BORDER=\"0\" CELLBORDER=\"0\" CELLSPACING=\"0\">\n                <TR>\n                <TD><IMG SRC=\"/home/smorandi/care/notebooks/tmp/1-1-3-1-1-*.png\"/></TD>\n                </TR>\n                <TR>\n                <TD>CHO3*</TD>\n                </TR>\n                </TABLE>>",
          "<\n                <TABLE BORDER=\"0\" CELLBORDER=\"0\" CELLSPACING=\"0\">\n                <TR>\n                <TD><IMG SRC=\"/home/smorandi/care/notebooks/tmp/1-1-3-1-2-*.png\"/></TD>\n                </TR>\n                <TR>\n                <TD>CHO3*</TD>\n                </TR>\n                </TABLE>>",
          "<\n                <TABLE BORDER=\"0\" CELLBORDER=\"0\" CELLSPACING=\"0\">\n                <TR>\n                <TD><IMG SRC=\"/home/smorandi/care/notebooks/tmp/1-0-3-1-1-*.png\"/></TD>\n                </TR>\n                <TR>\n                <TD>CO3*</TD>\n                </TR>\n                </TABLE>>",
          "<\n                <TABLE BORDER=\"0\" CELLBORDER=\"0\" CELLSPACING=\"0\">\n                <TR>\n                <TD><IMG SRC=\"/home/smorandi/care/notebooks/tmp/1-4-1-1-1-*.png\"/></TD>\n                </TR>\n                <TR>\n                <TD>CH4O*</TD>\n                </TR>\n                </TABLE>>",
          "<\n                <TABLE BORDER=\"0\" CELLBORDER=\"0\" CELLSPACING=\"0\">\n                <TR>\n                <TD><IMG SRC=\"/home/smorandi/care/notebooks/tmp/1-3-1-1-1-*.png\"/></TD>\n                </TR>\n                <TR>\n                <TD>CH3O*</TD>\n                </TR>\n                </TABLE>>",
          "<\n                <TABLE BORDER=\"0\" CELLBORDER=\"0\" CELLSPACING=\"0\">\n                <TR>\n                <TD><IMG SRC=\"/home/smorandi/care/notebooks/tmp/1-3-1-1-2-*.png\"/></TD>\n                </TR>\n                <TR>\n                <TD>CH3O*</TD>\n                </TR>\n                </TABLE>>",
          "<\n                <TABLE BORDER=\"0\" CELLBORDER=\"0\" CELLSPACING=\"0\">\n                <TR>\n                <TD><IMG SRC=\"/home/smorandi/care/notebooks/tmp/1-2-1-1-1-*.png\"/></TD>\n                </TR>\n                <TR>\n                <TD>CH2O*</TD>\n                </TR>\n                </TABLE>>",
          "<\n                <TABLE BORDER=\"0\" CELLBORDER=\"0\" CELLSPACING=\"0\">\n                <TR>\n                <TD><IMG SRC=\"/home/smorandi/care/notebooks/tmp/1-2-1-1-2-*.png\"/></TD>\n                </TR>\n                <TR>\n                <TD>CH2O*</TD>\n                </TR>\n                </TABLE>>",
          "<\n                <TABLE BORDER=\"0\" CELLBORDER=\"0\" CELLSPACING=\"0\">\n                <TR>\n                <TD><IMG SRC=\"/home/smorandi/care/notebooks/tmp/1-1-1-1-1-*.png\"/></TD>\n                </TR>\n                <TR>\n                <TD>CHO*</TD>\n                </TR>\n                </TABLE>>",
          "<\n                <TABLE BORDER=\"0\" CELLBORDER=\"0\" CELLSPACING=\"0\">\n                <TR>\n                <TD><IMG SRC=\"/home/smorandi/care/notebooks/tmp/1-1-1-1-2-*.png\"/></TD>\n                </TR>\n                <TR>\n                <TD>CHO*</TD>\n                </TR>\n                </TABLE>>",
          "<\n                <TABLE BORDER=\"0\" CELLBORDER=\"0\" CELLSPACING=\"0\">\n                <TR>\n                <TD><IMG SRC=\"/home/smorandi/care/notebooks/tmp/1-0-1-1-1-*.png\"/></TD>\n                </TR>\n                <TR>\n                <TD>CO*</TD>\n                </TR>\n                </TABLE>>",
          "<\n                <TABLE BORDER=\"0\" CELLBORDER=\"0\" CELLSPACING=\"0\">\n                <TR>\n                <TD><IMG SRC=\"/home/smorandi/care/notebooks/tmp/1-4-4-1-1-*.png\"/></TD>\n                </TR>\n                <TR>\n                <TD>CH4O4*</TD>\n                </TR>\n                </TABLE>>",
          "<\n                <TABLE BORDER=\"0\" CELLBORDER=\"0\" CELLSPACING=\"0\">\n                <TR>\n                <TD><IMG SRC=\"/home/smorandi/care/notebooks/tmp/1-3-4-1-1-*.png\"/></TD>\n                </TR>\n                <TR>\n                <TD>CH3O4*</TD>\n                </TR>\n                </TABLE>>",
          "<\n                <TABLE BORDER=\"0\" CELLBORDER=\"0\" CELLSPACING=\"0\">\n                <TR>\n                <TD><IMG SRC=\"/home/smorandi/care/notebooks/tmp/1-2-4-1-1-*.png\"/></TD>\n                </TR>\n                <TR>\n                <TD>CH2O4*</TD>\n                </TR>\n                </TABLE>>",
          "<\n                <TABLE BORDER=\"0\" CELLBORDER=\"0\" CELLSPACING=\"0\">\n                <TR>\n                <TD><IMG SRC=\"/home/smorandi/care/notebooks/tmp/1-1-4-1-1-*.png\"/></TD>\n                </TR>\n                <TR>\n                <TD>CHO4*</TD>\n                </TR>\n                </TABLE>>",
          "<\n                <TABLE BORDER=\"0\" CELLBORDER=\"0\" CELLSPACING=\"0\">\n                <TR>\n                <TD><IMG SRC=\"/home/smorandi/care/notebooks/tmp/1-0-4-1-1-*.png\"/></TD>\n                </TR>\n                <TR>\n                <TD>CO4*</TD>\n                </TR>\n                </TABLE>>",
          "<\n                <TABLE BORDER=\"0\" CELLBORDER=\"0\" CELLSPACING=\"0\">\n                <TR>\n                <TD><IMG SRC=\"/home/smorandi/care/notebooks/tmp/1-4-0-1-1-g.png\"/></TD>\n                </TR>\n                <TR>\n                <TD>CH4(g)</TD>\n                </TR>\n                </TABLE>>",
          "<\n                <TABLE BORDER=\"0\" CELLBORDER=\"0\" CELLSPACING=\"0\">\n                <TR>\n                <TD><IMG SRC=\"/home/smorandi/care/notebooks/tmp/1-4-2-1-1-g.png\"/></TD>\n                </TR>\n                <TR>\n                <TD>CH4O2(g)</TD>\n                </TR>\n                </TABLE>>",
          "<\n                <TABLE BORDER=\"0\" CELLBORDER=\"0\" CELLSPACING=\"0\">\n                <TR>\n                <TD><IMG SRC=\"/home/smorandi/care/notebooks/tmp/1-2-2-1-1-g.png\"/></TD>\n                </TR>\n                <TR>\n                <TD>CH2O2(g)</TD>\n                </TR>\n                </TABLE>>",
          "<\n                <TABLE BORDER=\"0\" CELLBORDER=\"0\" CELLSPACING=\"0\">\n                <TR>\n                <TD><IMG SRC=\"/home/smorandi/care/notebooks/tmp/1-0-2-1-1-g.png\"/></TD>\n                </TR>\n                <TR>\n                <TD>CO2(g)</TD>\n                </TR>\n                </TABLE>>",
          "<\n                <TABLE BORDER=\"0\" CELLBORDER=\"0\" CELLSPACING=\"0\">\n                <TR>\n                <TD><IMG SRC=\"/home/smorandi/care/notebooks/tmp/1-4-3-1-1-g.png\"/></TD>\n                </TR>\n                <TR>\n                <TD>CH4O3(g)</TD>\n                </TR>\n                </TABLE>>",
          "<\n                <TABLE BORDER=\"0\" CELLBORDER=\"0\" CELLSPACING=\"0\">\n                <TR>\n                <TD><IMG SRC=\"/home/smorandi/care/notebooks/tmp/1-2-3-1-1-g.png\"/></TD>\n                </TR>\n                <TR>\n                <TD>CH2O3(g)</TD>\n                </TR>\n                </TABLE>>",
          "<\n                <TABLE BORDER=\"0\" CELLBORDER=\"0\" CELLSPACING=\"0\">\n                <TR>\n                <TD><IMG SRC=\"/home/smorandi/care/notebooks/tmp/1-4-1-1-1-g.png\"/></TD>\n                </TR>\n                <TR>\n                <TD>CH4O(g)</TD>\n                </TR>\n                </TABLE>>",
          "<\n                <TABLE BORDER=\"0\" CELLBORDER=\"0\" CELLSPACING=\"0\">\n                <TR>\n                <TD><IMG SRC=\"/home/smorandi/care/notebooks/tmp/1-2-1-1-2-g.png\"/></TD>\n                </TR>\n                <TR>\n                <TD>CH2O(g)</TD>\n                </TR>\n                </TABLE>>",
          "<\n                <TABLE BORDER=\"0\" CELLBORDER=\"0\" CELLSPACING=\"0\">\n                <TR>\n                <TD><IMG SRC=\"/home/smorandi/care/notebooks/tmp/1-0-1-1-1-g.png\"/></TD>\n                </TR>\n                <TR>\n                <TD>CO(g)</TD>\n                </TR>\n                </TABLE>>",
          "<\n                <TABLE BORDER=\"0\" CELLBORDER=\"0\" CELLSPACING=\"0\">\n                <TR>\n                <TD><IMG SRC=\"/home/smorandi/care/notebooks/tmp/1-4-4-1-1-g.png\"/></TD>\n                </TR>\n                <TR>\n                <TD>CH4O4(g)</TD>\n                </TR>\n                </TABLE>>"
         ],
         "marker": {
          "color": [
           1,
           1,
           1,
           1,
           0,
           3,
           4,
           3,
           4,
           2,
           2,
           3,
           2,
           1,
           3,
           4,
           2,
           3,
           4,
           3,
           2,
           1,
           3,
           3,
           2,
           3,
           2,
           2,
           2,
           1,
           2,
           3,
           3,
           3,
           1,
           1,
           1,
           1,
           1,
           1,
           1,
           1,
           1,
           1,
           1
          ],
          "colorbar": {
           "thickness": 15,
           "title": {
            "side": "right",
            "text": "Node Connections"
           },
           "xanchor": "left"
          },
          "showscale": true,
          "size": 30
         },
         "mode": "markers",
         "text": [
          "# of connections: 1",
          "# of connections: 1",
          "# of connections: 1",
          "# of connections: 1",
          "# of connections: 0",
          "# of connections: 3",
          "# of connections: 4",
          "# of connections: 3",
          "# of connections: 4",
          "# of connections: 2",
          "# of connections: 2",
          "# of connections: 3",
          "# of connections: 2",
          "# of connections: 1",
          "# of connections: 3",
          "# of connections: 4",
          "# of connections: 2",
          "# of connections: 3",
          "# of connections: 4",
          "# of connections: 3",
          "# of connections: 2",
          "# of connections: 1",
          "# of connections: 3",
          "# of connections: 3",
          "# of connections: 2",
          "# of connections: 3",
          "# of connections: 2",
          "# of connections: 2",
          "# of connections: 2",
          "# of connections: 1",
          "# of connections: 2",
          "# of connections: 3",
          "# of connections: 3",
          "# of connections: 3",
          "# of connections: 1",
          "# of connections: 1",
          "# of connections: 1",
          "# of connections: 1",
          "# of connections: 1",
          "# of connections: 1",
          "# of connections: 1",
          "# of connections: 1",
          "# of connections: 1",
          "# of connections: 1",
          "# of connections: 1"
         ],
         "type": "scatter",
         "x": [
          0.2505046730336262,
          0.05651567584186426,
          -0.25936513720706444,
          -0.62798414595716,
          -0.9999999999999999,
          0.5418856288303331,
          0.3061509044110526,
          0.15711077493268383,
          -0.09352264550907796,
          0.04959185008427817,
          -0.23065289135462666,
          -0.49119840241814805,
          -0.3602810901316654,
          -0.7641330116065017,
          0.5492661475266913,
          0.30858507001638774,
          0.164488332111063,
          -0.08820002236730903,
          0.04884419251942967,
          -0.35810936521199843,
          -0.2104968620375423,
          -0.6176378706099178,
          0.48814595206974365,
          0.1530897817386925,
          0.26666847593912757,
          -0.2357966112228638,
          -0.08988068387271857,
          -0.6190808422368709,
          -0.49550804235364126,
          -0.8864424754262306,
          0.5558569274079108,
          0.3110531924021146,
          0.052640335447696036,
          -0.2096761278818284,
          -0.4652308894053137,
          0.5173332796252709,
          0.9043109775133192,
          0.29379355890456205,
          -0.47577194530351574,
          0.9121048830455114,
          0.31149097706731527,
          0.8749836660951945,
          0.18503595965981956,
          -0.5988476833129539,
          0.9183655292032599
         ],
         "y": [
          -0.24804609649140483,
          0.07256189510661065,
          0.34358666468235555,
          0.4619758634299398,
          0.5672397054990017,
          0.29700552866475827,
          -0.03611400971236747,
          0.30758394778413334,
          -0.0006783094777045124,
          -0.3311339901316899,
          0.36126914149498507,
          0.0683009999742346,
          -0.28662786409950275,
          -0.20985252825337572,
          0.2828935194314485,
          -0.045387711010055204,
          0.28776947594322777,
          -0.011335101897198045,
          -0.3486994573104484,
          -0.2960498014629221,
          -0.6297788395897858,
          -0.5718411122374862,
          0.0745102012067718,
          0.31040744043513024,
          0.3331395319561867,
          0.3742383571194889,
          0.027159724161328697,
          0.4526264997766762,
          0.08282485966829001,
          0.17320608169876217,
          0.2516892009063019,
          -0.06132261145731894,
          -0.3568265895482518,
          -0.637422512599117,
          -0.9098019520379265,
          -0.517349989539888,
          0.44808224668299473,
          -0.09270079570032774,
          -0.454865668488401,
          0.4331651917841355,
          -0.06245884090602834,
          0.021028320454649665,
          -0.25019756432854307,
          -0.07293619812140978,
          0.39916314653974105
         ]
        }
       ],
       "layout": {
        "hovermode": "closest",
        "margin": {
         "b": 0,
         "l": 0,
         "r": 0,
         "t": 0
        },
        "showlegend": false,
        "template": {
         "data": {
          "bar": [
           {
            "error_x": {
             "color": "#2a3f5f"
            },
            "error_y": {
             "color": "#2a3f5f"
            },
            "marker": {
             "line": {
              "color": "#E5ECF6",
              "width": 0.5
             },
             "pattern": {
              "fillmode": "overlay",
              "size": 10,
              "solidity": 0.2
             }
            },
            "type": "bar"
           }
          ],
          "barpolar": [
           {
            "marker": {
             "line": {
              "color": "#E5ECF6",
              "width": 0.5
             },
             "pattern": {
              "fillmode": "overlay",
              "size": 10,
              "solidity": 0.2
             }
            },
            "type": "barpolar"
           }
          ],
          "carpet": [
           {
            "aaxis": {
             "endlinecolor": "#2a3f5f",
             "gridcolor": "white",
             "linecolor": "white",
             "minorgridcolor": "white",
             "startlinecolor": "#2a3f5f"
            },
            "baxis": {
             "endlinecolor": "#2a3f5f",
             "gridcolor": "white",
             "linecolor": "white",
             "minorgridcolor": "white",
             "startlinecolor": "#2a3f5f"
            },
            "type": "carpet"
           }
          ],
          "choropleth": [
           {
            "colorbar": {
             "outlinewidth": 0,
             "ticks": ""
            },
            "type": "choropleth"
           }
          ],
          "contour": [
           {
            "colorbar": {
             "outlinewidth": 0,
             "ticks": ""
            },
            "colorscale": [
             [
              0,
              "#0d0887"
             ],
             [
              0.1111111111111111,
              "#46039f"
             ],
             [
              0.2222222222222222,
              "#7201a8"
             ],
             [
              0.3333333333333333,
              "#9c179e"
             ],
             [
              0.4444444444444444,
              "#bd3786"
             ],
             [
              0.5555555555555556,
              "#d8576b"
             ],
             [
              0.6666666666666666,
              "#ed7953"
             ],
             [
              0.7777777777777778,
              "#fb9f3a"
             ],
             [
              0.8888888888888888,
              "#fdca26"
             ],
             [
              1,
              "#f0f921"
             ]
            ],
            "type": "contour"
           }
          ],
          "contourcarpet": [
           {
            "colorbar": {
             "outlinewidth": 0,
             "ticks": ""
            },
            "type": "contourcarpet"
           }
          ],
          "heatmap": [
           {
            "colorbar": {
             "outlinewidth": 0,
             "ticks": ""
            },
            "colorscale": [
             [
              0,
              "#0d0887"
             ],
             [
              0.1111111111111111,
              "#46039f"
             ],
             [
              0.2222222222222222,
              "#7201a8"
             ],
             [
              0.3333333333333333,
              "#9c179e"
             ],
             [
              0.4444444444444444,
              "#bd3786"
             ],
             [
              0.5555555555555556,
              "#d8576b"
             ],
             [
              0.6666666666666666,
              "#ed7953"
             ],
             [
              0.7777777777777778,
              "#fb9f3a"
             ],
             [
              0.8888888888888888,
              "#fdca26"
             ],
             [
              1,
              "#f0f921"
             ]
            ],
            "type": "heatmap"
           }
          ],
          "heatmapgl": [
           {
            "colorbar": {
             "outlinewidth": 0,
             "ticks": ""
            },
            "colorscale": [
             [
              0,
              "#0d0887"
             ],
             [
              0.1111111111111111,
              "#46039f"
             ],
             [
              0.2222222222222222,
              "#7201a8"
             ],
             [
              0.3333333333333333,
              "#9c179e"
             ],
             [
              0.4444444444444444,
              "#bd3786"
             ],
             [
              0.5555555555555556,
              "#d8576b"
             ],
             [
              0.6666666666666666,
              "#ed7953"
             ],
             [
              0.7777777777777778,
              "#fb9f3a"
             ],
             [
              0.8888888888888888,
              "#fdca26"
             ],
             [
              1,
              "#f0f921"
             ]
            ],
            "type": "heatmapgl"
           }
          ],
          "histogram": [
           {
            "marker": {
             "pattern": {
              "fillmode": "overlay",
              "size": 10,
              "solidity": 0.2
             }
            },
            "type": "histogram"
           }
          ],
          "histogram2d": [
           {
            "colorbar": {
             "outlinewidth": 0,
             "ticks": ""
            },
            "colorscale": [
             [
              0,
              "#0d0887"
             ],
             [
              0.1111111111111111,
              "#46039f"
             ],
             [
              0.2222222222222222,
              "#7201a8"
             ],
             [
              0.3333333333333333,
              "#9c179e"
             ],
             [
              0.4444444444444444,
              "#bd3786"
             ],
             [
              0.5555555555555556,
              "#d8576b"
             ],
             [
              0.6666666666666666,
              "#ed7953"
             ],
             [
              0.7777777777777778,
              "#fb9f3a"
             ],
             [
              0.8888888888888888,
              "#fdca26"
             ],
             [
              1,
              "#f0f921"
             ]
            ],
            "type": "histogram2d"
           }
          ],
          "histogram2dcontour": [
           {
            "colorbar": {
             "outlinewidth": 0,
             "ticks": ""
            },
            "colorscale": [
             [
              0,
              "#0d0887"
             ],
             [
              0.1111111111111111,
              "#46039f"
             ],
             [
              0.2222222222222222,
              "#7201a8"
             ],
             [
              0.3333333333333333,
              "#9c179e"
             ],
             [
              0.4444444444444444,
              "#bd3786"
             ],
             [
              0.5555555555555556,
              "#d8576b"
             ],
             [
              0.6666666666666666,
              "#ed7953"
             ],
             [
              0.7777777777777778,
              "#fb9f3a"
             ],
             [
              0.8888888888888888,
              "#fdca26"
             ],
             [
              1,
              "#f0f921"
             ]
            ],
            "type": "histogram2dcontour"
           }
          ],
          "mesh3d": [
           {
            "colorbar": {
             "outlinewidth": 0,
             "ticks": ""
            },
            "type": "mesh3d"
           }
          ],
          "parcoords": [
           {
            "line": {
             "colorbar": {
              "outlinewidth": 0,
              "ticks": ""
             }
            },
            "type": "parcoords"
           }
          ],
          "pie": [
           {
            "automargin": true,
            "type": "pie"
           }
          ],
          "scatter": [
           {
            "fillpattern": {
             "fillmode": "overlay",
             "size": 10,
             "solidity": 0.2
            },
            "type": "scatter"
           }
          ],
          "scatter3d": [
           {
            "line": {
             "colorbar": {
              "outlinewidth": 0,
              "ticks": ""
             }
            },
            "marker": {
             "colorbar": {
              "outlinewidth": 0,
              "ticks": ""
             }
            },
            "type": "scatter3d"
           }
          ],
          "scattercarpet": [
           {
            "marker": {
             "colorbar": {
              "outlinewidth": 0,
              "ticks": ""
             }
            },
            "type": "scattercarpet"
           }
          ],
          "scattergeo": [
           {
            "marker": {
             "colorbar": {
              "outlinewidth": 0,
              "ticks": ""
             }
            },
            "type": "scattergeo"
           }
          ],
          "scattergl": [
           {
            "marker": {
             "colorbar": {
              "outlinewidth": 0,
              "ticks": ""
             }
            },
            "type": "scattergl"
           }
          ],
          "scattermapbox": [
           {
            "marker": {
             "colorbar": {
              "outlinewidth": 0,
              "ticks": ""
             }
            },
            "type": "scattermapbox"
           }
          ],
          "scatterpolar": [
           {
            "marker": {
             "colorbar": {
              "outlinewidth": 0,
              "ticks": ""
             }
            },
            "type": "scatterpolar"
           }
          ],
          "scatterpolargl": [
           {
            "marker": {
             "colorbar": {
              "outlinewidth": 0,
              "ticks": ""
             }
            },
            "type": "scatterpolargl"
           }
          ],
          "scatterternary": [
           {
            "marker": {
             "colorbar": {
              "outlinewidth": 0,
              "ticks": ""
             }
            },
            "type": "scatterternary"
           }
          ],
          "surface": [
           {
            "colorbar": {
             "outlinewidth": 0,
             "ticks": ""
            },
            "colorscale": [
             [
              0,
              "#0d0887"
             ],
             [
              0.1111111111111111,
              "#46039f"
             ],
             [
              0.2222222222222222,
              "#7201a8"
             ],
             [
              0.3333333333333333,
              "#9c179e"
             ],
             [
              0.4444444444444444,
              "#bd3786"
             ],
             [
              0.5555555555555556,
              "#d8576b"
             ],
             [
              0.6666666666666666,
              "#ed7953"
             ],
             [
              0.7777777777777778,
              "#fb9f3a"
             ],
             [
              0.8888888888888888,
              "#fdca26"
             ],
             [
              1,
              "#f0f921"
             ]
            ],
            "type": "surface"
           }
          ],
          "table": [
           {
            "cells": {
             "fill": {
              "color": "#EBF0F8"
             },
             "line": {
              "color": "white"
             }
            },
            "header": {
             "fill": {
              "color": "#C8D4E3"
             },
             "line": {
              "color": "white"
             }
            },
            "type": "table"
           }
          ]
         },
         "layout": {
          "annotationdefaults": {
           "arrowcolor": "#2a3f5f",
           "arrowhead": 0,
           "arrowwidth": 1
          },
          "autotypenumbers": "strict",
          "coloraxis": {
           "colorbar": {
            "outlinewidth": 0,
            "ticks": ""
           }
          },
          "colorscale": {
           "diverging": [
            [
             0,
             "#8e0152"
            ],
            [
             0.1,
             "#c51b7d"
            ],
            [
             0.2,
             "#de77ae"
            ],
            [
             0.3,
             "#f1b6da"
            ],
            [
             0.4,
             "#fde0ef"
            ],
            [
             0.5,
             "#f7f7f7"
            ],
            [
             0.6,
             "#e6f5d0"
            ],
            [
             0.7,
             "#b8e186"
            ],
            [
             0.8,
             "#7fbc41"
            ],
            [
             0.9,
             "#4d9221"
            ],
            [
             1,
             "#276419"
            ]
           ],
           "sequential": [
            [
             0,
             "#0d0887"
            ],
            [
             0.1111111111111111,
             "#46039f"
            ],
            [
             0.2222222222222222,
             "#7201a8"
            ],
            [
             0.3333333333333333,
             "#9c179e"
            ],
            [
             0.4444444444444444,
             "#bd3786"
            ],
            [
             0.5555555555555556,
             "#d8576b"
            ],
            [
             0.6666666666666666,
             "#ed7953"
            ],
            [
             0.7777777777777778,
             "#fb9f3a"
            ],
            [
             0.8888888888888888,
             "#fdca26"
            ],
            [
             1,
             "#f0f921"
            ]
           ],
           "sequentialminus": [
            [
             0,
             "#0d0887"
            ],
            [
             0.1111111111111111,
             "#46039f"
            ],
            [
             0.2222222222222222,
             "#7201a8"
            ],
            [
             0.3333333333333333,
             "#9c179e"
            ],
            [
             0.4444444444444444,
             "#bd3786"
            ],
            [
             0.5555555555555556,
             "#d8576b"
            ],
            [
             0.6666666666666666,
             "#ed7953"
            ],
            [
             0.7777777777777778,
             "#fb9f3a"
            ],
            [
             0.8888888888888888,
             "#fdca26"
            ],
            [
             1,
             "#f0f921"
            ]
           ]
          },
          "colorway": [
           "#636efa",
           "#EF553B",
           "#00cc96",
           "#ab63fa",
           "#FFA15A",
           "#19d3f3",
           "#FF6692",
           "#B6E880",
           "#FF97FF",
           "#FECB52"
          ],
          "font": {
           "color": "#2a3f5f"
          },
          "geo": {
           "bgcolor": "white",
           "lakecolor": "white",
           "landcolor": "#E5ECF6",
           "showlakes": true,
           "showland": true,
           "subunitcolor": "white"
          },
          "hoverlabel": {
           "align": "left"
          },
          "hovermode": "closest",
          "mapbox": {
           "style": "light"
          },
          "paper_bgcolor": "white",
          "plot_bgcolor": "#E5ECF6",
          "polar": {
           "angularaxis": {
            "gridcolor": "white",
            "linecolor": "white",
            "ticks": ""
           },
           "bgcolor": "#E5ECF6",
           "radialaxis": {
            "gridcolor": "white",
            "linecolor": "white",
            "ticks": ""
           }
          },
          "scene": {
           "xaxis": {
            "backgroundcolor": "#E5ECF6",
            "gridcolor": "white",
            "gridwidth": 2,
            "linecolor": "white",
            "showbackground": true,
            "ticks": "",
            "zerolinecolor": "white"
           },
           "yaxis": {
            "backgroundcolor": "#E5ECF6",
            "gridcolor": "white",
            "gridwidth": 2,
            "linecolor": "white",
            "showbackground": true,
            "ticks": "",
            "zerolinecolor": "white"
           },
           "zaxis": {
            "backgroundcolor": "#E5ECF6",
            "gridcolor": "white",
            "gridwidth": 2,
            "linecolor": "white",
            "showbackground": true,
            "ticks": "",
            "zerolinecolor": "white"
           }
          },
          "shapedefaults": {
           "line": {
            "color": "#2a3f5f"
           }
          },
          "ternary": {
           "aaxis": {
            "gridcolor": "white",
            "linecolor": "white",
            "ticks": ""
           },
           "baxis": {
            "gridcolor": "white",
            "linecolor": "white",
            "ticks": ""
           },
           "bgcolor": "#E5ECF6",
           "caxis": {
            "gridcolor": "white",
            "linecolor": "white",
            "ticks": ""
           }
          },
          "title": {
           "x": 0.05
          },
          "xaxis": {
           "automargin": true,
           "gridcolor": "white",
           "linecolor": "white",
           "ticks": "",
           "title": {
            "standoff": 15
           },
           "zerolinecolor": "white",
           "zerolinewidth": 2
          },
          "yaxis": {
           "automargin": true,
           "gridcolor": "white",
           "linecolor": "white",
           "ticks": "",
           "title": {
            "standoff": 15
           },
           "zerolinecolor": "white",
           "zerolinewidth": 2
          }
         }
        },
        "xaxis": {
         "showgrid": false,
         "zeroline": false
        },
        "yaxis": {
         "showgrid": false,
         "zeroline": false
        }
       }
      }
     },
     "metadata": {},
     "output_type": "display_data"
    }
   ],
   "source": [
    "gen_interactive_graph(graph)"
   ]
  },
  {
   "cell_type": "code",
   "execution_count": null,
   "metadata": {},
   "outputs": [],
   "source": [
    "import networkx as nx\n",
    "from collections import deque\n",
    "\n",
    "def constrained_shortest_path(graph, source, target, intermediates_to_avoid):\n",
    "    visited = set()\n",
    "    queue = deque([(source, [source])])  # Each element of the queue is a tuple (node, path_so_far)\n",
    "\n",
    "    while queue:\n",
    "        current_node, path_so_far = queue.popleft()\n",
    "\n",
    "        if current_node == target:\n",
    "            return path_so_far\n",
    "\n",
    "        visited.add(current_node)\n",
    "\n",
    "        for neighbor in graph.neighbors(current_node):\n",
    "            # Skip nodes that are not elementary reactions\n",
    "            if 'type' in graph.nodes[neighbor] and graph.nodes[neighbor]['type'] != 'elementary_reaction':\n",
    "                continue\n",
    "\n",
    "            # Skip intermediates to avoid\n",
    "            if neighbor in intermediates_to_avoid:\n",
    "                continue\n",
    "            \n",
    "            if neighbor not in visited:\n",
    "                queue.append((neighbor, path_so_far + [neighbor]))\n",
    "                visited.add(neighbor)\n",
    "                \n",
    "    return None  # return None if no such path exists\n"
   ]
  },
  {
   "cell_type": "code",
   "execution_count": null,
   "metadata": {},
   "outputs": [],
   "source": [
    "import networkx as nx\n",
    "from collections import deque\n",
    "\n",
    "# Define your graph here\n",
    "G = nx.Graph()\n",
    "G.add_edges_from([\n",
    "    (\"A\", \"R1\"),\n",
    "    (\"R1\", \"B\"),\n",
    "    (\"B\", \"R2\"),\n",
    "    (\"R2\", \"C\"),\n",
    "    (\"B\", \"R3\"),\n",
    "    (\"R3\", \"D\"),\n",
    "])\n",
    "\n",
    "# Annotate nodes with their types\n",
    "for node in [\"A\", \"B\", \"C\", \"D\"]:\n",
    "    G.nodes[node]['type'] = 'intermediate'\n",
    "for node in [\"R1\", \"R2\", \"R3\"]:\n",
    "    G.nodes[node]['type'] = 'elementary_reaction'\n",
    "\n",
    "def custom_shortest_path(rxn_net, graph, source, target):\n",
    "    queue = deque([(source, [])])\n",
    "    graph = graph.to_undirected()\n",
    "    intermediates_visited = set()\n",
    "    reactions_visited = set()\n",
    "    while queue:\n",
    "        current_node, path_so_far = queue.popleft()\n",
    "        \n",
    "        # Check if the target node is reached\n",
    "        if current_node == target:\n",
    "            return path_so_far\n",
    "\n",
    "        intermediates_visited.add(current_node)\n",
    "\n",
    "        for step in graph.neighbors(current_node):\n",
    "            if step in reactions_visited:\n",
    "                continue\n",
    "\n",
    "            # Update the path based on the type of the neighbor\n",
    "            inters = list(rxn_net.reactions[step].reactants) + list(rxn_net.reactions[step].products)\n",
    "            unvisited_inters = [inter for inter in inters if inter not in intermediates_visited]\n",
    "            if len(unvisited_inters) != 0:\n",
    "                continue\n",
    "            new_path = path_so_far + [step] if graph.nodes[step]['category'] not in ('ads', 'sur', 'gas') else path_so_far\n",
    "\n",
    "            queue.append((step, new_path))\n",
    "            visited.add(neighbor)\n",
    "\n",
    "    return None  # Path not found\n",
    "\n",
    "def custom_shortest_path(net, graph, source, target):\n",
    "    visited = set()\n",
    "    visited_inters = {'000000*', '010101*'}\n",
    "    queue = deque([(source, [])])\n",
    "\n",
    "    while queue:\n",
    "        current_node, path_so_far = queue.popleft()\n",
    "        \n",
    "        # Check if the target node is reached\n",
    "        if current_node == target:\n",
    "            return path_so_far\n",
    "\n",
    "        visited.add(current_node)\n",
    "        if graph.nodes[current_node]['category'] in ('ads', 'sur', 'gas'):\n",
    "            visited_inters.add(current_node)\n",
    "\n",
    "        for neighbor in graph.neighbors(current_node):\n",
    "            # Skip if already visited\n",
    "            if neighbor in visited:\n",
    "                continue\n",
    "\n",
    "            if graph.nodes[neighbor]['category'] not in ('ads', 'sur', 'gas'):\n",
    "                index = rxn_net.reactions[neighbor].index\n",
    "                inters = list(net.reactions[index].reactants) + list(net.reactions[index].products)\n",
    "                if not all([inter in visited_inters for inter in inters]):\n",
    "                    continue\n",
    "\n",
    "            # Update the path based on the type of the neighbor\n",
    "            new_path = path_so_far + [neighbor] if graph.nodes[neighbor]['type'] == 'elementary_reaction' else path_so_far\n",
    "\n",
    "            queue.append((neighbor, new_path))\n",
    "            visited.add(neighbor)\n",
    "\n",
    "    return None  # Path not found\n",
    "\n",
    "def shortest_path_sm(graph, source, target):\n",
    "    # select all nodes that are not intermediates\n",
    "    visited_intermediates = set()\n",
    "    rxn_nodes = [node for node in graph.nodes if graph.nodes[node]['category'] not in ('ads', 'sur', 'gas')]\n",
    "    break_condition = lambda node: target in node\n",
    "    cc_condition = lambda node: all([intermediate in visited_intermediates for intermediate in node])\n",
    "\n",
    "\n"
   ]
  },
  {
   "cell_type": "code",
   "execution_count": null,
   "metadata": {},
   "outputs": [],
   "source": [
    "nx_graph = rxn_net.graph"
   ]
  },
  {
   "cell_type": "code",
   "execution_count": null,
   "metadata": {},
   "outputs": [],
   "source": [
    "x = custom_shortest_path(rxn_net, nx_graph, '102101g', '141101g')\n",
    "x"
   ]
  },
  {
   "cell_type": "code",
   "execution_count": null,
   "metadata": {},
   "outputs": [],
   "source": [
    "rxn_net.reactions"
   ]
  },
  {
   "cell_type": "markdown",
   "metadata": {},
   "source": [
    "# Other"
   ]
  },
  {
   "cell_type": "code",
   "execution_count": null,
   "metadata": {},
   "outputs": [],
   "source": [
    "for inter in rxn_net.intermediates.values():\n",
    "    if inter.closed_shell:\n",
    "        print(inter.smiles)"
   ]
  },
  {
   "cell_type": "code",
   "execution_count": null,
   "metadata": {},
   "outputs": [],
   "source": [
    "rxn_net.add_eley_rideal('101101g', '001101*', '102101*')\n",
    "print(rxn_net)"
   ]
  },
  {
   "cell_type": "code",
   "execution_count": null,
   "metadata": {},
   "outputs": [],
   "source": [
    "print(len(rxn_net.reactions))"
   ]
  },
  {
   "cell_type": "code",
   "execution_count": null,
   "metadata": {},
   "outputs": [],
   "source": [
    "print(len(rxn_net.reactions))"
   ]
  },
  {
   "cell_type": "code",
   "execution_count": null,
   "metadata": {},
   "outputs": [],
   "source": [
    "counter  =0 \n",
    "for reaction in rxn_net.reactions:\n",
    "    counter += 1\n",
    "    print(counter, reaction.code, reaction.components, reaction.r_type)"
   ]
  },
  {
   "cell_type": "code",
   "execution_count": null,
   "metadata": {},
   "outputs": [],
   "source": [
    "for reaction in rxn_net.reactions:\n",
    "    print(reaction.components)\n",
    "    for component in reaction.components:\n",
    "        for inter in component:\n",
    "            print(inter.code)"
   ]
  },
  {
   "cell_type": "code",
   "execution_count": null,
   "metadata": {},
   "outputs": [],
   "source": [
    "print(len(rxn_net.intermediates))"
   ]
  },
  {
   "cell_type": "code",
   "execution_count": null,
   "metadata": {},
   "outputs": [],
   "source": [
    "closed_shell_atoms = []\n",
    "for inter in rxn_net.intermediates.values():\n",
    "    if inter.closed_shell == True:\n",
    "        closed_shell_atoms.append(inter.molecule)\n",
    "print(len(closed_shell_atoms))"
   ]
  },
  {
   "cell_type": "code",
   "execution_count": null,
   "metadata": {},
   "outputs": [],
   "source": [
    "closed_shell_atoms = []\n",
    "for inter in rxn_net.intermediates.values():\n",
    "    if inter.closed_shell == True:\n",
    "        closed_shell_atoms.append(inter.molecule)\n",
    "print(len(closed_shell_atoms))"
   ]
  },
  {
   "cell_type": "code",
   "execution_count": null,
   "metadata": {},
   "outputs": [],
   "source": [
    "closed_shell_atoms[0].get_chemical_symbols().count(\"H\")"
   ]
  },
  {
   "cell_type": "code",
   "execution_count": null,
   "metadata": {},
   "outputs": [],
   "source": [
    "view(closed_shell_atoms)"
   ]
  },
  {
   "cell_type": "code",
   "execution_count": null,
   "metadata": {},
   "outputs": [],
   "source": [
    "y = rxn_net.gen_graph()\n",
    "# y.remove_node(\"\")\n",
    "for node in y.nodes(data=True):\n",
    "    print(node)\n",
    "print(y)"
   ]
  },
  {
   "cell_type": "code",
   "execution_count": null,
   "metadata": {},
   "outputs": [],
   "source": [
    "rxn_net.surface.facet"
   ]
  },
  {
   "cell_type": "code",
   "execution_count": null,
   "metadata": {},
   "outputs": [],
   "source": [
    "rxn_net.write_dotgraph(\".\", 'OLIV_test.png', del_surf=True)"
   ]
  },
  {
   "cell_type": "markdown",
   "metadata": {},
   "source": [
    "Look for intermediates with specified composition"
   ]
  },
  {
   "cell_type": "code",
   "execution_count": null,
   "metadata": {},
   "outputs": [],
   "source": [
    "rxn_net.search_inter_by_elements({'C':1, 'H':2, 'O':2})"
   ]
  },
  {
   "cell_type": "markdown",
   "metadata": {},
   "source": [
    "Look for all elementary steps involving a specific intermediate"
   ]
  },
  {
   "cell_type": "code",
   "execution_count": null,
   "metadata": {},
   "outputs": [],
   "source": [
    "rxn_net.search_ts([\"222101\"])"
   ]
  },
  {
   "cell_type": "code",
   "execution_count": null,
   "metadata": {},
   "outputs": [],
   "source": [
    "types = []\n",
    "for reaction in rxn_net.reactions:\n",
    "    types.append(reaction.r_type)\n",
    "print(set(types))"
   ]
  },
  {
   "cell_type": "code",
   "execution_count": null,
   "metadata": {},
   "outputs": [],
   "source": [
    "types = []\n",
    "for inter in rxn_net.intermediates.values():\n",
    "    types.append(inter.phase)\n",
    "print(set(types))"
   ]
  },
  {
   "cell_type": "markdown",
   "metadata": {},
   "source": [
    "# closed shell"
   ]
  },
  {
   "cell_type": "code",
   "execution_count": null,
   "metadata": {},
   "outputs": [],
   "source": [
    "def is_closed_shell_santi(self):\n",
    "        \"\"\"\n",
    "        Check if a molecule CxHyOz is closed-shell or not.\n",
    "        \"\"\"\n",
    "        graph = self.graph\n",
    "        # print(graph.nodes()) list of node indexes, element symbol stored as \"elem\"\n",
    "        molecule = self.molecule\n",
    "        valence_electrons = {'C': 4, 'H': 1, 'O': 2}\n",
    "        graph = graph.to_undirected()\n",
    "        mol_composition = molecule.get_chemical_symbols()\n",
    "        mol = {'C': mol_composition.count('C'), 'H': mol_composition.count('H'), 'O': mol_composition.count('O')} # CxHyOz\n",
    "\n",
    "        if mol['C'] != 0 and mol['H'] == 0 and mol['O'] == 0: # Cx\n",
    "                return False\n",
    "        elif mol['C'] == 0 and mol['H'] != 0 and mol['O'] == 0: # Hy\n",
    "                return True if mol['H'] == 2 else False\n",
    "        elif mol['C'] == 0 and mol['H'] == 0 and mol['O'] != 0: # Oz\n",
    "                return True if mol['O'] == 2 else False\n",
    "        elif mol['C'] != 0 and mol['H'] == 0 and mol['O'] != 0: # CxOz\n",
    "                return True if mol['C'] == 1 and mol['O'] in (1,2) else False\n",
    "        elif mol['C'] != 0 and mol['H'] != 0: # CxHyOz (z can be zero)\n",
    "            node_val = lambda graph: {node: (graph.degree(node), \n",
    "                                        valence_electrons.get(graph.nodes[node][\"elem\"], 0)) for node in graph.nodes()}\n",
    "            num_unsaturated_nodes = lambda dict: len([node for node in dict.keys() if dict[node][0] < dict[node][1]])\n",
    "            node_valence_dict = node_val(graph)\n",
    "            if num_unsaturated_nodes(node_valence_dict): # all atoms are saturated\n",
    "                return True\n",
    "            elif num_unsaturated_nodes(node_valence_dict) == 1: # only one unsaturated atom\n",
    "                return False\n",
    "            else:\n",
    "                saturation_condition = lambda dict: all(dict[node][0] == dict[node][1] for node in dict.keys())\n",
    "                while saturation_condition(node_valence_dict) == False:\n",
    "                    unsat_nodes = [node for node in node_valence_dict.keys() if node_valence_dict[node][0] < node_valence_dict[node][1]]\n",
    "                    O_unsat_nodes = [node for node in unsat_nodes if graph.nodes[node][\"elem\"] == 'O']  # all oxygens unsaturated\n",
    "                    if len(O_unsat_nodes) != 0: # only one unsaturated oxygen\n",
    "                        for oxygen in O_unsat_nodes:\n",
    "                            node_valence_dict[oxygen][0] += 1\n",
    "                            # increase the valence of the oxygen neighbour by 1\n",
    "                            for neighbour in graph.neighbors(oxygen): # only one neighbour\n",
    "                                if node_valence_dict[neighbour][0] < node_valence_dict[neighbour][1]:\n",
    "                                    node_valence_dict[neighbour][1] += 1\n",
    "                                else:\n",
    "                                    return False # O neighbour is saturated already\n",
    "                    else: # CxHy\n",
    "                         # select node with the highest degree\n",
    "                        max_degree = max([node_valence_dict[node][0] for node in unsat_nodes])\n",
    "                        max_degree_node = [node for node in unsat_nodes if node_valence_dict[node][0] == max_degree][0]\n",
    "                        max_degree_node_unsat_neighbours = [neighbour for neighbour in graph.neighbors(max_degree_node) if neighbour in unsat_nodes]\n",
    "                        if len(max_degree_node_unsat_neighbours) == 0: # all neighbours are saturated\n",
    "                            return False\n",
    "                        node_valence_dict[max_degree_node][0] += 1\n",
    "                        node_valence_dict[max_degree_node_unsat_neighbours][0] += 1\n",
    "                         \n",
    "                            \n",
    "\n",
    "                \n",
    "        \n",
    "        # # Getting the unsaturated nodes (if there are not unsaturated nodes, the molecule is closed-shell)\n",
    "        # unsat_nodes = [node for node in graph.nodes() if graph.degree(node) < valence_electrons.get(graph.nodes[node][\"elem\"], 0)]\n",
    "\n",
    "        # # If the graph only has Carbon as an element and not H or O, then it is open-shell\n",
    "        # if not 'H' and 'O' in molecule.get_chemical_formula():\n",
    "        #     print(f'System {molecule.get_chemical_formula()} is open-shell: only C atoms')\n",
    "        #     return False \n",
    "        \n",
    "        # # Specific case for O2\n",
    "        # if not 'C' and 'H' in molecule.get_chemical_formula() and len(unsat_nodes) == 2:\n",
    "        #     print(f'System {molecule.get_chemical_formula()} is closed-shell: Oxygen')\n",
    "        #     return True \n",
    "        \n",
    "        # # CO and CO2\n",
    "        # if not 'H' in molecule.get_chemical_formula() and len(molecule.get_chemical_symbols()['C']) == 1 and len(molecule.get_chemical_symbols()['O']) in (1,2):\n",
    "        #     print(f'System {molecule.get_chemical_formula()} is closed-shell: CO or CO2')\n",
    "        #     return True\n",
    "        \n",
    "        # if unsat_nodes:\n",
    "        #     # If the molecule has only one unsaturated node, then it is open-shell\n",
    "        #     if len(unsat_nodes) == 1:\n",
    "        #         print(f'System {molecule.get_chemical_formula()} is open-shell')\n",
    "        #         return False \n",
    "        #     else:\n",
    "        #         # Checking if there is one unsaturated node that does not have as neighbour another unsaturated node\n",
    "        #         for node in unsat_nodes:\n",
    "        #             # If the molecule has only one unsaturated node, then it is open-shell\n",
    "        #             if not [n for n in graph.neighbors(node) if n in unsat_nodes]:\n",
    "        #                 print(f'System {molecule.get_chemical_formula()} is open-shell: one node is unsaturated but does not have as neighbour another unsaturated node')\n",
    "        #                 return False \n",
    "        #             else:\n",
    "        #                 # Case for molecules where an unsaturated node is oxygen\n",
    "        #                 if graph.nodes[node][\"elem\"] == 'O':\n",
    "        #                     # Adding one bond order (valence electrons) to the oxygen node by adding it to the unsat_nodes list"
   ]
  },
  {
   "cell_type": "code",
   "execution_count": null,
   "metadata": {},
   "outputs": [],
   "source": [
    "is_closed_shell_santi(rxn_net.intermediates['121101'])"
   ]
  },
  {
   "cell_type": "code",
   "execution_count": null,
   "metadata": {},
   "outputs": [],
   "source": []
  }
 ],
 "metadata": {
  "kernelspec": {
   "display_name": "gnn",
   "language": "python",
   "name": "python3"
  },
  "language_info": {
   "codemirror_mode": {
    "name": "ipython",
    "version": 3
   },
   "file_extension": ".py",
   "mimetype": "text/x-python",
   "name": "python",
   "nbconvert_exporter": "python",
   "pygments_lexer": "ipython3",
   "version": "3.10.12"
  },
  "orig_nbformat": 4
 },
 "nbformat": 4,
 "nbformat_minor": 2
}
