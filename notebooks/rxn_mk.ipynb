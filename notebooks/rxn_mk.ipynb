{
 "cells": [
  {
   "cell_type": "code",
   "execution_count": 1,
   "metadata": {},
   "outputs": [
    {
     "name": "stdout",
     "output_type": "stream",
     "text": [
      "ReactionNetwork(57 surface intermediates, 14 gas molecules, 105 elementary reactions)\n",
      "Surface: Pd48(111)\n",
      "Network Carbon cutoff: C1\n",
      "\n"
     ]
    }
   ],
   "source": [
    "import os\n",
    "import pickle\n",
    "from ase.db import connect\n",
    "from ase.visualize import view\n",
    "import networkx as nx\n",
    "\n",
    "from GAMERNet.rnet.networks.reaction_network import ReactionNetwork\n",
    "from GAMERNet.rnet.networks.surface import Surface\n",
    "\n",
    "with open('../scripts/c1pd111/rxn_net.pkl', 'rb') as pickle_file:\n",
    "    content = pickle.load(pickle_file)  # dict of elementary reactions\n",
    "\n",
    "rxn_net = ReactionNetwork().from_dict(content)\n",
    "print(rxn_net)"
   ]
  },
  {
   "cell_type": "markdown",
   "metadata": {},
   "source": [
    "# delete intermediates"
   ]
  },
  {
   "cell_type": "code",
   "execution_count": null,
   "metadata": {},
   "outputs": [],
   "source": [
    "rxn_net.del_intermediates([\"12411*\"])\n",
    "print(rxn_net)"
   ]
  },
  {
   "cell_type": "markdown",
   "metadata": {},
   "source": [
    "# Visualization"
   ]
  },
  {
   "cell_type": "code",
   "execution_count": 4,
   "metadata": {},
   "outputs": [],
   "source": [
    "rxn_net.visualize_intermediate('01011*')"
   ]
  },
  {
   "cell_type": "code",
   "execution_count": 6,
   "metadata": {},
   "outputs": [
    {
     "data": {
      "text/plain": [
       "<energydiagram.energydiagram.ED at 0x7fb5c504de10>"
      ]
     },
     "execution_count": 6,
     "metadata": {},
     "output_type": "execute_result"
    },
    {
     "data": {
      "image/png": "[encoded data removed]",
      "text/plain": [
       "<Figure size 640x480 with 1 Axes>"
      ]
     },
     "metadata": {},
     "output_type": "display_data"
    }
   ],
   "source": [
    "for rxn in rxn_net.reactions:\n",
    "    rxn.calc_reaction_barrier(bep_params=[0.55, 0.8])\n",
    "    \n",
    "rxn_net.visualize_reaction(10)"
   ]
  },
  {
   "cell_type": "markdown",
   "metadata": {},
   "source": [
    "# Work with graph representation"
   ]
  },
  {
   "cell_type": "code",
   "execution_count": null,
   "metadata": {},
   "outputs": [],
   "source": [
    "graph = rxn_net.gen_graph(show_steps=False, del_surf=True)\n",
    "for node in graph.nodes:\n",
    "    print(node, graph.nodes[node])"
   ]
  },
  {
   "cell_type": "code",
   "execution_count": null,
   "metadata": {},
   "outputs": [],
   "source": [
    "rxn_net.write_dotgraph(\".\", \"test_del.png\", show_steps=False)"
   ]
  },
  {
   "cell_type": "code",
   "execution_count": null,
   "metadata": {},
   "outputs": [],
   "source": []
  },
  {
   "cell_type": "code",
   "execution_count": null,
   "metadata": {},
   "outputs": [],
   "source": []
  },
  {
   "cell_type": "code",
   "execution_count": null,
   "metadata": {},
   "outputs": [],
   "source": [
    "rxn_net.write_dotgraph(\".\", 'HIGHLIGHT_test.png', del_surf=True,  show_steps=False, highlight=x)"
   ]
  },
  {
   "cell_type": "markdown",
   "metadata": {},
   "source": [
    "# interactive plotly graph"
   ]
  },
  {
   "cell_type": "code",
   "execution_count": null,
   "metadata": {},
   "outputs": [],
   "source": [
    "graph = rxn_net.gen_graph(del_surf=True, show_steps=False, highlight=x)"
   ]
  },
  {
   "cell_type": "code",
   "execution_count": null,
   "metadata": {},
   "outputs": [],
   "source": [
    "import plotly.graph_objects as go\n",
    "\n",
    "def gen_interactive_graph(graph: nx.DiGraph):\n",
    "    pos = nx.kamada_kawai_layout(graph)\n",
    "    nx.set_node_attributes(graph, pos, 'pos')\n",
    "    edge_x = []\n",
    "    edge_y = []\n",
    "    G = graph\n",
    "    for edge in G.edges():\n",
    "        x0, y0 = G.nodes[edge[0]]['pos']\n",
    "        x1, y1 = G.nodes[edge[1]]['pos']\n",
    "        edge_x.append(x0)\n",
    "        edge_x.append(x1)\n",
    "        edge_x.append(None)\n",
    "        edge_y.append(y0)\n",
    "        edge_y.append(y1)\n",
    "        edge_y.append(None)\n",
    "    \n",
    "    edge_trace = go.Scatter(\n",
    "        x=edge_x, y=edge_y,\n",
    "        line=dict(width=0.5, color='#888'),\n",
    "        hoverinfo='none',\n",
    "        mode='lines')\n",
    "    \n",
    "    node_x = [pos[0] for pos in list(nx.get_node_attributes(G,'pos').values())]\n",
    "    node_y = [pos[1] for pos in list(nx.get_node_attributes(G,'pos').values())]\n",
    "    \n",
    "    hover_texts = []\n",
    "    for node in G.nodes(data=True):\n",
    "        img_path = node[1]['fig_path']\n",
    "        formula = node[1]['formula']\n",
    "        hover_text = f\"\"\"<\n",
    "                <TABLE BORDER=\"0\" CELLBORDER=\"0\" CELLSPACING=\"0\">\n",
    "                <TR>\n",
    "                <TD><IMG SRC=\"{img_path}\"/></TD>\n",
    "                </TR>\n",
    "                <TR>\n",
    "                <TD>{formula}</TD>\n",
    "                </TR>\n",
    "                </TABLE>>\"\"\"\n",
    "        hover_texts.append(hover_text)\n",
    "    node_trace = go.Scatter(\n",
    "        x=node_x, y=node_y,\n",
    "        mode='markers',\n",
    "        hoverinfo='text',\n",
    "        hovertext=hover_texts,\n",
    "        marker=dict(\n",
    "            showscale=True,\n",
    "            size=30,\n",
    "            colorbar=dict(\n",
    "                thickness=15,\n",
    "                title='Node Connections',\n",
    "                xanchor='left',\n",
    "                titleside='right'\n",
    "            )\n",
    "        )\n",
    "    )\n",
    "    \n",
    "    node_adjacencies = []\n",
    "    node_text = []\n",
    "    for node, adjacencies in enumerate(G.adjacency()):\n",
    "        node_adjacencies.append(len(adjacencies[1]))\n",
    "        node_text.append(f\"# of connections: {len(adjacencies[1])}\")\n",
    "    \n",
    "    node_trace.marker.color = node_adjacencies\n",
    "    node_trace.text = node_text\n",
    "    \n",
    "    fig = go.Figure(data=[edge_trace, node_trace],\n",
    "                 layout=go.Layout(\n",
    "                    showlegend=False,\n",
    "                    hovermode='closest',\n",
    "                    margin=dict(b=0,l=0,r=0,t=0),\n",
    "                    xaxis=dict(showgrid=False, zeroline=False),\n",
    "                    yaxis=dict(showgrid=False, zeroline=False))\n",
    "                    )\n",
    "    fig.show()\n",
    "    "
   ]
  },
  {
   "cell_type": "code",
   "execution_count": null,
   "metadata": {},
   "outputs": [],
   "source": [
    "gen_interactive_graph(graph)"
   ]
  },
  {
   "cell_type": "code",
   "execution_count": null,
   "metadata": {},
   "outputs": [],
   "source": [
    "import networkx as nx\n",
    "from collections import deque\n",
    "\n",
    "def constrained_shortest_path(graph, source, target, intermediates_to_avoid):\n",
    "    visited = set()\n",
    "    queue = deque([(source, [source])])  # Each element of the queue is a tuple (node, path_so_far)\n",
    "\n",
    "    while queue:\n",
    "        current_node, path_so_far = queue.popleft()\n",
    "\n",
    "        if current_node == target:\n",
    "            return path_so_far\n",
    "\n",
    "        visited.add(current_node)\n",
    "\n",
    "        for neighbor in graph.neighbors(current_node):\n",
    "            # Skip nodes that are not elementary reactions\n",
    "            if 'type' in graph.nodes[neighbor] and graph.nodes[neighbor]['type'] != 'elementary_reaction':\n",
    "                continue\n",
    "\n",
    "            # Skip intermediates to avoid\n",
    "            if neighbor in intermediates_to_avoid:\n",
    "                continue\n",
    "            \n",
    "            if neighbor not in visited:\n",
    "                queue.append((neighbor, path_so_far + [neighbor]))\n",
    "                visited.add(neighbor)\n",
    "                \n",
    "    return None  # return None if no such path exists\n"
   ]
  },
  {
   "cell_type": "code",
   "execution_count": null,
   "metadata": {},
   "outputs": [],
   "source": [
    "import networkx as nx\n",
    "from collections import deque\n",
    "\n",
    "# Define your graph here\n",
    "G = nx.Graph()\n",
    "G.add_edges_from([\n",
    "    (\"A\", \"R1\"),\n",
    "    (\"R1\", \"B\"),\n",
    "    (\"B\", \"R2\"),\n",
    "    (\"R2\", \"C\"),\n",
    "    (\"B\", \"R3\"),\n",
    "    (\"R3\", \"D\"),\n",
    "])\n",
    "\n",
    "# Annotate nodes with their types\n",
    "for node in [\"A\", \"B\", \"C\", \"D\"]:\n",
    "    G.nodes[node]['type'] = 'intermediate'\n",
    "for node in [\"R1\", \"R2\", \"R3\"]:\n",
    "    G.nodes[node]['type'] = 'elementary_reaction'\n",
    "\n",
    "def custom_shortest_path(rxn_net, graph, source, target):\n",
    "    queue = deque([(source, [])])\n",
    "    graph = graph.to_undirected()\n",
    "    intermediates_visited = set()\n",
    "    reactions_visited = set()\n",
    "    while queue:\n",
    "        current_node, path_so_far = queue.popleft()\n",
    "        \n",
    "        # Check if the target node is reached\n",
    "        if current_node == target:\n",
    "            return path_so_far\n",
    "\n",
    "        intermediates_visited.add(current_node)\n",
    "\n",
    "        for step in graph.neighbors(current_node):\n",
    "            if step in reactions_visited:\n",
    "                continue\n",
    "\n",
    "            # Update the path based on the type of the neighbor\n",
    "            inters = list(rxn_net.reactions[step].reactants) + list(rxn_net.reactions[step].products)\n",
    "            unvisited_inters = [inter for inter in inters if inter not in intermediates_visited]\n",
    "            if len(unvisited_inters) != 0:\n",
    "                continue\n",
    "            new_path = path_so_far + [step] if graph.nodes[step]['category'] not in ('ads', 'sur', 'gas') else path_so_far\n",
    "\n",
    "            queue.append((step, new_path))\n",
    "            visited.add(neighbor)\n",
    "\n",
    "    return None  # Path not found\n",
    "\n",
    "def custom_shortest_path(net, graph, source, target):\n",
    "    visited = set()\n",
    "    visited_inters = {'000000*', '010101*'}\n",
    "    queue = deque([(source, [])])\n",
    "\n",
    "    while queue:\n",
    "        current_node, path_so_far = queue.popleft()\n",
    "        \n",
    "        # Check if the target node is reached\n",
    "        if current_node == target:\n",
    "            return path_so_far\n",
    "\n",
    "        visited.add(current_node)\n",
    "        if graph.nodes[current_node]['category'] in ('ads', 'sur', 'gas'):\n",
    "            visited_inters.add(current_node)\n",
    "\n",
    "        for neighbor in graph.neighbors(current_node):\n",
    "            # Skip if already visited\n",
    "            if neighbor in visited:\n",
    "                continue\n",
    "\n",
    "            if graph.nodes[neighbor]['category'] not in ('ads', 'sur', 'gas'):\n",
    "                index = rxn_net.reactions[neighbor].index\n",
    "                inters = list(net.reactions[index].reactants) + list(net.reactions[index].products)\n",
    "                if not all([inter in visited_inters for inter in inters]):\n",
    "                    continue\n",
    "\n",
    "            # Update the path based on the type of the neighbor\n",
    "            new_path = path_so_far + [neighbor] if graph.nodes[neighbor]['type'] == 'elementary_reaction' else path_so_far\n",
    "\n",
    "            queue.append((neighbor, new_path))\n",
    "            visited.add(neighbor)\n",
    "\n",
    "    return None  # Path not found\n",
    "\n",
    "def shortest_path_sm(graph, source, target):\n",
    "    # select all nodes that are not intermediates\n",
    "    visited_intermediates = set()\n",
    "    rxn_nodes = [node for node in graph.nodes if graph.nodes[node]['category'] not in ('ads', 'sur', 'gas')]\n",
    "    break_condition = lambda node: target in node\n",
    "    cc_condition = lambda node: all([intermediate in visited_intermediates for intermediate in node])\n",
    "\n",
    "\n"
   ]
  },
  {
   "cell_type": "code",
   "execution_count": null,
   "metadata": {},
   "outputs": [],
   "source": [
    "nx_graph = rxn_net.graph"
   ]
  },
  {
   "cell_type": "code",
   "execution_count": null,
   "metadata": {},
   "outputs": [],
   "source": [
    "x = custom_shortest_path(rxn_net, nx_graph, '102101g', '141101g')\n",
    "x"
   ]
  },
  {
   "cell_type": "code",
   "execution_count": null,
   "metadata": {},
   "outputs": [],
   "source": [
    "rxn_net.reactions"
   ]
  },
  {
   "cell_type": "markdown",
   "metadata": {},
   "source": [
    "# Other"
   ]
  },
  {
   "cell_type": "code",
   "execution_count": null,
   "metadata": {},
   "outputs": [],
   "source": [
    "for inter in rxn_net.intermediates.values():\n",
    "    if inter.closed_shell:\n",
    "        print(inter.smiles)"
   ]
  },
  {
   "cell_type": "code",
   "execution_count": null,
   "metadata": {},
   "outputs": [],
   "source": [
    "rxn_net.add_eley_rideal('101101g', '001101*', '102101*')\n",
    "print(rxn_net)"
   ]
  },
  {
   "cell_type": "code",
   "execution_count": null,
   "metadata": {},
   "outputs": [],
   "source": [
    "print(len(rxn_net.reactions))"
   ]
  },
  {
   "cell_type": "code",
   "execution_count": null,
   "metadata": {},
   "outputs": [],
   "source": [
    "print(len(rxn_net.reactions))"
   ]
  },
  {
   "cell_type": "code",
   "execution_count": null,
   "metadata": {},
   "outputs": [],
   "source": [
    "counter  =0 \n",
    "for reaction in rxn_net.reactions:\n",
    "    counter += 1\n",
    "    print(counter, reaction.code, reaction.components, reaction.r_type)"
   ]
  },
  {
   "cell_type": "code",
   "execution_count": null,
   "metadata": {},
   "outputs": [],
   "source": [
    "for reaction in rxn_net.reactions:\n",
    "    print(reaction.components)\n",
    "    for component in reaction.components:\n",
    "        for inter in component:\n",
    "            print(inter.code)"
   ]
  },
  {
   "cell_type": "code",
   "execution_count": null,
   "metadata": {},
   "outputs": [],
   "source": [
    "print(len(rxn_net.intermediates))"
   ]
  },
  {
   "cell_type": "code",
   "execution_count": null,
   "metadata": {},
   "outputs": [],
   "source": [
    "closed_shell_atoms = []\n",
    "for inter in rxn_net.intermediates.values():\n",
    "    if inter.closed_shell == True:\n",
    "        closed_shell_atoms.append(inter.molecule)\n",
    "print(len(closed_shell_atoms))"
   ]
  },
  {
   "cell_type": "code",
   "execution_count": null,
   "metadata": {},
   "outputs": [],
   "source": [
    "closed_shell_atoms = []\n",
    "for inter in rxn_net.intermediates.values():\n",
    "    if inter.closed_shell == True:\n",
    "        closed_shell_atoms.append(inter.molecule)\n",
    "print(len(closed_shell_atoms))"
   ]
  },
  {
   "cell_type": "code",
   "execution_count": null,
   "metadata": {},
   "outputs": [],
   "source": [
    "closed_shell_atoms[0].get_chemical_symbols().count(\"H\")"
   ]
  },
  {
   "cell_type": "code",
   "execution_count": null,
   "metadata": {},
   "outputs": [],
   "source": [
    "view(closed_shell_atoms)"
   ]
  },
  {
   "cell_type": "code",
   "execution_count": null,
   "metadata": {},
   "outputs": [],
   "source": [
    "y = rxn_net.gen_graph()\n",
    "# y.remove_node(\"\")\n",
    "for node in y.nodes(data=True):\n",
    "    print(node)\n",
    "print(y)"
   ]
  },
  {
   "cell_type": "code",
   "execution_count": null,
   "metadata": {},
   "outputs": [],
   "source": [
    "rxn_net.surface.facet"
   ]
  },
  {
   "cell_type": "code",
   "execution_count": null,
   "metadata": {},
   "outputs": [],
   "source": [
    "rxn_net.write_dotgraph(\".\", 'OLIV_test.png', del_surf=True)"
   ]
  },
  {
   "cell_type": "markdown",
   "metadata": {},
   "source": [
    "Look for intermediates with specified composition"
   ]
  },
  {
   "cell_type": "code",
   "execution_count": null,
   "metadata": {},
   "outputs": [],
   "source": [
    "rxn_net.search_inter_by_elements({'C':1, 'H':2, 'O':2})"
   ]
  },
  {
   "cell_type": "markdown",
   "metadata": {},
   "source": [
    "Look for all elementary steps involving a specific intermediate"
   ]
  },
  {
   "cell_type": "code",
   "execution_count": null,
   "metadata": {},
   "outputs": [],
   "source": [
    "rxn_net.search_ts([\"222101\"])"
   ]
  },
  {
   "cell_type": "code",
   "execution_count": null,
   "metadata": {},
   "outputs": [],
   "source": [
    "types = []\n",
    "for reaction in rxn_net.reactions:\n",
    "    types.append(reaction.r_type)\n",
    "print(set(types))"
   ]
  },
  {
   "cell_type": "code",
   "execution_count": null,
   "metadata": {},
   "outputs": [],
   "source": [
    "types = []\n",
    "for inter in rxn_net.intermediates.values():\n",
    "    types.append(inter.phase)\n",
    "print(set(types))"
   ]
  },
  {
   "cell_type": "markdown",
   "metadata": {},
   "source": [
    "# Try PyEnergyDiagrams>"
   ]
  },
  {
   "cell_type": "code",
   "execution_count": null,
   "metadata": {},
   "outputs": [],
   "source": [
    "import matplotlib.pyplot as plt\n",
    "from energydiagram import ED\n",
    "diagram = ED()\n",
    "diagram.add_level(0,'Separated Reactants')\n",
    "diagram.add_level(-5.4,'mlC1')\n",
    "diagram.add_level(-15.6,'mlC2','last',) #Using 'last'  or 'l' it will be together with the previous level\n",
    "diagram.add_level(28.5,'mTS1',color='g')\n",
    "diagram.add_level(-9.7,'mCARB1')\n",
    "diagram.add_level(-19.8,'mCARB2','l')\n",
    "diagram.add_level(20,'mCARBX','last')"
   ]
  },
  {
   "cell_type": "code",
   "execution_count": null,
   "metadata": {},
   "outputs": [],
   "source": [
    "def visualize_step(step):\n",
    "    import re\n",
    "    rxn = step.__repr__()\n",
    "    components = rxn.split(\"<->\")\n",
    "    reactants = components[0].split(\"+\")\n",
    "    products = components[1].split(\"+\")\n",
    "    # keep only chars between parentheses\n",
    "    reactants = [re.findall(r'\\((.*?)\\)', reactant) for reactant in reactants]\n",
    "    products = [re.findall(r'\\((.*?)\\)', product) for product in products]\n",
    "    # flatten list of lists\n",
    "    reactants = [item for sublist in reactants for item in sublist]\n",
    "    products = [item for sublist in products for item in sublist]\n",
    "    rxn_string = \" + \".join(reactants) + \" -> \" + \" + \".join(products)\n",
    "    diagram = ED()\n",
    "    diagram.add_level(0, rxn_string.split(\" -> \")[0])\n",
    "    diagram.add_level(round(step.e_act[0], 2), 'TS', color='r')\n",
    "    diagram.add_level(round(step.energy[0], 2), rxn_string.split(\" -> \")[1])\n",
    "    diagram.add_link(0,1)\n",
    "    diagram.add_link(1,2)\n",
    "    y = diagram.plot(ylabel=\"Energy / eV\") # this is the default ylabel\n",
    "    # add title in Arial and bold, shifted slightly above\n",
    "    # the default position\n",
    "    plt.title(rxn_string, fontname='Arial', fontweight='bold',\n",
    "              y=1.05) \n",
    "    # from os import makedirs\n",
    "    # from ase.io import write\n",
    "    # from os.path import abspath\n",
    "    # from matplotlib.offsetbox import OffsetImage, AnnotationBbox\n",
    "    # makedirs('tmp', exist_ok=True)\n",
    "    # for inter in step.reactants:        \n",
    "    #     fig_path = abspath(\"tmp/{}.png\".format(inter.code))\n",
    "    #     write(fig_path, inter.molecule, show_unit_cell=0)\n",
    "    #     arr_img = plt.imread(fig_path)\n",
    "    #     im = OffsetImage(arr_img)\n",
    "    #     ab = AnnotationBbox(im, (1, 0), xycoords='axes fraction')\n",
    "    #     diagram.ax.add_artist(ab)\n",
    "    # diagram.plot(ylabel=\"eV\")\n",
    "    return diagram\n",
    "        \n",
    "    "
   ]
  },
  {
   "cell_type": "code",
   "execution_count": 7,
   "metadata": {},
   "outputs": [
    {
     "data": {
      "image/png": "[encoded data removed]",
      "text/plain": [
       "<Figure size 640x480 with 1 Axes>"
      ]
     },
     "metadata": {},
     "output_type": "display_data"
    }
   ],
   "source": [
    "y = rxn_net.visualize_reaction(10)"
   ]
  },
  {
   "cell_type": "code",
   "execution_count": 9,
   "metadata": {},
   "outputs": [
    {
     "data": {
      "text/plain": [
       "[<Axes: title={'center': 'CH2O2* + Pd48* -> CHO2* + H*'}, ylabel='Energy / eV'>,\n",
       " Text(0.86649255, 0.023799999999999998, '0'),\n",
       " Text(1.0911387666666668, 0, ''),\n",
       " Text(0.6418463333333334, 0, ''),\n",
       " Text(0.86649255, -0.047599999999999996, 'CH2O2* + Pd48*'),\n",
       " Text(1.5083388833333335, 0.6838000000000001, '0.66'),\n",
       " Text(1.7329851, 0.66, ''),\n",
       " Text(1.2836926666666668, 0.66, ''),\n",
       " Text(1.5083388833333335, 0.6124, 'TS'),\n",
       " Text(2.150185216666667, -0.5062, '-0.53'),\n",
       " Text(2.3748314333333336, -0.53, ''),\n",
       " Text(1.9255390000000001, -0.53, ''),\n",
       " Text(2.150185216666667, -0.5776, 'CHO2* + H*'),\n",
       " <matplotlib.spines.Spine at 0x7fb58a269c90>,\n",
       " <matplotlib.patches.Rectangle at 0x7fb58a26bdc0>]"
      ]
     },
     "execution_count": 9,
     "metadata": {},
     "output_type": "execute_result"
    }
   ],
   "source": [
    "y.fig.get_default_bbox_extra_artists()"
   ]
  },
  {
   "cell_type": "code",
   "execution_count": 12,
   "metadata": {},
   "outputs": [
    {
     "data": {
      "text/plain": [
       "matplotlib.text.Text"
      ]
     },
     "execution_count": 12,
     "metadata": {},
     "output_type": "execute_result"
    }
   ],
   "source": [
    "artists = y.fig.get_default_bbox_extra_artists()\n",
    "type(artists[1])\n",
    "# add rectangle to the y axis\n",
    "import matplotlib.pyplot as plt\n",
    "from matplotlib.patches import Rectangle\n",
    "from matplotlib.collections import PatchCollection\n",
    "from matplotlib.colors import ListedColormap\n",
    "import numpy as np\n",
    "\n",
    "# create a list of Rectangle patches\n",
    "rectangles = []\n",
    "for i in range(10):\n",
    "    rectangles.append(Rectangle((0, i), 1, 1))\n",
    "\n"
   ]
  },
  {
   "cell_type": "code",
   "execution_count": 17,
   "metadata": {},
   "outputs": [
    {
     "data": {
      "text/plain": [
       "(1.0911387666666668, 0)"
      ]
     },
     "execution_count": 17,
     "metadata": {},
     "output_type": "execute_result"
    }
   ],
   "source": [
    "rect_width = artists[2].get_position()\n",
    "rect_width"
   ]
  },
  {
   "cell_type": "code",
   "execution_count": null,
   "metadata": {},
   "outputs": [],
   "source": []
  }
 ],
 "metadata": {
  "kernelspec": {
   "display_name": "gnn",
   "language": "python",
   "name": "python3"
  },
  "language_info": {
   "codemirror_mode": {
    "name": "ipython",
    "version": 3
   },
   "file_extension": ".py",
   "mimetype": "text/x-python",
   "name": "python",
   "nbconvert_exporter": "python",
   "pygments_lexer": "ipython3",
   "version": "3.10.12"
  },
  "orig_nbformat": 4
 },
 "nbformat": 4,
 "nbformat_minor": 2
}
