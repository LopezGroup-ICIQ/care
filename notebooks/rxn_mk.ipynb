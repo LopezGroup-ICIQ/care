{
 "cells": [
  {
   "cell_type": "code",
   "execution_count": 1,
   "metadata": {},
   "outputs": [
    {
     "name": "stdout",
     "output_type": "stream",
     "text": [
      "ReactionNetwork(43 intermediates, 14 closed-shell molecules, 103 reactions)\n",
      "Surface: Ag48(100)\n",
      "Network Carbon cutoff: C1\n",
      "\n"
     ]
    }
   ],
   "source": [
    "import os\n",
    "import pickle\n",
    "from ase.db import connect\n",
    "from ase.visualize import view\n",
    "\n",
    "from GAMERNet.rnet.networks.reaction_network import ReactionNetwork\n",
    "from GAMERNet.rnet.networks.surface import Surface\n",
    "\n",
    "with open('../scripts/C1_ag100/rxn_net.pkl', 'rb') as pickle_file:\n",
    "    content = pickle.load(pickle_file)  # dict of elementary reactions\n",
    "\n",
    "rxn_net = ReactionNetwork().from_dict(content)\n",
    "print(rxn_net)\n",
    "graph = rxn_net.graph"
   ]
  },
  {
   "cell_type": "code",
   "execution_count": 5,
   "metadata": {},
   "outputs": [
    {
     "data": {
      "text/plain": [
       "[CH4+Ag48<->H+CH3,\n",
       " Ag48+CH3<->H+CH2,\n",
       " Ag48+CH2<->H+CH,\n",
       " CH+Ag48<->C+H,\n",
       " Ag48+CH4O2<->CH3O2+H,\n",
       " Ag48+CH4O2<->CH3O2+H,\n",
       " CH3O2+Ag48<->CH2O2+H,\n",
       " CH3O2+Ag48<->H+CH2O2,\n",
       " CH3O2+Ag48<->CH2O2+H,\n",
       " CH3O2+Ag48<->CH2O2+H,\n",
       " CH2O2+Ag48<->H+CHO2,\n",
       " CH2O2+Ag48<->CHO2+H,\n",
       " Ag48+CH2O2<->CHO2+H,\n",
       " CH2O2+Ag48<->H+CHO2,\n",
       " Ag48+CHO2<->CO2+H,\n",
       " CHO2+Ag48<->CO2+H,\n",
       " CH4O+Ag48<->H+CH3O,\n",
       " CH4O+Ag48<->CH3O+H,\n",
       " Ag48+CH3O<->H+CH2O,\n",
       " Ag48+CH3O<->H+CH2O,\n",
       " CH3O+Ag48<->H+CH2O,\n",
       " Ag48+CH2O<->H+CHO,\n",
       " Ag48+CH2O<->H+CHO,\n",
       " Ag48+CH2O<->H+CHO,\n",
       " Ag48+CHO<->CO+H,\n",
       " Ag48+CHO<->CO+H,\n",
       " CH4O3+Ag48<->CH3O3+H,\n",
       " CH4O3+Ag48<->H+CH3O3,\n",
       " CH3O3+Ag48<->CH2O3+H,\n",
       " CH3O3+Ag48<->CH2O3+H,\n",
       " Ag48+CH3O3<->CH2O3+H,\n",
       " CH2O3+Ag48<->CHO3+H,\n",
       " CH2O3+Ag48<->CHO3+H,\n",
       " CH2O3+Ag48<->CHO3+H,\n",
       " CHO3+Ag48<->CO3+H,\n",
       " CHO3+Ag48<->CO3+H,\n",
       " CH4O4+Ag48<->CH3O4+H,\n",
       " CH3O4+Ag48<->CH2O4+H,\n",
       " CH2O4+Ag48<->H+CHO4,\n",
       " Ag48+CHO4<->H+CO4,\n",
       " H2O+Ag48<->HO+H,\n",
       " HO+Ag48<->H+O,\n",
       " Ag48+H2O2<->HO2+H,\n",
       " HO2+Ag48<->O2+H,\n",
       " H2+Ag48<->H,\n",
       " Ag48+CH4O2<->HO+CH3O,\n",
       " CH3O2+Ag48<->CH3O+O,\n",
       " CH3O2+Ag48<->HO+CH2O,\n",
       " CH3O2+Ag48<->HO+CH2O,\n",
       " CH2O2+Ag48<->O+CH2O,\n",
       " CH2O2+Ag48<->HO+CHO,\n",
       " Ag48+CH2O2<->CH2O+O,\n",
       " CH2O2+Ag48<->HO+CHO,\n",
       " Ag48+CHO2<->CHO+O,\n",
       " Ag48+CHO2<->HO+CO,\n",
       " CHO2+Ag48<->CHO+O,\n",
       " CO2+Ag48<->CO+O,\n",
       " CH4O+Ag48<->HO+CH3,\n",
       " Ag48+CH3O<->HO+CH2,\n",
       " CH3O+Ag48<->CH3+O,\n",
       " Ag48+CH2O<->HO+CH,\n",
       " Ag48+CH2O<->CH2+O,\n",
       " Ag48+CHO<->HO+C,\n",
       " Ag48+CHO<->CH+O,\n",
       " CO+Ag48<->C+O,\n",
       " CH4O3+Ag48<->HO+CH3O2,\n",
       " CH3O3+Ag48<->CH3O2+O,\n",
       " CH3O3+Ag48<->HO+CH2O2,\n",
       " Ag48+CH3O3<->HO+CH2O2,\n",
       " CH2O3+Ag48<->CH2O2+O,\n",
       " CH2O3+Ag48<->HO+CHO2,\n",
       " CH2O3+Ag48<->CH2O2+O,\n",
       " CH2O3+Ag48<->HO+CHO2,\n",
       " CHO3+Ag48<->CHO2+O,\n",
       " CHO3+Ag48<->HO+CO2,\n",
       " CHO3+Ag48<->CHO2+O,\n",
       " CO3+Ag48<->CO2+O,\n",
       " CH4O4+Ag48<->HO+CH3O3,\n",
       " CH3O4+Ag48<->CH3O3+O,\n",
       " CH3O4+Ag48<->HO+CH2O3,\n",
       " CH2O4+Ag48<->CH2O3+O,\n",
       " CH2O4+Ag48<->HO+CHO3,\n",
       " Ag48+CHO4<->CHO3+O,\n",
       " Ag48+CHO4<->HO+CO3,\n",
       " Ag48+CO4<->CO3+O,\n",
       " Ag48+H2O2<->HO,\n",
       " HO2+Ag48<->HO+O,\n",
       " O2+Ag48<->O,\n",
       " H2+Ag48<->H,\n",
       " CH4<->Ag48+CH4,\n",
       " CH4O2<->CH4O2+Ag48,\n",
       " CH2O2<->CH2O2+Ag48,\n",
       " CO2<->CO2+Ag48,\n",
       " CH4O<->CH4O+Ag48,\n",
       " CH2O<->CH2O+Ag48,\n",
       " CO<->CO+Ag48,\n",
       " CH4O3<->CH4O3+Ag48,\n",
       " CH2O3<->CH2O3+Ag48,\n",
       " CH4O4<->CH4O4+Ag48,\n",
       " H2O<->H2O+Ag48,\n",
       " H2O2<->H2O2+Ag48,\n",
       " O2<->O2+Ag48,\n",
       " H2<->Ag48+H2]"
      ]
     },
     "execution_count": 5,
     "metadata": {},
     "output_type": "execute_result"
    }
   ],
   "source": [
    "rxn_net.t_states"
   ]
  },
  {
   "cell_type": "code",
   "execution_count": 2,
   "metadata": {},
   "outputs": [
    {
     "name": "stdout",
     "output_type": "stream",
     "text": [
      "58\n"
     ]
    }
   ],
   "source": [
    "print(len(rxn_net.intermediates))"
   ]
  },
  {
   "cell_type": "code",
   "execution_count": 2,
   "metadata": {},
   "outputs": [
    {
     "name": "stdout",
     "output_type": "stream",
     "text": [
      "44\n"
     ]
    }
   ],
   "source": [
    "closed_shell_atoms = []\n",
    "for inter in rxn_net.intermediates.values():\n",
    "    if inter.closed_shell == True:\n",
    "        closed_shell_atoms.append(inter.molecule)\n",
    "print(len(closed_shell_atoms))"
   ]
  },
  {
   "cell_type": "code",
   "execution_count": null,
   "metadata": {},
   "outputs": [],
   "source": [
    "closed_shell_atoms = []\n",
    "for inter in rxn_net.intermediates.values():\n",
    "    if inter.closed_shell == True:\n",
    "        closed_shell_atoms.append(inter.molecule)\n",
    "print(len(closed_shell_atoms))"
   ]
  },
  {
   "cell_type": "code",
   "execution_count": 4,
   "metadata": {},
   "outputs": [
    {
     "data": {
      "text/plain": [
       "6"
      ]
     },
     "execution_count": 4,
     "metadata": {},
     "output_type": "execute_result"
    }
   ],
   "source": [
    "closed_shell_atoms[0].get_chemical_symbols().count(\"H\")"
   ]
  },
  {
   "cell_type": "code",
   "execution_count": 10,
   "metadata": {},
   "outputs": [
    {
     "data": {
      "text/plain": [
       "<Popen: returncode: None args: ['/home/smorandi/miniconda3/envs/gnn/bin/pyth...>"
      ]
     },
     "execution_count": 10,
     "metadata": {},
     "output_type": "execute_result"
    }
   ],
   "source": [
    "view(closed_shell_atoms)"
   ]
  },
  {
   "cell_type": "code",
   "execution_count": 3,
   "metadata": {},
   "outputs": [
    {
     "data": {
      "text/plain": [
       "<networkx.classes.digraph.DiGraph at 0x7ff83447d8d0>"
      ]
     },
     "execution_count": 3,
     "metadata": {},
     "output_type": "execute_result"
    }
   ],
   "source": [
    "y = rxn_net.gen_graph()\n",
    "y"
   ]
  },
  {
   "cell_type": "code",
   "execution_count": 2,
   "metadata": {},
   "outputs": [
    {
     "ename": "KeyError",
     "evalue": "'category'",
     "output_type": "error",
     "traceback": [
      "\u001b[0;31m---------------------------------------------------------------------------\u001b[0m",
      "\u001b[0;31mKeyError\u001b[0m                                  Traceback (most recent call last)",
      "\u001b[1;32m/home/smorandi/care/notebooks/rxn_mk.ipynb Cell 8\u001b[0m line \u001b[0;36m1\n\u001b[0;32m----> <a href='vscode-notebook-cell:/home/smorandi/care/notebooks/rxn_mk.ipynb#W3sZmlsZQ%3D%3D?line=0'>1</a>\u001b[0m rxn_net\u001b[39m.\u001b[39;49mwrite_dotgraph(\u001b[39m\"\u001b[39;49m\u001b[39m.\u001b[39;49m\u001b[39m\"\u001b[39;49m, \u001b[39m'\u001b[39;49m\u001b[39mtestCOLI.png\u001b[39;49m\u001b[39m'\u001b[39;49m)\n",
      "File \u001b[0;32m~/care/src/GAMERNet/rnet/networks/reaction_network.py:313\u001b[0m, in \u001b[0;36mReactionNetwork.write_dotgraph\u001b[0;34m(self, fig_path, filename)\u001b[0m\n\u001b[1;32m    303\u001b[0m \u001b[39m# set shape of the figure to png\u001b[39;00m\n\u001b[1;32m    304\u001b[0m \u001b[39m# plot.set_nodesep(0.1)\u001b[39;00m\n\u001b[1;32m    305\u001b[0m \u001b[39m# plot.set_rankdir('TB')\u001b[39;00m\n\u001b[0;32m   (...)\u001b[0m\n\u001b[1;32m    310\u001b[0m \u001b[39m# plot.set_dpi(150)\u001b[39;00m\n\u001b[1;32m    311\u001b[0m \u001b[39m# text in the node is the node attribute formula\u001b[39;00m\n\u001b[1;32m    312\u001b[0m \u001b[39mfor\u001b[39;00m node \u001b[39min\u001b[39;00m plot\u001b[39m.\u001b[39mget_nodes():\n\u001b[0;32m--> 313\u001b[0m     category \u001b[39m=\u001b[39m node\u001b[39m.\u001b[39;49mget_attributes()[\u001b[39m'\u001b[39;49m\u001b[39mcategory\u001b[39;49m\u001b[39m'\u001b[39;49m]\n\u001b[1;32m    314\u001b[0m     \u001b[39mif\u001b[39;00m category \u001b[39min\u001b[39;00m (\u001b[39m'\u001b[39m\u001b[39mintermediate\u001b[39m\u001b[39m'\u001b[39m, \u001b[39m'\u001b[39m\u001b[39mgas\u001b[39m\u001b[39m'\u001b[39m):\n\u001b[1;32m    315\u001b[0m         formula \u001b[39m=\u001b[39m node\u001b[39m.\u001b[39mget_attributes()[\u001b[39m'\u001b[39m\u001b[39mformula\u001b[39m\u001b[39m'\u001b[39m]\n",
      "\u001b[0;31mKeyError\u001b[0m: 'category'"
     ]
    }
   ],
   "source": [
    "rxn_net.write_dotgraph(\".\", 'testCOLI.png')"
   ]
  },
  {
   "cell_type": "markdown",
   "metadata": {},
   "source": [
    "Look for intermediates with specified composition"
   ]
  },
  {
   "cell_type": "code",
   "execution_count": 7,
   "metadata": {},
   "outputs": [
    {
     "data": {
      "text/plain": [
       "(122101(CH2O2), 122102(CH2O2), 122103(CH2O2))"
      ]
     },
     "execution_count": 7,
     "metadata": {},
     "output_type": "execute_result"
    }
   ],
   "source": [
    "rxn_net.search_inter_by_elements({'C':1, 'H':2, 'O':2})"
   ]
  },
  {
   "cell_type": "markdown",
   "metadata": {},
   "source": [
    "Look for all elementary steps involving a specific intermediate"
   ]
  },
  {
   "cell_type": "code",
   "execution_count": 16,
   "metadata": {},
   "outputs": [
    {
     "data": {
      "text/plain": [
       "(Ag48+C2H3O2<->C2H2O2+H,\n",
       " C2H3O2+Ag48<->C2H2O2+H,\n",
       " C2H3O2+Ag48<->C2H2O2+H,\n",
       " C2H2O2+Ag48<->H+C2HO2,\n",
       " C2H2O2+Ag48<->C2HO2+H,\n",
       " C2H3O3+Ag48<->HO+C2H2O2,\n",
       " C2H3O3+Ag48<->HO+C2H2O2,\n",
       " C2H2O3+Ag48<->O+C2H2O2,\n",
       " C2H2O3+Ag48<->O+C2H2O2,\n",
       " C2H2O2+Ag48<->O+C2H2O,\n",
       " C2H2O2+Ag48<->CH2O+CO,\n",
       " C2H2O2+Ag48<->C2HO+HO)"
      ]
     },
     "execution_count": 16,
     "metadata": {},
     "output_type": "execute_result"
    }
   ],
   "source": [
    "rxn_net.search_ts([\"222101\"])"
   ]
  },
  {
   "cell_type": "code",
   "execution_count": 2,
   "metadata": {},
   "outputs": [
    {
     "name": "stdout",
     "output_type": "stream",
     "text": [
      "{'C-O', 'H-H', 'O-O', 'C-OH', 'O-H', 'C-H', 'desorption'}\n"
     ]
    }
   ],
   "source": [
    "types = []\n",
    "for reaction in rxn_net.t_states:\n",
    "    types.append(reaction.r_type)\n",
    "print(set(types))"
   ]
  },
  {
   "cell_type": "code",
   "execution_count": 4,
   "metadata": {},
   "outputs": [
    {
     "name": "stdout",
     "output_type": "stream",
     "text": [
      "{'surface', 'cat', 'gas'}\n"
     ]
    }
   ],
   "source": [
    "types = []\n",
    "for inter in rxn_net.intermediates.values():\n",
    "    types.append(inter.phase)\n",
    "print(set(types))"
   ]
  },
  {
   "cell_type": "markdown",
   "metadata": {},
   "source": [
    "# closed shell"
   ]
  },
  {
   "cell_type": "code",
   "execution_count": 29,
   "metadata": {},
   "outputs": [],
   "source": [
    "def is_closed_shell_santi(self):\n",
    "        \"\"\"\n",
    "        Check if a molecule CxHyOz is closed-shell or not.\n",
    "        \"\"\"\n",
    "        graph = self.graph\n",
    "        # print(graph.nodes()) list of node indexes, element symbol stored as \"elem\"\n",
    "        molecule = self.molecule\n",
    "        valence_electrons = {'C': 4, 'H': 1, 'O': 2}\n",
    "        graph = graph.to_undirected()\n",
    "        mol_composition = molecule.get_chemical_symbols()\n",
    "        mol = {'C': mol_composition.count('C'), 'H': mol_composition.count('H'), 'O': mol_composition.count('O')} # CxHyOz\n",
    "\n",
    "        if mol['C'] != 0 and mol['H'] == 0 and mol['O'] == 0: # Cx\n",
    "                return False\n",
    "        elif mol['C'] == 0 and mol['H'] != 0 and mol['O'] == 0: # Hy\n",
    "                return True if mol['H'] == 2 else False\n",
    "        elif mol['C'] == 0 and mol['H'] == 0 and mol['O'] != 0: # Oz\n",
    "                return True if mol['O'] == 2 else False\n",
    "        elif mol['C'] != 0 and mol['H'] == 0 and mol['O'] != 0: # CxOz\n",
    "                return True if mol['C'] == 1 and mol['O'] in (1,2) else False\n",
    "        elif mol['C'] != 0 and mol['H'] != 0: # CxHyOz (z can be zero)\n",
    "            node_val = lambda graph: {node: (graph.degree(node), \n",
    "                                        valence_electrons.get(graph.nodes[node][\"elem\"], 0)) for node in graph.nodes()}\n",
    "            num_unsaturated_nodes = lambda dict: len([node for node in dict.keys() if dict[node][0] < dict[node][1]])\n",
    "            node_valence_dict = node_val(graph)\n",
    "            if num_unsaturated_nodes(node_valence_dict): # all atoms are saturated\n",
    "                return True\n",
    "            elif num_unsaturated_nodes(node_valence_dict) == 1: # only one unsaturated atom\n",
    "                return False\n",
    "            else:\n",
    "                saturation_condition = lambda dict: all(dict[node][0] == dict[node][1] for node in dict.keys())\n",
    "                while saturation_condition(node_valence_dict) == False:\n",
    "                    unsat_nodes = [node for node in node_valence_dict.keys() if node_valence_dict[node][0] < node_valence_dict[node][1]]\n",
    "                    O_unsat_nodes = [node for node in unsat_nodes if graph.nodes[node][\"elem\"] == 'O']  # all oxygens unsaturated\n",
    "                    if len(O_unsat_nodes) != 0: # only one unsaturated oxygen\n",
    "                        for oxygen in O_unsat_nodes:\n",
    "                            node_valence_dict[oxygen][0] += 1\n",
    "                            # increase the valence of the oxygen neighbour by 1\n",
    "                            for neighbour in graph.neighbors(oxygen): # only one neighbour\n",
    "                                if node_valence_dict[neighbour][0] < node_valence_dict[neighbour][1]:\n",
    "                                    node_valence_dict[neighbour][1] += 1\n",
    "                                else:\n",
    "                                    return False # O neighbour is saturated already\n",
    "                    else: # CxHy\n",
    "                         # select node with the highest degree\n",
    "                        max_degree = max([node_valence_dict[node][0] for node in unsat_nodes])\n",
    "                        max_degree_node = [node for node in unsat_nodes if node_valence_dict[node][0] == max_degree][0]\n",
    "                        max_degree_node_unsat_neighbours = [neighbour for neighbour in graph.neighbors(max_degree_node) if neighbour in unsat_nodes]\n",
    "                        if len(max_degree_node_unsat_neighbours) == 0: # all neighbours are saturated\n",
    "                            return False\n",
    "                        node_valence_dict[max_degree_node][0] += 1\n",
    "                        node_valence_dict[max_degree_node_unsat_neighbours][0] += 1\n",
    "                         \n",
    "                            \n",
    "\n",
    "                \n",
    "        \n",
    "        # # Getting the unsaturated nodes (if there are not unsaturated nodes, the molecule is closed-shell)\n",
    "        # unsat_nodes = [node for node in graph.nodes() if graph.degree(node) < valence_electrons.get(graph.nodes[node][\"elem\"], 0)]\n",
    "\n",
    "        # # If the graph only has Carbon as an element and not H or O, then it is open-shell\n",
    "        # if not 'H' and 'O' in molecule.get_chemical_formula():\n",
    "        #     print(f'System {molecule.get_chemical_formula()} is open-shell: only C atoms')\n",
    "        #     return False \n",
    "        \n",
    "        # # Specific case for O2\n",
    "        # if not 'C' and 'H' in molecule.get_chemical_formula() and len(unsat_nodes) == 2:\n",
    "        #     print(f'System {molecule.get_chemical_formula()} is closed-shell: Oxygen')\n",
    "        #     return True \n",
    "        \n",
    "        # # CO and CO2\n",
    "        # if not 'H' in molecule.get_chemical_formula() and len(molecule.get_chemical_symbols()['C']) == 1 and len(molecule.get_chemical_symbols()['O']) in (1,2):\n",
    "        #     print(f'System {molecule.get_chemical_formula()} is closed-shell: CO or CO2')\n",
    "        #     return True\n",
    "        \n",
    "        # if unsat_nodes:\n",
    "        #     # If the molecule has only one unsaturated node, then it is open-shell\n",
    "        #     if len(unsat_nodes) == 1:\n",
    "        #         print(f'System {molecule.get_chemical_formula()} is open-shell')\n",
    "        #         return False \n",
    "        #     else:\n",
    "        #         # Checking if there is one unsaturated node that does not have as neighbour another unsaturated node\n",
    "        #         for node in unsat_nodes:\n",
    "        #             # If the molecule has only one unsaturated node, then it is open-shell\n",
    "        #             if not [n for n in graph.neighbors(node) if n in unsat_nodes]:\n",
    "        #                 print(f'System {molecule.get_chemical_formula()} is open-shell: one node is unsaturated but does not have as neighbour another unsaturated node')\n",
    "        #                 return False \n",
    "        #             else:\n",
    "        #                 # Case for molecules where an unsaturated node is oxygen\n",
    "        #                 if graph.nodes[node][\"elem\"] == 'O':\n",
    "        #                     # Adding one bond order (valence electrons) to the oxygen node by adding it to the unsat_nodes list"
   ]
  },
  {
   "cell_type": "code",
   "execution_count": 30,
   "metadata": {},
   "outputs": [
    {
     "data": {
      "text/plain": [
       "True"
      ]
     },
     "execution_count": 30,
     "metadata": {},
     "output_type": "execute_result"
    }
   ],
   "source": [
    "is_closed_shell_santi(rxn_net.intermediates['121101'])"
   ]
  },
  {
   "cell_type": "code",
   "execution_count": null,
   "metadata": {},
   "outputs": [],
   "source": []
  }
 ],
 "metadata": {
  "kernelspec": {
   "display_name": "gnn",
   "language": "python",
   "name": "python3"
  },
  "language_info": {
   "codemirror_mode": {
    "name": "ipython",
    "version": 3
   },
   "file_extension": ".py",
   "mimetype": "text/x-python",
   "name": "python",
   "nbconvert_exporter": "python",
   "pygments_lexer": "ipython3",
   "version": "3.10.12"
  },
  "orig_nbformat": 4
 },
 "nbformat": 4,
 "nbformat_minor": 2
}
