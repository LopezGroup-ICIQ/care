{
 "cells": [
  {
   "cell_type": "code",
   "execution_count": 6,
   "metadata": {},
   "outputs": [
    {
     "name": "stdout",
     "output_type": "stream",
     "text": [
      "ReactionNetwork(250 intermediates, 44 closed-shell molecules, 1081 reactions)\n",
      "Surface: Pt48(111)\n",
      "Network Carbon cutoff: C2\n",
      "\n",
      "{'264101': 264101(C2H6O4), '254101': 254101(C2H5O4), '254102': 254102(C2H5O4), '254103': 254103(C2H5O4), '244101': 244101(C2H4O4), '244102': 244102(C2H4O4), '244103': 244103(C2H4O4), '244104': 244104(C2H4O4), '244105': 244105(C2H4O4), '234101': 234101(C2H3O4), '234102': 234102(C2H3O4), '234103': 234103(C2H3O4), '234104': 234104(C2H3O4), '234105': 234105(C2H3O4), '234106': 234106(C2H3O4), '224101': 224101(C2H2O4), '224102': 224102(C2H2O4), '224103': 224103(C2H2O4), '224104': 224104(C2H2O4), '224105': 224105(C2H2O4), '214101': 214101(C2HO4), '214102': 214102(C2HO4), '214103': 214103(C2HO4), '204101': 204101(C2O4), '000000': 000000(Pt48), '010101': 010101(H), '264201': 264201(C2H6O4), '254201': 254201(C2H5O4), '254202': 254202(C2H5O4), '244201': 244201(C2H4O4), '244202': 244202(C2H4O4), '244203': 244203(C2H4O4), '244204': 244204(C2H4O4), '244205': 244205(C2H4O4), '234201': 234201(C2H3O4), '234202': 234202(C2H3O4), '234203': 234203(C2H3O4), '234204': 234204(C2H3O4), '234205': 234205(C2H3O4), '224201': 224201(C2H2O4), '224202': 224202(C2H2O4), '224203': 224203(C2H2O4), '224204': 224204(C2H2O4), '224205': 224205(C2H2O4), '214201': 214201(C2HO4), '214202': 214202(C2HO4), '204201': 204201(C2O4), '262101': 262101(C2H6O2), '252101': 252101(C2H5O2), '252102': 252102(C2H5O2), '252103': 252103(C2H5O2), '242101': 242101(C2H4O2), '242102': 242102(C2H4O2), '242103': 242103(C2H4O2), '242104': 242104(C2H4O2), '242105': 242105(C2H4O2), '232101': 232101(C2H3O2), '232102': 232102(C2H3O2), '232103': 232103(C2H3O2), '232104': 232104(C2H3O2), '232105': 232105(C2H3O2), '232106': 232106(C2H3O2), '222101': 222101(C2H2O2), '222102': 222102(C2H2O2), '222103': 222103(C2H2O2), '222104': 222104(C2H2O2), '222105': 222105(C2H2O2), '212101': 212101(C2HO2), '212102': 212102(C2HO2), '212103': 212103(C2HO2), '202101': 202101(C2O2), '262201': 262201(C2H6O2), '252201': 252201(C2H5O2), '252202': 252202(C2H5O2), '242201': 242201(C2H4O2), '242202': 242202(C2H4O2), '242203': 242203(C2H4O2), '242204': 242204(C2H4O2), '242205': 242205(C2H4O2), '232201': 232201(C2H3O2), '232202': 232202(C2H3O2), '232203': 232203(C2H3O2), '232204': 232204(C2H3O2), '232205': 232205(C2H3O2), '222201': 222201(C2H2O2), '222202': 222202(C2H2O2), '222203': 222203(C2H2O2), '222204': 222204(C2H2O2), '222205': 222205(C2H2O2), '212201': 212201(C2HO2), '212202': 212202(C2HO2), '202201': 202201(C2O2), '263101': 263101(C2H6O3), '253101': 253101(C2H5O3), '253102': 253102(C2H5O3), '243101': 243101(C2H4O3), '243102': 243102(C2H4O3), '243103': 243103(C2H4O3), '233101': 233101(C2H3O3), '233102': 233102(C2H3O3), '233103': 233103(C2H3O3), '233104': 233104(C2H3O3), '223101': 223101(C2H2O3), '223102': 223102(C2H2O3), '223103': 223103(C2H2O3), '213101': 213101(C2HO3), '213102': 213102(C2HO3), '203101': 203101(C2O3), '263201': 263201(C2H6O3), '253201': 253201(C2H5O3), '253202': 253202(C2H5O3), '253203': 253203(C2H5O3), '253204': 253204(C2H5O3), '243201': 243201(C2H4O3), '243202': 243202(C2H4O3), '243203': 243203(C2H4O3), '243204': 243204(C2H4O3), '243205': 243205(C2H4O3), '243206': 243206(C2H4O3), '243207': 243207(C2H4O3), '243208': 243208(C2H4O3), '233201': 233201(C2H3O3), '233202': 233202(C2H3O3), '233203': 233203(C2H3O3), '233204': 233204(C2H3O3), '233205': 233205(C2H3O3), '233206': 233206(C2H3O3), '233207': 233207(C2H3O3), '233208': 233208(C2H3O3), '233209': 233209(C2H3O3), '23320a': 23320a(C2H3O3), '223201': 223201(C2H2O3), '223202': 223202(C2H2O3), '223203': 223203(C2H2O3), '223204': 223204(C2H2O3), '223205': 223205(C2H2O3), '223206': 223206(C2H2O3), '223207': 223207(C2H2O3), '223208': 223208(C2H2O3), '213201': 213201(C2HO3), '213202': 213202(C2HO3), '213203': 213203(C2HO3), '213204': 213204(C2HO3), '203201': 203201(C2O3), '140101': 140101(CH4), '130101': 130101(CH3), '120101': 120101(CH2), '110101': 110101(CH), '100101': 100101(C), '260101': 260101(C2H6), '250101': 250101(C2H5), '240101': 240101(C2H4), '240102': 240102(C2H4), '230101': 230101(C2H3), '230102': 230102(C2H3), '220101': 220101(C2H2), '220102': 220102(C2H2), '210101': 210101(C2H), '200101': 200101(C2), '144101': 144101(CH4O4), '134101': 134101(CH3O4), '124101': 124101(CH2O4), '114101': 114101(CHO4), '104101': 104101(CO4), '141101': 141101(CH4O), '131101': 131101(CH3O), '131102': 131102(CH3O), '121101': 121101(CH2O), '121102': 121102(CH2O), '111101': 111101(CHO), '111102': 111102(CHO), '101101': 101101(CO), '143101': 143101(CH4O3), '133101': 133101(CH3O3), '133102': 133102(CH3O3), '123101': 123101(CH2O3), '123102': 123102(CH2O3), '113101': 113101(CHO3), '113102': 113102(CHO3), '103101': 103101(CO3), '142101': 142101(CH4O2), '132101': 132101(CH3O2), '132102': 132102(CH3O2), '122101': 122101(CH2O2), '122102': 122102(CH2O2), '122103': 122103(CH2O2), '112101': 112101(CHO2), '112102': 112102(CHO2), '102101': 102101(CO2), '265101': 265101(C2H6O5), '255101': 255101(C2H5O5), '255102': 255102(C2H5O5), '255103': 255103(C2H5O5), '245101': 245101(C2H4O5), '245102': 245102(C2H4O5), '245103': 245103(C2H4O5), '245104': 245104(C2H4O5), '245105': 245105(C2H4O5), '235101': 235101(C2H3O5), '235102': 235102(C2H3O5), '235103': 235103(C2H3O5), '235104': 235104(C2H3O5), '235105': 235105(C2H3O5), '235106': 235106(C2H3O5), '225101': 225101(C2H2O5), '225102': 225102(C2H2O5), '225103': 225103(C2H2O5), '225104': 225104(C2H2O5), '225105': 225105(C2H2O5), '215101': 215101(C2HO5), '215102': 215102(C2HO5), '215103': 215103(C2HO5), '205101': 205101(C2O5), '266101': 266101(C2H6O6), '256101': 256101(C2H5O6), '246101': 246101(C2H4O6), '246102': 246102(C2H4O6), '236101': 236101(C2H3O6), '236102': 236102(C2H3O6), '226101': 226101(C2H2O6), '226102': 226102(C2H2O6), '216101': 216101(C2HO6), '206101': 206101(C2O6), '261101': 261101(C2H6O), '251101': 251101(C2H5O), '251102': 251102(C2H5O), '251103': 251103(C2H5O), '241101': 241101(C2H4O), '241102': 241102(C2H4O), '241103': 241103(C2H4O), '241104': 241104(C2H4O), '241105': 241105(C2H4O), '231101': 231101(C2H3O), '231102': 231102(C2H3O), '231103': 231103(C2H3O), '231104': 231104(C2H3O), '231105': 231105(C2H3O), '231106': 231106(C2H3O), '221101': 221101(C2H2O), '221102': 221102(C2H2O), '221103': 221103(C2H2O), '221104': 221104(C2H2O), '221105': 221105(C2H2O), '211101': 211101(C2HO), '211102': 211102(C2HO), '211103': 211103(C2HO), '201101': 201101(C2O), '021101': 021101(H2O), '011101': 011101(HO), '001101': 001101(O)}\n"
     ]
    }
   ],
   "source": [
    "import os\n",
    "import pickle\n",
    "from ase.db import connect\n",
    "from ase.visualize import view\n",
    "\n",
    "from GAMERNet.rnet.networks.reaction_network import ReactionNetwork\n",
    "from GAMERNet.rnet.networks.surface import Surface\n",
    "\n",
    "with open('../scripts/C2_Pt111/rxn_net.pkl', 'rb') as pickle_file:\n",
    "    content = pickle.load(pickle_file)  # dict of elementary reactions\n",
    "\n",
    "rxn_net = ReactionNetwork().from_dict(content)\n",
    "print(rxn_net)\n",
    "graph = rxn_net.graph\n",
    "print(rxn_net.intermediates)"
   ]
  },
  {
   "cell_type": "code",
   "execution_count": 9,
   "metadata": {},
   "outputs": [
    {
     "name": "stdout",
     "output_type": "stream",
     "text": [
      "44\n"
     ]
    }
   ],
   "source": [
    "closed_shell_atoms = []\n",
    "for inter in rxn_net.intermediates.values():\n",
    "    if inter.closed_shell == True:\n",
    "        closed_shell_atoms.append(inter.molecule)\n",
    "print(len(closed_shell_atoms))"
   ]
  },
  {
   "cell_type": "code",
   "execution_count": 10,
   "metadata": {},
   "outputs": [
    {
     "data": {
      "text/plain": [
       "<Popen: returncode: None args: ['/home/smorandi/miniconda3/envs/gnn/bin/pyth...>"
      ]
     },
     "execution_count": 10,
     "metadata": {},
     "output_type": "execute_result"
    }
   ],
   "source": [
    "view(closed_shell_atoms)"
   ]
  },
  {
   "cell_type": "code",
   "execution_count": 2,
   "metadata": {},
   "outputs": [
    {
     "ename": "KeyboardInterrupt",
     "evalue": "",
     "output_type": "error",
     "traceback": [
      "\u001b[0;31m---------------------------------------------------------------------------\u001b[0m",
      "\u001b[0;31mKeyboardInterrupt\u001b[0m                         Traceback (most recent call last)",
      "\u001b[1;32m/home/smorandi/care_ai/notebooks/rxn_mk.ipynb Cell 4\u001b[0m line \u001b[0;36m1\n\u001b[0;32m----> <a href='vscode-notebook-cell:/home/smorandi/care_ai/notebooks/rxn_mk.ipynb#W1sZmlsZQ%3D%3D?line=0'>1</a>\u001b[0m rxn_net\u001b[39m.\u001b[39;49mwrite_dotgraph(\u001b[39m\"\u001b[39;49m\u001b[39m.\u001b[39;49m\u001b[39m\"\u001b[39;49m, \u001b[39m'\u001b[39;49m\u001b[39mtestC2.png\u001b[39;49m\u001b[39m'\u001b[39;49m)\n",
      "File \u001b[0;32m~/care_ai/src/GAMERNet/rnet/networks/reaction_network.py:303\u001b[0m, in \u001b[0;36mReactionNetwork.write_dotgraph\u001b[0;34m(self, fig_path, filename)\u001b[0m\n\u001b[1;32m    301\u001b[0m \u001b[39mdef\u001b[39;00m \u001b[39mwrite_dotgraph\u001b[39m(\u001b[39mself\u001b[39m, fig_path:\u001b[39mstr\u001b[39m, filename: \u001b[39mstr\u001b[39m):\n\u001b[1;32m    302\u001b[0m     graph \u001b[39m=\u001b[39m \u001b[39mself\u001b[39m\u001b[39m.\u001b[39mgen_graph()\n\u001b[0;32m--> 303\u001b[0m     pos \u001b[39m=\u001b[39m nx\u001b[39m.\u001b[39;49mkamada_kawai_layout(graph)\n\u001b[1;32m    304\u001b[0m     nx\u001b[39m.\u001b[39mset_node_attributes(graph, pos, \u001b[39m'\u001b[39m\u001b[39mpos\u001b[39m\u001b[39m'\u001b[39m)\n\u001b[1;32m    305\u001b[0m     plot \u001b[39m=\u001b[39m nx\u001b[39m.\u001b[39mdrawing\u001b[39m.\u001b[39mnx_pydot\u001b[39m.\u001b[39mto_pydot(graph)\n",
      "File \u001b[0;32m~/miniconda3/envs/gnn/lib/python3.10/site-packages/networkx/drawing/layout.py:710\u001b[0m, in \u001b[0;36mkamada_kawai_layout\u001b[0;34m(G, dist, pos, weight, scale, center, dim)\u001b[0m\n\u001b[1;32m    707\u001b[0m         pos \u001b[39m=\u001b[39m \u001b[39mdict\u001b[39m(\u001b[39mzip\u001b[39m(G, np\u001b[39m.\u001b[39mlinspace(\u001b[39m0\u001b[39m, \u001b[39m1\u001b[39m, \u001b[39mlen\u001b[39m(G))))\n\u001b[1;32m    708\u001b[0m pos_arr \u001b[39m=\u001b[39m np\u001b[39m.\u001b[39marray([pos[n] \u001b[39mfor\u001b[39;00m n \u001b[39min\u001b[39;00m G])\n\u001b[0;32m--> 710\u001b[0m pos \u001b[39m=\u001b[39m _kamada_kawai_solve(dist_mtx, pos_arr, dim)\n\u001b[1;32m    712\u001b[0m pos \u001b[39m=\u001b[39m rescale_layout(pos, scale\u001b[39m=\u001b[39mscale) \u001b[39m+\u001b[39m center\n\u001b[1;32m    713\u001b[0m \u001b[39mreturn\u001b[39;00m \u001b[39mdict\u001b[39m(\u001b[39mzip\u001b[39m(G, pos))\n",
      "File \u001b[0;32m~/miniconda3/envs/gnn/lib/python3.10/site-packages/networkx/drawing/layout.py:728\u001b[0m, in \u001b[0;36m_kamada_kawai_solve\u001b[0;34m(dist_mtx, pos_arr, dim)\u001b[0m\n\u001b[1;32m    725\u001b[0m meanwt \u001b[39m=\u001b[39m \u001b[39m1e-3\u001b[39m\n\u001b[1;32m    726\u001b[0m costargs \u001b[39m=\u001b[39m (np, \u001b[39m1\u001b[39m \u001b[39m/\u001b[39m (dist_mtx \u001b[39m+\u001b[39m np\u001b[39m.\u001b[39meye(dist_mtx\u001b[39m.\u001b[39mshape[\u001b[39m0\u001b[39m]) \u001b[39m*\u001b[39m \u001b[39m1e-3\u001b[39m), meanwt, dim)\n\u001b[0;32m--> 728\u001b[0m optresult \u001b[39m=\u001b[39m sp\u001b[39m.\u001b[39;49moptimize\u001b[39m.\u001b[39;49mminimize(\n\u001b[1;32m    729\u001b[0m     _kamada_kawai_costfn,\n\u001b[1;32m    730\u001b[0m     pos_arr\u001b[39m.\u001b[39;49mravel(),\n\u001b[1;32m    731\u001b[0m     method\u001b[39m=\u001b[39;49m\u001b[39m\"\u001b[39;49m\u001b[39mL-BFGS-B\u001b[39;49m\u001b[39m\"\u001b[39;49m,\n\u001b[1;32m    732\u001b[0m     args\u001b[39m=\u001b[39;49mcostargs,\n\u001b[1;32m    733\u001b[0m     jac\u001b[39m=\u001b[39;49m\u001b[39mTrue\u001b[39;49;00m,\n\u001b[1;32m    734\u001b[0m )\n\u001b[1;32m    736\u001b[0m \u001b[39mreturn\u001b[39;00m optresult\u001b[39m.\u001b[39mx\u001b[39m.\u001b[39mreshape((\u001b[39m-\u001b[39m\u001b[39m1\u001b[39m, dim))\n",
      "File \u001b[0;32m~/miniconda3/envs/gnn/lib/python3.10/site-packages/scipy/optimize/_minimize.py:710\u001b[0m, in \u001b[0;36mminimize\u001b[0;34m(fun, x0, args, method, jac, hess, hessp, bounds, constraints, tol, callback, options)\u001b[0m\n\u001b[1;32m    707\u001b[0m     res \u001b[39m=\u001b[39m _minimize_newtoncg(fun, x0, args, jac, hess, hessp, callback,\n\u001b[1;32m    708\u001b[0m                              \u001b[39m*\u001b[39m\u001b[39m*\u001b[39moptions)\n\u001b[1;32m    709\u001b[0m \u001b[39melif\u001b[39;00m meth \u001b[39m==\u001b[39m \u001b[39m'\u001b[39m\u001b[39ml-bfgs-b\u001b[39m\u001b[39m'\u001b[39m:\n\u001b[0;32m--> 710\u001b[0m     res \u001b[39m=\u001b[39m _minimize_lbfgsb(fun, x0, args, jac, bounds,\n\u001b[1;32m    711\u001b[0m                            callback\u001b[39m=\u001b[39;49mcallback, \u001b[39m*\u001b[39;49m\u001b[39m*\u001b[39;49moptions)\n\u001b[1;32m    712\u001b[0m \u001b[39melif\u001b[39;00m meth \u001b[39m==\u001b[39m \u001b[39m'\u001b[39m\u001b[39mtnc\u001b[39m\u001b[39m'\u001b[39m:\n\u001b[1;32m    713\u001b[0m     res \u001b[39m=\u001b[39m _minimize_tnc(fun, x0, args, jac, bounds, callback\u001b[39m=\u001b[39mcallback,\n\u001b[1;32m    714\u001b[0m                         \u001b[39m*\u001b[39m\u001b[39m*\u001b[39moptions)\n",
      "File \u001b[0;32m~/miniconda3/envs/gnn/lib/python3.10/site-packages/scipy/optimize/_lbfgsb_py.py:361\u001b[0m, in \u001b[0;36m_minimize_lbfgsb\u001b[0;34m(fun, x0, args, jac, bounds, disp, maxcor, ftol, gtol, eps, maxfun, maxiter, iprint, callback, maxls, finite_diff_rel_step, **unknown_options)\u001b[0m\n\u001b[1;32m    355\u001b[0m task_str \u001b[39m=\u001b[39m task\u001b[39m.\u001b[39mtobytes()\n\u001b[1;32m    356\u001b[0m \u001b[39mif\u001b[39;00m task_str\u001b[39m.\u001b[39mstartswith(\u001b[39mb\u001b[39m\u001b[39m'\u001b[39m\u001b[39mFG\u001b[39m\u001b[39m'\u001b[39m):\n\u001b[1;32m    357\u001b[0m     \u001b[39m# The minimization routine wants f and g at the current x.\u001b[39;00m\n\u001b[1;32m    358\u001b[0m     \u001b[39m# Note that interruptions due to maxfun are postponed\u001b[39;00m\n\u001b[1;32m    359\u001b[0m     \u001b[39m# until the completion of the current minimization iteration.\u001b[39;00m\n\u001b[1;32m    360\u001b[0m     \u001b[39m# Overwrite f and g:\u001b[39;00m\n\u001b[0;32m--> 361\u001b[0m     f, g \u001b[39m=\u001b[39m func_and_grad(x)\n\u001b[1;32m    362\u001b[0m \u001b[39melif\u001b[39;00m task_str\u001b[39m.\u001b[39mstartswith(\u001b[39mb\u001b[39m\u001b[39m'\u001b[39m\u001b[39mNEW_X\u001b[39m\u001b[39m'\u001b[39m):\n\u001b[1;32m    363\u001b[0m     \u001b[39m# new iteration\u001b[39;00m\n\u001b[1;32m    364\u001b[0m     n_iterations \u001b[39m+\u001b[39m\u001b[39m=\u001b[39m \u001b[39m1\u001b[39m\n",
      "File \u001b[0;32m~/miniconda3/envs/gnn/lib/python3.10/site-packages/scipy/optimize/_differentiable_functions.py:285\u001b[0m, in \u001b[0;36mScalarFunction.fun_and_grad\u001b[0;34m(self, x)\u001b[0m\n\u001b[1;32m    283\u001b[0m \u001b[39mif\u001b[39;00m \u001b[39mnot\u001b[39;00m np\u001b[39m.\u001b[39marray_equal(x, \u001b[39mself\u001b[39m\u001b[39m.\u001b[39mx):\n\u001b[1;32m    284\u001b[0m     \u001b[39mself\u001b[39m\u001b[39m.\u001b[39m_update_x_impl(x)\n\u001b[0;32m--> 285\u001b[0m \u001b[39mself\u001b[39;49m\u001b[39m.\u001b[39;49m_update_fun()\n\u001b[1;32m    286\u001b[0m \u001b[39mself\u001b[39m\u001b[39m.\u001b[39m_update_grad()\n\u001b[1;32m    287\u001b[0m \u001b[39mreturn\u001b[39;00m \u001b[39mself\u001b[39m\u001b[39m.\u001b[39mf, \u001b[39mself\u001b[39m\u001b[39m.\u001b[39mg\n",
      "File \u001b[0;32m~/miniconda3/envs/gnn/lib/python3.10/site-packages/scipy/optimize/_differentiable_functions.py:251\u001b[0m, in \u001b[0;36mScalarFunction._update_fun\u001b[0;34m(self)\u001b[0m\n\u001b[1;32m    249\u001b[0m \u001b[39mdef\u001b[39;00m \u001b[39m_update_fun\u001b[39m(\u001b[39mself\u001b[39m):\n\u001b[1;32m    250\u001b[0m     \u001b[39mif\u001b[39;00m \u001b[39mnot\u001b[39;00m \u001b[39mself\u001b[39m\u001b[39m.\u001b[39mf_updated:\n\u001b[0;32m--> 251\u001b[0m         \u001b[39mself\u001b[39;49m\u001b[39m.\u001b[39;49m_update_fun_impl()\n\u001b[1;32m    252\u001b[0m         \u001b[39mself\u001b[39m\u001b[39m.\u001b[39mf_updated \u001b[39m=\u001b[39m \u001b[39mTrue\u001b[39;00m\n",
      "File \u001b[0;32m~/miniconda3/envs/gnn/lib/python3.10/site-packages/scipy/optimize/_differentiable_functions.py:155\u001b[0m, in \u001b[0;36mScalarFunction.__init__.<locals>.update_fun\u001b[0;34m()\u001b[0m\n\u001b[1;32m    154\u001b[0m \u001b[39mdef\u001b[39;00m \u001b[39mupdate_fun\u001b[39m():\n\u001b[0;32m--> 155\u001b[0m     \u001b[39mself\u001b[39m\u001b[39m.\u001b[39mf \u001b[39m=\u001b[39m fun_wrapped(\u001b[39mself\u001b[39;49m\u001b[39m.\u001b[39;49mx)\n",
      "File \u001b[0;32m~/miniconda3/envs/gnn/lib/python3.10/site-packages/scipy/optimize/_differentiable_functions.py:137\u001b[0m, in \u001b[0;36mScalarFunction.__init__.<locals>.fun_wrapped\u001b[0;34m(x)\u001b[0m\n\u001b[1;32m    133\u001b[0m \u001b[39mself\u001b[39m\u001b[39m.\u001b[39mnfev \u001b[39m+\u001b[39m\u001b[39m=\u001b[39m \u001b[39m1\u001b[39m\n\u001b[1;32m    134\u001b[0m \u001b[39m# Send a copy because the user may overwrite it.\u001b[39;00m\n\u001b[1;32m    135\u001b[0m \u001b[39m# Overwriting results in undefined behaviour because\u001b[39;00m\n\u001b[1;32m    136\u001b[0m \u001b[39m# fun(self.x) will change self.x, with the two no longer linked.\u001b[39;00m\n\u001b[0;32m--> 137\u001b[0m fx \u001b[39m=\u001b[39m fun(np\u001b[39m.\u001b[39;49mcopy(x), \u001b[39m*\u001b[39;49margs)\n\u001b[1;32m    138\u001b[0m \u001b[39m# Make sure the function returns a true scalar\u001b[39;00m\n\u001b[1;32m    139\u001b[0m \u001b[39mif\u001b[39;00m \u001b[39mnot\u001b[39;00m np\u001b[39m.\u001b[39misscalar(fx):\n",
      "File \u001b[0;32m~/miniconda3/envs/gnn/lib/python3.10/site-packages/scipy/optimize/_optimize.py:77\u001b[0m, in \u001b[0;36mMemoizeJac.__call__\u001b[0;34m(self, x, *args)\u001b[0m\n\u001b[1;32m     75\u001b[0m \u001b[39mdef\u001b[39;00m \u001b[39m__call__\u001b[39m(\u001b[39mself\u001b[39m, x, \u001b[39m*\u001b[39margs):\n\u001b[1;32m     76\u001b[0m \u001b[39m    \u001b[39m\u001b[39m\"\"\" returns the function value \"\"\"\u001b[39;00m\n\u001b[0;32m---> 77\u001b[0m     \u001b[39mself\u001b[39;49m\u001b[39m.\u001b[39;49m_compute_if_needed(x, \u001b[39m*\u001b[39;49margs)\n\u001b[1;32m     78\u001b[0m     \u001b[39mreturn\u001b[39;00m \u001b[39mself\u001b[39m\u001b[39m.\u001b[39m_value\n",
      "File \u001b[0;32m~/miniconda3/envs/gnn/lib/python3.10/site-packages/scipy/optimize/_optimize.py:71\u001b[0m, in \u001b[0;36mMemoizeJac._compute_if_needed\u001b[0;34m(self, x, *args)\u001b[0m\n\u001b[1;32m     69\u001b[0m \u001b[39mif\u001b[39;00m \u001b[39mnot\u001b[39;00m np\u001b[39m.\u001b[39mall(x \u001b[39m==\u001b[39m \u001b[39mself\u001b[39m\u001b[39m.\u001b[39mx) \u001b[39mor\u001b[39;00m \u001b[39mself\u001b[39m\u001b[39m.\u001b[39m_value \u001b[39mis\u001b[39;00m \u001b[39mNone\u001b[39;00m \u001b[39mor\u001b[39;00m \u001b[39mself\u001b[39m\u001b[39m.\u001b[39mjac \u001b[39mis\u001b[39;00m \u001b[39mNone\u001b[39;00m:\n\u001b[1;32m     70\u001b[0m     \u001b[39mself\u001b[39m\u001b[39m.\u001b[39mx \u001b[39m=\u001b[39m np\u001b[39m.\u001b[39masarray(x)\u001b[39m.\u001b[39mcopy()\n\u001b[0;32m---> 71\u001b[0m     fg \u001b[39m=\u001b[39m \u001b[39mself\u001b[39;49m\u001b[39m.\u001b[39;49mfun(x, \u001b[39m*\u001b[39;49margs)\n\u001b[1;32m     72\u001b[0m     \u001b[39mself\u001b[39m\u001b[39m.\u001b[39mjac \u001b[39m=\u001b[39m fg[\u001b[39m1\u001b[39m]\n\u001b[1;32m     73\u001b[0m     \u001b[39mself\u001b[39m\u001b[39m.\u001b[39m_value \u001b[39m=\u001b[39m fg[\u001b[39m0\u001b[39m]\n",
      "File \u001b[0;32m~/miniconda3/envs/gnn/lib/python3.10/site-packages/networkx/drawing/layout.py:752\u001b[0m, in \u001b[0;36m_kamada_kawai_costfn\u001b[0;34m(pos_vec, np, invdist, meanweight, dim)\u001b[0m\n\u001b[1;32m    749\u001b[0m offset[np\u001b[39m.\u001b[39mdiag_indices(nNodes)] \u001b[39m=\u001b[39m \u001b[39m0\u001b[39m\n\u001b[1;32m    751\u001b[0m cost \u001b[39m=\u001b[39m \u001b[39m0.5\u001b[39m \u001b[39m*\u001b[39m np\u001b[39m.\u001b[39msum(offset\u001b[39m*\u001b[39m\u001b[39m*\u001b[39m\u001b[39m2\u001b[39m)\n\u001b[0;32m--> 752\u001b[0m grad \u001b[39m=\u001b[39m np\u001b[39m.\u001b[39meinsum(\u001b[39m\"\u001b[39m\u001b[39mij,ij,ijk->ik\u001b[39m\u001b[39m\"\u001b[39m, invdist, offset, direction) \u001b[39m-\u001b[39m np\u001b[39m.\u001b[39;49meinsum(\n\u001b[1;32m    753\u001b[0m     \u001b[39m\"\u001b[39;49m\u001b[39mij,ij,ijk->jk\u001b[39;49m\u001b[39m\"\u001b[39;49m, invdist, offset, direction\n\u001b[1;32m    754\u001b[0m )\n\u001b[1;32m    756\u001b[0m \u001b[39m# Additional parabolic term to encourage mean position to be near origin:\u001b[39;00m\n\u001b[1;32m    757\u001b[0m sumpos \u001b[39m=\u001b[39m np\u001b[39m.\u001b[39msum(pos_arr, axis\u001b[39m=\u001b[39m\u001b[39m0\u001b[39m)\n",
      "File \u001b[0;32m~/miniconda3/envs/gnn/lib/python3.10/site-packages/numpy/core/einsumfunc.py:1371\u001b[0m, in \u001b[0;36meinsum\u001b[0;34m(out, optimize, *operands, **kwargs)\u001b[0m\n\u001b[1;32m   1369\u001b[0m     \u001b[39mif\u001b[39;00m specified_out:\n\u001b[1;32m   1370\u001b[0m         kwargs[\u001b[39m'\u001b[39m\u001b[39mout\u001b[39m\u001b[39m'\u001b[39m] \u001b[39m=\u001b[39m out\n\u001b[0;32m-> 1371\u001b[0m     \u001b[39mreturn\u001b[39;00m c_einsum(\u001b[39m*\u001b[39;49moperands, \u001b[39m*\u001b[39;49m\u001b[39m*\u001b[39;49mkwargs)\n\u001b[1;32m   1373\u001b[0m \u001b[39m# Check the kwargs to avoid a more cryptic error later, without having to\u001b[39;00m\n\u001b[1;32m   1374\u001b[0m \u001b[39m# repeat default values here\u001b[39;00m\n\u001b[1;32m   1375\u001b[0m valid_einsum_kwargs \u001b[39m=\u001b[39m [\u001b[39m'\u001b[39m\u001b[39mdtype\u001b[39m\u001b[39m'\u001b[39m, \u001b[39m'\u001b[39m\u001b[39morder\u001b[39m\u001b[39m'\u001b[39m, \u001b[39m'\u001b[39m\u001b[39mcasting\u001b[39m\u001b[39m'\u001b[39m]\n",
      "\u001b[0;31mKeyboardInterrupt\u001b[0m: "
     ]
    }
   ],
   "source": [
    "rxn_net.write_dotgraph(\".\", 'testC2.png')"
   ]
  },
  {
   "cell_type": "markdown",
   "metadata": {},
   "source": [
    "Look for intermediates with specified composition"
   ]
  },
  {
   "cell_type": "code",
   "execution_count": 7,
   "metadata": {},
   "outputs": [
    {
     "data": {
      "text/plain": [
       "(122101(CH2O2), 122102(CH2O2), 122103(CH2O2))"
      ]
     },
     "execution_count": 7,
     "metadata": {},
     "output_type": "execute_result"
    }
   ],
   "source": [
    "rxn_net.search_inter_by_elements({'C':1, 'H':2, 'O':2})"
   ]
  },
  {
   "cell_type": "markdown",
   "metadata": {},
   "source": [
    "Look for all elementary steps involving a specific intermediate"
   ]
  },
  {
   "cell_type": "code",
   "execution_count": 8,
   "metadata": {},
   "outputs": [
    {
     "data": {
      "text/plain": [
       "(Pt48+CH<->H+C,\n",
       " C2H3O2+Pt48<->CH3O2+C,\n",
       " C2H2O2+Pt48<->CH2O2+C,\n",
       " C2H2O2+Pt48<->CH2O2+C,\n",
       " C2HO2+Pt48<->CHO2+C,\n",
       " C2HO2+Pt48<->CHO2+C,\n",
       " C2O2+Pt48<->C+CO2,\n",
       " Pt48+C2H3O3<->CH3O3+C,\n",
       " C2H2O3+Pt48<->CH2O3+C,\n",
       " Pt48+C2HO3<->CHO3+C,\n",
       " C2O3+Pt48<->CO3+C,\n",
       " C2H3+Pt48<->CH3+C,\n",
       " C2H2+Pt48<->C+CH2,\n",
       " C2H+Pt48<->CH+C,\n",
       " C2+Pt48<->C,\n",
       " C2H3O+Pt48<->CH3O+C,\n",
       " Pt48+C2H2O<->CH2O+C,\n",
       " Pt48+C2H2O<->CH2O+C,\n",
       " C2HO+Pt48<->CHO+C,\n",
       " C2HO+Pt48<->CHO+C,\n",
       " C2O+Pt48<->CO+C,\n",
       " CHO+Pt48<->HO+C,\n",
       " CO+Pt48<->O+C)"
      ]
     },
     "execution_count": 8,
     "metadata": {},
     "output_type": "execute_result"
    }
   ],
   "source": [
    "rxn_net.search_ts([\"100101\"])"
   ]
  },
  {
   "cell_type": "markdown",
   "metadata": {},
   "source": [
    "# closed shell"
   ]
  },
  {
   "cell_type": "code",
   "execution_count": 29,
   "metadata": {},
   "outputs": [],
   "source": [
    "def is_closed_shell_santi(self):\n",
    "        \"\"\"\n",
    "        Check if a molecule CxHyOz is closed-shell or not.\n",
    "        \"\"\"\n",
    "        graph = self.graph\n",
    "        # print(graph.nodes()) list of node indexes, element symbol stored as \"elem\"\n",
    "        molecule = self.molecule\n",
    "        valence_electrons = {'C': 4, 'H': 1, 'O': 2}\n",
    "        graph = graph.to_undirected()\n",
    "        mol_composition = molecule.get_chemical_symbols()\n",
    "        mol = {'C': mol_composition.count('C'), 'H': mol_composition.count('H'), 'O': mol_composition.count('O')} # CxHyOz\n",
    "\n",
    "        if mol['C'] != 0 and mol['H'] == 0 and mol['O'] == 0: # Cx\n",
    "                return False\n",
    "        elif mol['C'] == 0 and mol['H'] != 0 and mol['O'] == 0: # Hy\n",
    "                return True if mol['H'] == 2 else False\n",
    "        elif mol['C'] == 0 and mol['H'] == 0 and mol['O'] != 0: # Oz\n",
    "                return True if mol['O'] == 2 else False\n",
    "        elif mol['C'] != 0 and mol['H'] == 0 and mol['O'] != 0: # CxOz\n",
    "                return True if mol['C'] == 1 and mol['O'] in (1,2) else False\n",
    "        elif mol['C'] != 0 and mol['H'] != 0: # CxHyOz (z can be zero)\n",
    "            node_val = lambda graph: {node: (graph.degree(node), \n",
    "                                        valence_electrons.get(graph.nodes[node][\"elem\"], 0)) for node in graph.nodes()}\n",
    "            num_unsaturated_nodes = lambda dict: len([node for node in dict.keys() if dict[node][0] < dict[node][1]])\n",
    "            node_valence_dict = node_val(graph)\n",
    "            if num_unsaturated_nodes(node_valence_dict): # all atoms are saturated\n",
    "                return True\n",
    "            elif num_unsaturated_nodes(node_valence_dict) == 1: # only one unsaturated atom\n",
    "                return False\n",
    "            else:\n",
    "                saturation_condition = lambda dict: all(dict[node][0] == dict[node][1] for node in dict.keys())\n",
    "                while saturation_condition(node_valence_dict) == False:\n",
    "                    unsat_nodes = [node for node in node_valence_dict.keys() if node_valence_dict[node][0] < node_valence_dict[node][1]]\n",
    "                    O_unsat_nodes = [node for node in unsat_nodes if graph.nodes[node][\"elem\"] == 'O']  # all oxygens unsaturated\n",
    "                    if len(O_unsat_nodes) != 0: # only one unsaturated oxygen\n",
    "                        for oxygen in O_unsat_nodes:\n",
    "                            node_valence_dict[oxygen][0] += 1\n",
    "                            # increase the valence of the oxygen neighbour by 1\n",
    "                            for neighbour in graph.neighbors(oxygen): # only one neighbour\n",
    "                                if node_valence_dict[neighbour][0] < node_valence_dict[neighbour][1]:\n",
    "                                    node_valence_dict[neighbour][1] += 1\n",
    "                                else:\n",
    "                                    return False # O neighbour is saturated already\n",
    "                    else: # CxHy\n",
    "                         # select node with the highest degree\n",
    "                        max_degree = max([node_valence_dict[node][0] for node in unsat_nodes])\n",
    "                        max_degree_node = [node for node in unsat_nodes if node_valence_dict[node][0] == max_degree][0]\n",
    "                        max_degree_node_unsat_neighbours = [neighbour for neighbour in graph.neighbors(max_degree_node) if neighbour in unsat_nodes]\n",
    "                        if len(max_degree_node_unsat_neighbours) == 0: # all neighbours are saturated\n",
    "                            return False\n",
    "                        node_valence_dict[max_degree_node][0] += 1\n",
    "                        node_valence_dict[max_degree_node_unsat_neighbours][0] += 1\n",
    "                         \n",
    "                            \n",
    "\n",
    "                \n",
    "        \n",
    "        # # Getting the unsaturated nodes (if there are not unsaturated nodes, the molecule is closed-shell)\n",
    "        # unsat_nodes = [node for node in graph.nodes() if graph.degree(node) < valence_electrons.get(graph.nodes[node][\"elem\"], 0)]\n",
    "\n",
    "        # # If the graph only has Carbon as an element and not H or O, then it is open-shell\n",
    "        # if not 'H' and 'O' in molecule.get_chemical_formula():\n",
    "        #     print(f'System {molecule.get_chemical_formula()} is open-shell: only C atoms')\n",
    "        #     return False \n",
    "        \n",
    "        # # Specific case for O2\n",
    "        # if not 'C' and 'H' in molecule.get_chemical_formula() and len(unsat_nodes) == 2:\n",
    "        #     print(f'System {molecule.get_chemical_formula()} is closed-shell: Oxygen')\n",
    "        #     return True \n",
    "        \n",
    "        # # CO and CO2\n",
    "        # if not 'H' in molecule.get_chemical_formula() and len(molecule.get_chemical_symbols()['C']) == 1 and len(molecule.get_chemical_symbols()['O']) in (1,2):\n",
    "        #     print(f'System {molecule.get_chemical_formula()} is closed-shell: CO or CO2')\n",
    "        #     return True\n",
    "        \n",
    "        # if unsat_nodes:\n",
    "        #     # If the molecule has only one unsaturated node, then it is open-shell\n",
    "        #     if len(unsat_nodes) == 1:\n",
    "        #         print(f'System {molecule.get_chemical_formula()} is open-shell')\n",
    "        #         return False \n",
    "        #     else:\n",
    "        #         # Checking if there is one unsaturated node that does not have as neighbour another unsaturated node\n",
    "        #         for node in unsat_nodes:\n",
    "        #             # If the molecule has only one unsaturated node, then it is open-shell\n",
    "        #             if not [n for n in graph.neighbors(node) if n in unsat_nodes]:\n",
    "        #                 print(f'System {molecule.get_chemical_formula()} is open-shell: one node is unsaturated but does not have as neighbour another unsaturated node')\n",
    "        #                 return False \n",
    "        #             else:\n",
    "        #                 # Case for molecules where an unsaturated node is oxygen\n",
    "        #                 if graph.nodes[node][\"elem\"] == 'O':\n",
    "        #                     # Adding one bond order (valence electrons) to the oxygen node by adding it to the unsat_nodes list"
   ]
  },
  {
   "cell_type": "code",
   "execution_count": 30,
   "metadata": {},
   "outputs": [
    {
     "data": {
      "text/plain": [
       "True"
      ]
     },
     "execution_count": 30,
     "metadata": {},
     "output_type": "execute_result"
    }
   ],
   "source": [
    "is_closed_shell_santi(rxn_net.intermediates['121101'])"
   ]
  },
  {
   "cell_type": "code",
   "execution_count": null,
   "metadata": {},
   "outputs": [],
   "source": []
  }
 ],
 "metadata": {
  "kernelspec": {
   "display_name": "gnn",
   "language": "python",
   "name": "python3"
  },
  "language_info": {
   "codemirror_mode": {
    "name": "ipython",
    "version": 3
   },
   "file_extension": ".py",
   "mimetype": "text/x-python",
   "name": "python",
   "nbconvert_exporter": "python",
   "pygments_lexer": "ipython3",
   "version": "3.10.12"
  },
  "orig_nbformat": 4
 },
 "nbformat": 4,
 "nbformat_minor": 2
}
