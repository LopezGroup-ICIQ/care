{
 "cells": [
  {
   "cell_type": "code",
   "execution_count": null,
   "metadata": {},
   "outputs": [],
   "source": [
    "import pickle\n",
    "from GAMERNet.rnet.networks.reaction_network import ReactionNetwork\n",
    "from graph_tool.topology import all_paths, shortest_path\n",
    "from graph_tool import Graph\n",
    "import pprint as pp"
   ]
  },
  {
   "cell_type": "code",
   "execution_count": null,
   "metadata": {},
   "outputs": [],
   "source": [
    "with open('../scripts/C2_Cu100/rxn_net.pkl', 'rb') as pickle_file:\n",
    "    content = pickle.load(pickle_file)  # dict of elementary reactions\n",
    "\n",
    "rxn_net = ReactionNetwork().from_dict(content)\n",
    "\n",
    "rxn_net_graph = rxn_net.gen_graph()"
   ]
  },
  {
   "cell_type": "code",
   "execution_count": null,
   "metadata": {},
   "outputs": [],
   "source": [
    "# Remove edges that contain the following species (avoiding getting unwanted paths)\n",
    "edge_rm_lst = []\n",
    "for edge in rxn_net_graph.edges():\n",
    "    ignored_species = set(['000000*', '010101*', '011101*', '001101*'])\n",
    "    if ignored_species.intersection(set(edge)):\n",
    "        edge_rm_lst.append(edge)\n",
    "rxn_net_graph.remove_edges_from(edge_rm_lst)\n",
    "print('Edges removed: ', len(edge_rm_lst))"
   ]
  },
  {
   "cell_type": "code",
   "execution_count": null,
   "metadata": {},
   "outputs": [],
   "source": [
    "vertex_map = {name: index for index, name in enumerate(set([v for edge in rxn_net_graph.edges() for v in edge]))}\n",
    "vertex_map"
   ]
  },
  {
   "cell_type": "code",
   "execution_count": null,
   "metadata": {},
   "outputs": [],
   "source": [
    "integer_edge_list = [[vertex_map[edge[0]], vertex_map[edge[1]]] for edge in rxn_net_graph.edges()]\n",
    "integer_edge_list.extend([[vertex_map[edge[1]], vertex_map[edge[0]]] for edge in rxn_net_graph.edges()])"
   ]
  },
  {
   "cell_type": "code",
   "execution_count": null,
   "metadata": {},
   "outputs": [],
   "source": [
    "graph_tool_graph = Graph(directed=True)\n",
    "graph_tool_graph.add_edge_list(integer_edge_list)"
   ]
  },
  {
   "cell_type": "code",
   "execution_count": null,
   "metadata": {},
   "outputs": [],
   "source": [
    "starting_point = vertex_map['102101g']\n",
    "ending_point = vertex_map['260101g']\n"
   ]
  },
  {
   "cell_type": "code",
   "execution_count": null,
   "metadata": {},
   "outputs": [],
   "source": [
    "all_pths = all_paths(graph_tool_graph, starting_point, ending_point,cutoff=10)"
   ]
  },
  {
   "cell_type": "code",
   "execution_count": null,
   "metadata": {},
   "outputs": [],
   "source": [
    "all_paths_lst = []\n",
    "for pth in all_pths:\n",
    "    # Assigning the path to the graph\n",
    "    path = []\n",
    "    for node in pth:\n",
    "        path.append(list(vertex_map.keys())[list(vertex_map.values()).index(node)])\n",
    "    all_paths_lst.append(path)\n",
    "\n",
    "all_paths_lst\n",
    "pp.pprint(all_paths_lst)\n",
    "\n",
    "# Printing the number of paths\n",
    "print(\"Number of paths: \", len(all_paths_lst))"
   ]
  },
  {
   "cell_type": "code",
   "execution_count": null,
   "metadata": {},
   "outputs": [],
   "source": [
    "shortest_pth = shortest_path(graph_tool_graph, starting_point, ending_point)\n",
    "\n",
    "shortest_pth_labels = [list(vertex_map.keys())[list(vertex_map.values()).index(node)] for node in shortest_pth[0]]\n",
    "shortest_pth_labels"
   ]
  },
  {
   "cell_type": "code",
   "execution_count": null,
   "metadata": {},
   "outputs": [],
   "source": []
  }
 ],
 "metadata": {
  "kernelspec": {
   "display_name": "care",
   "language": "python",
   "name": "python3"
  },
  "language_info": {
   "codemirror_mode": {
    "name": "ipython",
    "version": 3
   },
   "file_extension": ".py",
   "mimetype": "text/x-python",
   "name": "python",
   "nbconvert_exporter": "python",
   "pygments_lexer": "ipython3",
   "version": "3.10.12"
  },
  "orig_nbformat": 4
 },
 "nbformat": 4,
 "nbformat_minor": 2
}
