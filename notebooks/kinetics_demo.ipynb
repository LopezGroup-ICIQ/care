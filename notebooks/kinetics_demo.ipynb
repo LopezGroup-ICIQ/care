{
 "cells": [
  {
   "cell_type": "markdown",
   "metadata": {},
   "source": [
    "# Running microkinetic simulations with CARE\n",
    "\n",
    "This notebook tutorial provides a basic example on how to run microkinetic modeling (MKM) simulations of CRNs built with CARE.\n",
    "We provide two ways to run simulations: with solvers implemented with Scipy, or with Julia solvers. Both options employ BDF stiff solvers as default."
   ]
  },
  {
   "cell_type": "markdown",
   "metadata": {},
   "source": [
    "## Load CRN\n",
    "\n",
    "Generate the CRN with the care_run script. We will use a small CRN as case study, the C1O2 (*ncc* = 1, *noc* = 2) in thermal conditions on Ru(10m11), defined in the ``src/care/scripts/example_c1o2.toml``\n",
    "\n",
    "```bash\n",
    "care_run -i path_to_example_c1o2.toml\n",
    "```"
   ]
  },
  {
   "cell_type": "code",
   "execution_count": null,
   "metadata": {},
   "outputs": [],
   "source": [
    "from pickle import load\n",
    "\n",
    "with open('./C1O2_Ru10m11/crn.pkl', \"rb\") as pickle_file:\n",
    "    crn = load(pickle_file)\n",
    "\n",
    "print(crn)"
   ]
  },
  {
   "cell_type": "markdown",
   "metadata": {},
   "source": [
    "Microkinetic simulations are performed by calling the class method ``ReactionNetwork.run_microkinetic()``"
   ]
  },
  {
   "cell_type": "code",
   "execution_count": null,
   "metadata": {},
   "outputs": [],
   "source": [
    "print(crn.run_microkinetic.__doc__)"
   ]
  },
  {
   "cell_type": "markdown",
   "metadata": {},
   "source": [
    "## MKM inputs"
   ]
  },
  {
   "cell_type": "code",
   "execution_count": null,
   "metadata": {},
   "outputs": [],
   "source": [
    "T = 450  # Absolute temperature (K)\n",
    "P = 1e6  # Total pressure (Pa)\n",
    "operating_conditions = {'T': T, 'P': P}\n",
    "\n",
    "y_CO = 0.3  # Mole fraction of CO in the feed\n",
    "y_CO2 = 0.1  # Mole fraction of CO2 in the feed\n",
    "y_H2 = 0.6  # Mole fraction of H2 in the feed\n",
    "y_feed = {'CO': y_CO, 'CO2': y_CO2, 'H2': y_H2}"
   ]
  },
  {
   "cell_type": "markdown",
   "metadata": {},
   "source": [
    "## MKM with Scipy\n",
    "\n"
   ]
  },
  {
   "cell_type": "code",
   "execution_count": null,
   "metadata": {},
   "outputs": [],
   "source": [
    "results = crn.run_microkinetic(iv=y_feed, \n",
    "                               oc=operating_conditions, \n",
    "                               uq=False, \n",
    "                               thermo=False,\n",
    "                               solver='Python',\n",
    "                               barrier_threshold=3.0,   \n",
    "                               ss_tol=1e-10,\n",
    "                               tfin=1e7,\n",
    "                               eapp=False, \n",
    "                               gpu=False)  \n"
   ]
  },
  {
   "cell_type": "code",
   "execution_count": null,
   "metadata": {},
   "outputs": [],
   "source": [
    "print(results)"
   ]
  },
  {
   "cell_type": "markdown",
   "metadata": {},
   "source": [
    "Observations:\n",
    "- The output dictionary follows the same structure of a typical ODE run with SciPy, including additional entries related to the (i) steady-state reaction rates (``forward_rate``, ``backward_rate``, ``net_rate``), (ii) ``consumption rate`` (cr) matrix where cr_{i,j} corresponds to the consumption rate of species i due to reaction j (if negative the species is consumed, positive produced), (iii) intermediates labels ``inters``, (iv) ``run_graph`` in NetworkX format. ``y`` contains the final surface coverage for the species.\n",
    "- On the author machine, Integration with SciPy took 0.74 seconds."
   ]
  },
  {
   "cell_type": "markdown",
   "metadata": {},
   "source": [
    "## MKM with Julia"
   ]
  },
  {
   "cell_type": "markdown",
   "metadata": {},
   "source": [
    "### CPU"
   ]
  },
  {
   "cell_type": "code",
   "execution_count": null,
   "metadata": {},
   "outputs": [],
   "source": [
    "results = crn.run_microkinetic(iv=y_feed, \n",
    "                               oc=operating_conditions, \n",
    "                               uq=False, \n",
    "                               thermo=False,\n",
    "                               solver='Julia',\n",
    "                               barrier_threshold=3.0,   \n",
    "                               ss_tol=1e-10,\n",
    "                               tfin=1e7,\n",
    "                               eapp=False, \n",
    "                               gpu=False)  "
   ]
  },
  {
   "cell_type": "markdown",
   "metadata": {},
   "source": [
    "Observations: \n",
    "- You will see that the Julia option takes more time than the SciPy-based option (23.6 seconds on the author machine vs. 0.8 seconds with SciPy), this is due to the initial overhead required to compile the required dependencies."
   ]
  },
  {
   "cell_type": "markdown",
   "metadata": {},
   "source": [
    "### GPU\n",
    "\n",
    "You need a GPU with CUDA to run the next part of the code.\n",
    "\n",
    "Fixing!"
   ]
  },
  {
   "cell_type": "code",
   "execution_count": null,
   "metadata": {},
   "outputs": [],
   "source": [
    "results = crn.run_microkinetic(iv=y_feed, \n",
    "                               oc=operating_conditions, \n",
    "                               uq=False, \n",
    "                               thermo=False,\n",
    "                               solver='Julia',\n",
    "                               barrier_threshold=3.0,   \n",
    "                               ss_tol=1e-10,\n",
    "                               tfin=1e7,\n",
    "                               eapp=False, \n",
    "                               gpu=True)  "
   ]
  }
 ],
 "metadata": {
  "kernelspec": {
   "display_name": "carep",
   "language": "python",
   "name": "python3"
  },
  "language_info": {
   "codemirror_mode": {
    "name": "ipython",
    "version": 3
   },
   "file_extension": ".py",
   "mimetype": "text/x-python",
   "name": "python",
   "nbconvert_exporter": "python",
   "pygments_lexer": "ipython3",
   "version": "3.11.9"
  }
 },
 "nbformat": 4,
 "nbformat_minor": 2
}
