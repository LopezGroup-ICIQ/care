{
 "cells": [
  {
   "cell_type": "code",
   "execution_count": null,
   "metadata": {},
   "outputs": [],
   "source": [
    "from fairchem.core.models.model_registry import available_pretrained_models\n",
    "available_pretrained_models"
   ]
  },
  {
   "cell_type": "code",
   "execution_count": null,
   "metadata": {},
   "outputs": [],
   "source": [
    "from fairchem.core.models.model_registry import model_name_to_local_file\n",
    "\n",
    "checkpoint_path = model_name_to_local_file('EquiformerV2-31M-S2EF-OC20-All+MD', local_cache='/tmp/fairchem_checkpoints/')\n",
    "checkpoint_path\n"
   ]
  },
  {
   "cell_type": "code",
   "execution_count": null,
   "metadata": {},
   "outputs": [],
   "source": [
    "from fairchem.core.common.relaxation.ase_utils import OCPCalculator\n",
    "from ase.build import fcc111, add_adsorbate\n",
    "from ase.optimize import BFGS\n",
    "import matplotlib.pyplot as plt\n",
    "from ase.visualize.plot import plot_atoms\n",
    "\n",
    "# Define the model atomic system, a Pt(111) slab with an *O adsorbate!\n",
    "slab = fcc111('Rh', size=(2, 2, 5), vacuum=10.0)\n",
    "add_adsorbate(slab, 'H', height=1.2, position='fcc')\n",
    "\n",
    "# Load the pre-trained checkpoint!\n",
    "calc = OCPCalculator(checkpoint_path=checkpoint_path, cpu=True)\n",
    "slab.set_calculator(calc)\n",
    "\n",
    "# Run the optimization!\n",
    "opt = BFGS(slab)\n",
    "opt.run(fmax=0.05, steps=100)\n",
    "\n",
    "# Visualize the result!\n",
    "fig, axs = plt.subplots(1, 2)\n",
    "plot_atoms(slab, axs[0])\n",
    "plot_atoms(slab, axs[1], rotation=('-90x'))\n",
    "axs[0].set_axis_off()\n",
    "axs[1].set_axis_off()"
   ]
  },
  {
   "cell_type": "code",
   "execution_count": null,
   "metadata": {},
   "outputs": [],
   "source": [
    "slab.get_potential_energy()"
   ]
  },
  {
   "cell_type": "code",
   "execution_count": null,
   "metadata": {},
   "outputs": [],
   "source": [
    "from care.evaluators.oc20models import OC20IntermediateEvaluator\n"
   ]
  },
  {
   "cell_type": "code",
   "execution_count": null,
   "metadata": {},
   "outputs": [],
   "source": [
    "calc = OC20IntermediateEvaluator(checkpoint_path=checkpoint_path, cpu=True)"
   ]
  },
  {
   "cell_type": "code",
   "execution_count": null,
   "metadata": {},
   "outputs": [],
   "source": [
    "from pickle import load"
   ]
  },
  {
   "cell_type": "code",
   "execution_count": null,
   "metadata": {},
   "outputs": [],
   "source": [
    "with open('/tmp/C1O2_Ru10m11_OCP_equiformerV2/crn.pkl', 'rb') as f:\n",
    "    crn = load(f)"
   ]
  },
  {
   "cell_type": "code",
   "execution_count": null,
   "metadata": {},
   "outputs": [],
   "source": [
    "crn.intermediates"
   ]
  },
  {
   "cell_type": "code",
   "execution_count": null,
   "metadata": {},
   "outputs": [],
   "source": [
    "crn.visualize_intermediate('OKKJLVBELUTLKV-UHFFFAOYSA-N*')"
   ]
  },
  {
   "cell_type": "code",
   "execution_count": null,
   "metadata": {},
   "outputs": [],
   "source": []
  }
 ],
 "metadata": {
  "kernelspec": {
   "display_name": "carep2",
   "language": "python",
   "name": "python3"
  },
  "language_info": {
   "codemirror_mode": {
    "name": "ipython",
    "version": 3
   },
   "file_extension": ".py",
   "mimetype": "text/x-python",
   "name": "python",
   "nbconvert_exporter": "python",
   "pygments_lexer": "ipython3",
   "version": "3.11.9"
  }
 },
 "nbformat": 4,
 "nbformat_minor": 2
}
